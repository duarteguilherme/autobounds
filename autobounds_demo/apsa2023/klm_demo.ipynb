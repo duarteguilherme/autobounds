{
 "cells": [
  {
   "cell_type": "code",
   "execution_count": null,
   "id": "f1564fe5",
   "metadata": {},
   "outputs": [],
   "source": [
    "!pip install plotnine networkx"
   ]
  },
  {
   "cell_type": "code",
   "execution_count": 1,
   "id": "5cc0fbe7-dc61-4749-b397-3d539e8d05fb",
   "metadata": {},
   "outputs": [],
   "source": [
    "# load autobounds components used in this demo\n",
    "from autobounds.causalProblem import causalProblem\n",
    "from autobounds.DAG import DAG\n",
    "from autobounds.Query import Query\n",
    "\n",
    "# load additional dependencies\n",
    "import pandas as pd\n",
    "import statsmodels.formula.api as smf\n",
    "import plotnine as pn\n",
    "\n",
    "# configure plotting options\n",
    "pn.options.figure_size = (8, 4)"
   ]
  },
  {
   "cell_type": "markdown",
   "id": "e372cd1c-2bb8-46ed-9d59-8ce782380117",
   "metadata": {},
   "source": [
    "# Estimating treatment effects under post-treatment selection: <br>An introduction to `autobounds`\n",
    "\n",
    "Kai Cooper, Guilherme Duarte, and Dean Knox"
   ]
  },
  {
   "cell_type": "markdown",
   "id": "157e97d2-782d-4db2-b954-6878cd2dc71d",
   "metadata": {},
   "source": [
    "This notebook introduces `autobounds` (Duarte et al., 2023), a method for automatically drawing principled inferences in the presence of common imperfections in data and design. It illustrates how `autobounds` can be used to obtain sharp bounds—the narrowest possible range of conclusions consistent with available, imperfect information—by extending Knox, Lowe, and Mummolo (2020)'s analysis of racial bias in New York Police Department (NYPD) use of force.\n",
    "\n",
    "- Section 1 introduces the empirical analysis of policing and its inherent selection issues, the running example in this notebook.\n",
    "- Section 2 states the causal effects of interest to the analyst and describes various assumptions that analysts might use.\n",
    "- Section 3 shows how to use `autobounds` to compute sharp bounds and probe sensitivity to assumptions. "
   ]
  },
  {
   "cell_type": "markdown",
   "id": "126a128c-61a1-4573-bb3a-3ac3140c3ddc",
   "metadata": {},
   "source": [
    "# 1. Design and data"
   ]
  },
  {
   "cell_type": "markdown",
   "id": "294c7a20-84ce-4a26-b9c5-f28b60c8726c",
   "metadata": {},
   "source": [
    "Knox, Lowe, and Mummolo (2020) analyzes the use of force by NYPD officers in \"stop, question, and frisk\" encounters from 2003 to 2013, revisiting a prior analysis in Fryer (2019). The key question is whether minority civilians are subject to racial bias in the decision to use force.\n",
    "\n",
    "For the purposes of this illustration, we will focus on one of many analyses in the paper: whether white ($D=0$) and black ($D=1$) civilians are subject to different amounts of force. For clarity of exposition, we will omit additional covariates on civilian gender, age, behavior, time, location, and so on. As the paper shows, conclusions remain substantively similar when adjusting for this information—more often than not, the addition of controls slightly strengthens the estimated disparities. In this exercise, we will define the outcome $Y=0$ to mean the use of no force and $Y=1$ as an officer's decision to use any amount of force, from the laying of hands on a civilian to more severe acts like the use of a baton or pepper spray. A variety of force thresholds are examined in the original paper.\n",
    "\n",
    "The central methodological challenge identified in the paper is that analyses of police administrative stop records must inherently condition on the existence of a stop record, which depends on an officer's often-discretionary decision to initiate the stop, denoted $M$. \n",
    "In other words, every row in the data represents an police-civilian encounter in which a stop that was made ($M=1$), but encounters in which no stop was made ($M=0$) do not appear in the data. In fact, analysts do not even have information about the number of these non-stop encounters.\n",
    "\n",
    "This stopping decision may itself be discriminatory, i.e. depend on civilian race. Moreover, this stopping decision also affects the use of force, because officers typically do not use force on civilians that they do not first detain. $M$ is therefore a mediator between the treatment $D$ and outcome $Y$. Therefore, the data is selected on a post-treatment variable that also mediates the effect of treatment. The paper argues that unobserved factors, $U$, are likely to jointly influence officers decisions to stop and use force. The theorized causal graph is shown below.\n",
    "\n",
    "![image](images/klm_dag.png)\n",
    "\n",
    "Next, we will present some exploratory analyses to introduce the data and design."
   ]
  },
  {
   "cell_type": "markdown",
   "id": "6de961c7",
   "metadata": {},
   "source": [
    "## 1.a. Load and inspect raw data\n",
    "\n",
    "In this subsection, we will import the data and examine some summary statistics."
   ]
  },
  {
   "cell_type": "code",
   "execution_count": 2,
   "id": "893cd4da-60a3-47b6-8419-73526104f15c",
   "metadata": {
    "scrolled": true
   },
   "outputs": [],
   "source": [
    "data = pd.read_csv(\"klm_demo_bw_anyforce.csv\")"
   ]
  },
  {
   "cell_type": "code",
   "execution_count": 3,
   "id": "ed8b7e30",
   "metadata": {},
   "outputs": [
    {
     "data": {
      "text/plain": [
       "(2874532, 3)"
      ]
     },
     "execution_count": 3,
     "metadata": {},
     "output_type": "execute_result"
    }
   ],
   "source": [
    "# 2,874,532 rows x 3 columns\n",
    "data.shape"
   ]
  },
  {
   "cell_type": "code",
   "execution_count": 4,
   "id": "c77c5f48-842c-42a1-9f95-7bfe0d4ebc4b",
   "metadata": {
    "scrolled": true
   },
   "outputs": [
    {
     "data": {
      "text/html": [
       "<div>\n",
       "<style scoped>\n",
       "    .dataframe tbody tr th:only-of-type {\n",
       "        vertical-align: middle;\n",
       "    }\n",
       "\n",
       "    .dataframe tbody tr th {\n",
       "        vertical-align: top;\n",
       "    }\n",
       "\n",
       "    .dataframe thead th {\n",
       "        text-align: right;\n",
       "    }\n",
       "</style>\n",
       "<table border=\"1\" class=\"dataframe\">\n",
       "  <thead>\n",
       "    <tr style=\"text-align: right;\">\n",
       "      <th></th>\n",
       "      <th>D</th>\n",
       "      <th>M</th>\n",
       "      <th>Y</th>\n",
       "    </tr>\n",
       "  </thead>\n",
       "  <tbody>\n",
       "    <tr>\n",
       "      <th>2272684</th>\n",
       "      <td>1</td>\n",
       "      <td>1</td>\n",
       "      <td>0</td>\n",
       "    </tr>\n",
       "    <tr>\n",
       "      <th>725635</th>\n",
       "      <td>1</td>\n",
       "      <td>1</td>\n",
       "      <td>0</td>\n",
       "    </tr>\n",
       "    <tr>\n",
       "      <th>1260001</th>\n",
       "      <td>0</td>\n",
       "      <td>1</td>\n",
       "      <td>0</td>\n",
       "    </tr>\n",
       "    <tr>\n",
       "      <th>460617</th>\n",
       "      <td>1</td>\n",
       "      <td>1</td>\n",
       "      <td>0</td>\n",
       "    </tr>\n",
       "    <tr>\n",
       "      <th>2843977</th>\n",
       "      <td>1</td>\n",
       "      <td>1</td>\n",
       "      <td>0</td>\n",
       "    </tr>\n",
       "  </tbody>\n",
       "</table>\n",
       "</div>"
      ],
      "text/plain": [
       "         D  M  Y\n",
       "2272684  1  1  0\n",
       "725635   1  1  0\n",
       "1260001  0  1  0\n",
       "460617   1  1  0\n",
       "2843977  1  1  0"
      ]
     },
     "execution_count": 4,
     "metadata": {},
     "output_type": "execute_result"
    }
   ],
   "source": [
    "# examine random sample\n",
    "data.sample(5)"
   ]
  },
  {
   "cell_type": "code",
   "execution_count": 5,
   "id": "2316aa30",
   "metadata": {},
   "outputs": [
    {
     "data": {
      "text/plain": [
       "D    0.857329\n",
       "M    1.000000\n",
       "Y    0.214302\n",
       "dtype: float64"
      ]
     },
     "execution_count": 5,
     "metadata": {},
     "output_type": "execute_result"
    }
   ],
   "source": [
    "# examine \n",
    "data.mean()"
   ]
  },
  {
   "cell_type": "markdown",
   "id": "ebed919f",
   "metadata": {},
   "source": [
    "That is, 100% of encounters in the dataset involved a stop, due to the inherently selected nature of police administrative data. Of these stops, 86% were of Black civilians. Police officers used at least some force in 21% of all stops."
   ]
  },
  {
   "cell_type": "code",
   "execution_count": 6,
   "id": "0d5c04f0-8ed9-4f18-888d-56afc54668a1",
   "metadata": {},
   "outputs": [
    {
     "data": {
      "text/plain": [
       "D  M  Y\n",
       "0  1  1      66182\n",
       "      0     343930\n",
       "1  1  1     549836\n",
       "      0    1914584\n",
       "Name: count, dtype: int64"
      ]
     },
     "execution_count": 6,
     "metadata": {},
     "output_type": "execute_result"
    }
   ],
   "source": [
    "# count number of units with each combination of D, M, Y\n",
    "(\n",
    "    data\n",
    "    .value_counts()\n",
    "    .sort_values()    \n",
    ")"
   ]
  },
  {
   "cell_type": "code",
   "execution_count": 7,
   "id": "5cb16e56",
   "metadata": {
    "scrolled": true
   },
   "outputs": [
    {
     "data": {
      "image/png": "[encoded data removed]",
      "text/plain": [
       "<Figure size 800x400 with 1 Axes>"
      ]
     },
     "metadata": {
      "image/png": {
       "height": 400,
       "width": 800
      }
     },
     "output_type": "display_data"
    },
    {
     "data": {
      "text/plain": [
       "<Figure Size: (800 x 400)>"
      ]
     },
     "execution_count": 7,
     "metadata": {},
     "output_type": "execute_result"
    }
   ],
   "source": [
    "# generate informative variable names for plotting\n",
    "data = data.assign(\n",
    "    D_label = data.D.map({0 : \"black civ\", 1 : \"white civ\"}),\n",
    "    M_label = data.M.map({0 : \"not stopped\", 1 : \"stopped\"}),\n",
    "    Y_label = data.Y.map({0 : \"no force used\", 1 : \"at least some force used\"})\n",
    ")\n",
    "\n",
    "# create initial visualization\n",
    "(\n",
    "    pn.ggplot(data,\n",
    "              pn.aes(x = \"D_label\",\n",
    "                     fill = \"Y_label\"\n",
    "                    )\n",
    "             ) \n",
    "    + pn.facet_wrap(\"M_label\")\n",
    "    + pn.geom_histogram(binwidth = 1, position = 'dodge')\n",
    "    + pn.ylab(\"Frequency\")\n",
    "    + pn.theme_light()\n",
    ")"
   ]
  },
  {
   "cell_type": "markdown",
   "id": "b89eea23",
   "metadata": {},
   "source": [
    "---"
   ]
  },
  {
   "cell_type": "markdown",
   "id": "e725fbc7",
   "metadata": {},
   "source": [
    "## 1.b. Conduct preliminary analyses\n",
    "\n",
    "In this subsection, we will conduct a preliminary regression analysis that blindly ignores the presence of selection. This is the approach used in Fryer (2019)."
   ]
  },
  {
   "cell_type": "code",
   "execution_count": 8,
   "id": "31bb2ded-805b-4f41-b618-cb6eb3b34a20",
   "metadata": {
    "scrolled": true
   },
   "outputs": [
    {
     "data": {
      "text/html": [
       "<table class=\"simpletable\">\n",
       "<caption>OLS Regression Results</caption>\n",
       "<tr>\n",
       "  <th>Dep. Variable:</th>            <td>Y</td>        <th>  R-squared:         </th>  <td>   0.003</td>  \n",
       "</tr>\n",
       "<tr>\n",
       "  <th>Model:</th>                   <td>OLS</td>       <th>  Adj. R-squared:    </th>  <td>   0.003</td>  \n",
       "</tr>\n",
       "<tr>\n",
       "  <th>Method:</th>             <td>Least Squares</td>  <th>  F-statistic:       </th>  <td>   7980.</td>  \n",
       "</tr>\n",
       "<tr>\n",
       "  <th>Date:</th>             <td>Tue, 29 Aug 2023</td> <th>  Prob (F-statistic):</th>   <td>  0.00</td>   \n",
       "</tr>\n",
       "<tr>\n",
       "  <th>Time:</th>                 <td>05:44:22</td>     <th>  Log-Likelihood:    </th> <td>-1.5142e+06</td>\n",
       "</tr>\n",
       "<tr>\n",
       "  <th>No. Observations:</th>      <td>2874532</td>     <th>  AIC:               </th>  <td>3.028e+06</td> \n",
       "</tr>\n",
       "<tr>\n",
       "  <th>Df Residuals:</th>          <td>2874530</td>     <th>  BIC:               </th>  <td>3.029e+06</td> \n",
       "</tr>\n",
       "<tr>\n",
       "  <th>Df Model:</th>              <td>     1</td>      <th>                     </th>      <td> </td>     \n",
       "</tr>\n",
       "<tr>\n",
       "  <th>Covariance Type:</th>      <td>nonrobust</td>    <th>                     </th>      <td> </td>     \n",
       "</tr>\n",
       "</table>\n",
       "<table class=\"simpletable\">\n",
       "<tr>\n",
       "      <td></td>         <th>coef</th>     <th>std err</th>      <th>t</th>      <th>P>|t|</th>  <th>[0.025</th>    <th>0.975]</th>  \n",
       "</tr>\n",
       "<tr>\n",
       "  <th>Intercept</th> <td>    0.1614</td> <td>    0.001</td> <td>  252.203</td> <td> 0.000</td> <td>    0.160</td> <td>    0.163</td>\n",
       "</tr>\n",
       "<tr>\n",
       "  <th>D</th>         <td>    0.0617</td> <td>    0.001</td> <td>   89.333</td> <td> 0.000</td> <td>    0.060</td> <td>    0.063</td>\n",
       "</tr>\n",
       "</table>\n",
       "<table class=\"simpletable\">\n",
       "<tr>\n",
       "  <th>Omnibus:</th>       <td>539963.759</td> <th>  Durbin-Watson:     </th>  <td>   1.690</td> \n",
       "</tr>\n",
       "<tr>\n",
       "  <th>Prob(Omnibus):</th>   <td> 0.000</td>   <th>  Jarque-Bera (JB):  </th> <td>920931.891</td>\n",
       "</tr>\n",
       "<tr>\n",
       "  <th>Skew:</th>            <td> 1.386</td>   <th>  Prob(JB):          </th>  <td>    0.00</td> \n",
       "</tr>\n",
       "<tr>\n",
       "  <th>Kurtosis:</th>        <td> 2.937</td>   <th>  Cond. No.          </th>  <td>    5.12</td> \n",
       "</tr>\n",
       "</table><br/><br/>Notes:<br/>[1] Standard Errors assume that the covariance matrix of the errors is correctly specified."
      ],
      "text/latex": [
       "\\begin{center}\n",
       "\\begin{tabular}{lclc}\n",
       "\\toprule\n",
       "\\textbf{Dep. Variable:}    &        Y         & \\textbf{  R-squared:         } &      0.003   \\\\\n",
       "\\textbf{Model:}            &       OLS        & \\textbf{  Adj. R-squared:    } &      0.003   \\\\\n",
       "\\textbf{Method:}           &  Least Squares   & \\textbf{  F-statistic:       } &      7980.   \\\\\n",
       "\\textbf{Date:}             & Tue, 29 Aug 2023 & \\textbf{  Prob (F-statistic):} &      0.00    \\\\\n",
       "\\textbf{Time:}             &     05:44:22     & \\textbf{  Log-Likelihood:    } & -1.5142e+06  \\\\\n",
       "\\textbf{No. Observations:} &     2874532      & \\textbf{  AIC:               } &  3.028e+06   \\\\\n",
       "\\textbf{Df Residuals:}     &     2874530      & \\textbf{  BIC:               } &  3.029e+06   \\\\\n",
       "\\textbf{Df Model:}         &           1      & \\textbf{                     } &              \\\\\n",
       "\\textbf{Covariance Type:}  &    nonrobust     & \\textbf{                     } &              \\\\\n",
       "\\bottomrule\n",
       "\\end{tabular}\n",
       "\\begin{tabular}{lcccccc}\n",
       "                   & \\textbf{coef} & \\textbf{std err} & \\textbf{t} & \\textbf{P$> |$t$|$} & \\textbf{[0.025} & \\textbf{0.975]}  \\\\\n",
       "\\midrule\n",
       "\\textbf{Intercept} &       0.1614  &        0.001     &   252.203  &         0.000        &        0.160    &        0.163     \\\\\n",
       "\\textbf{D}         &       0.0617  &        0.001     &    89.333  &         0.000        &        0.060    &        0.063     \\\\\n",
       "\\bottomrule\n",
       "\\end{tabular}\n",
       "\\begin{tabular}{lclc}\n",
       "\\textbf{Omnibus:}       & 539963.759 & \\textbf{  Durbin-Watson:     } &     1.690   \\\\\n",
       "\\textbf{Prob(Omnibus):} &    0.000   & \\textbf{  Jarque-Bera (JB):  } & 920931.891  \\\\\n",
       "\\textbf{Skew:}          &    1.386   & \\textbf{  Prob(JB):          } &      0.00   \\\\\n",
       "\\textbf{Kurtosis:}      &    2.937   & \\textbf{  Cond. No.          } &      5.12   \\\\\n",
       "\\bottomrule\n",
       "\\end{tabular}\n",
       "%\\caption{OLS Regression Results}\n",
       "\\end{center}\n",
       "\n",
       "Notes: \\newline\n",
       " [1] Standard Errors assume that the covariance matrix of the errors is correctly specified."
      ],
      "text/plain": [
       "<class 'statsmodels.iolib.summary.Summary'>\n",
       "\"\"\"\n",
       "                            OLS Regression Results                            \n",
       "==============================================================================\n",
       "Dep. Variable:                      Y   R-squared:                       0.003\n",
       "Model:                            OLS   Adj. R-squared:                  0.003\n",
       "Method:                 Least Squares   F-statistic:                     7980.\n",
       "Date:                Tue, 29 Aug 2023   Prob (F-statistic):               0.00\n",
       "Time:                        05:44:22   Log-Likelihood:            -1.5142e+06\n",
       "No. Observations:             2874532   AIC:                         3.028e+06\n",
       "Df Residuals:                 2874530   BIC:                         3.029e+06\n",
       "Df Model:                           1                                         \n",
       "Covariance Type:            nonrobust                                         \n",
       "==============================================================================\n",
       "                 coef    std err          t      P>|t|      [0.025      0.975]\n",
       "------------------------------------------------------------------------------\n",
       "Intercept      0.1614      0.001    252.203      0.000       0.160       0.163\n",
       "D              0.0617      0.001     89.333      0.000       0.060       0.063\n",
       "==============================================================================\n",
       "Omnibus:                   539963.759   Durbin-Watson:                   1.690\n",
       "Prob(Omnibus):                  0.000   Jarque-Bera (JB):           920931.891\n",
       "Skew:                           1.386   Prob(JB):                         0.00\n",
       "Kurtosis:                       2.937   Cond. No.                         5.12\n",
       "==============================================================================\n",
       "\n",
       "Notes:\n",
       "[1] Standard Errors assume that the covariance matrix of the errors is correctly specified.\n",
       "\"\"\""
      ]
     },
     "execution_count": 8,
     "metadata": {},
     "output_type": "execute_result"
    }
   ],
   "source": [
    "# regression that blindly ignores selection \n",
    "model = smf.ols(\"Y ~ D\", data = data).fit()\n",
    "model.summary()"
   ]
  },
  {
   "cell_type": "markdown",
   "id": "bd5a3a0b-6d35-411b-820d-049d32a2b0c6",
   "metadata": {},
   "source": [
    "This regression suggests that, conditional on selection into the dataset, that black civilians are subject to slightly higher rates of force. However, a na&iuml;ve regression suggests that the difference is relatively small, roughly 6 percentage points."
   ]
  },
  {
   "cell_type": "markdown",
   "id": "2c84da05-f2c9-47c1-9d3f-b2594f0a734f",
   "metadata": {},
   "source": [
    "---"
   ]
  },
  {
   "cell_type": "markdown",
   "id": "b68d5dbe-6be3-47e3-ba63-ed13ea5d2241",
   "metadata": {},
   "source": [
    "## 1.c. Prepare summary statistics\n",
    "\n",
    "Finally, we will preprocess the data. `autobounds` works with sufficient statistics that represent the proportion of units with each unique combination of values, so we will first compute these."
   ]
  },
  {
   "cell_type": "code",
   "execution_count": 9,
   "id": "9b7a8a31",
   "metadata": {},
   "outputs": [
    {
     "data": {
      "text/html": [
       "<div>\n",
       "<style scoped>\n",
       "    .dataframe tbody tr th:only-of-type {\n",
       "        vertical-align: middle;\n",
       "    }\n",
       "\n",
       "    .dataframe tbody tr th {\n",
       "        vertical-align: top;\n",
       "    }\n",
       "\n",
       "    .dataframe thead th {\n",
       "        text-align: right;\n",
       "    }\n",
       "</style>\n",
       "<table border=\"1\" class=\"dataframe\">\n",
       "  <thead>\n",
       "    <tr style=\"text-align: right;\">\n",
       "      <th></th>\n",
       "      <th>D</th>\n",
       "      <th>M</th>\n",
       "      <th>Y</th>\n",
       "      <th>counts</th>\n",
       "    </tr>\n",
       "  </thead>\n",
       "  <tbody>\n",
       "    <tr>\n",
       "      <th>0</th>\n",
       "      <td>1</td>\n",
       "      <td>1</td>\n",
       "      <td>0</td>\n",
       "      <td>1914584</td>\n",
       "    </tr>\n",
       "    <tr>\n",
       "      <th>1</th>\n",
       "      <td>1</td>\n",
       "      <td>1</td>\n",
       "      <td>1</td>\n",
       "      <td>549836</td>\n",
       "    </tr>\n",
       "    <tr>\n",
       "      <th>2</th>\n",
       "      <td>0</td>\n",
       "      <td>1</td>\n",
       "      <td>0</td>\n",
       "      <td>343930</td>\n",
       "    </tr>\n",
       "    <tr>\n",
       "      <th>3</th>\n",
       "      <td>0</td>\n",
       "      <td>1</td>\n",
       "      <td>1</td>\n",
       "      <td>66182</td>\n",
       "    </tr>\n",
       "  </tbody>\n",
       "</table>\n",
       "</div>"
      ],
      "text/plain": [
       "   D  M  Y   counts\n",
       "0  1  1  0  1914584\n",
       "1  1  1  1   549836\n",
       "2  0  1  0   343930\n",
       "3  0  1  1    66182"
      ]
     },
     "execution_count": 9,
     "metadata": {},
     "output_type": "execute_result"
    }
   ],
   "source": [
    "# count units with each unique combination of Z, X, Y \n",
    "data_summary = (\n",
    "    data\n",
    "    .loc[:, ['D', 'M', 'Y']]\n",
    "    .value_counts()\n",
    "    .rename('counts')\n",
    "    .reset_index()\n",
    ")\n",
    "data_summary"
   ]
  },
  {
   "cell_type": "code",
   "execution_count": 10,
   "id": "b12e914b",
   "metadata": {},
   "outputs": [
    {
     "data": {
      "text/html": [
       "<div>\n",
       "<style scoped>\n",
       "    .dataframe tbody tr th:only-of-type {\n",
       "        vertical-align: middle;\n",
       "    }\n",
       "\n",
       "    .dataframe tbody tr th {\n",
       "        vertical-align: top;\n",
       "    }\n",
       "\n",
       "    .dataframe thead th {\n",
       "        text-align: right;\n",
       "    }\n",
       "</style>\n",
       "<table border=\"1\" class=\"dataframe\">\n",
       "  <thead>\n",
       "    <tr style=\"text-align: right;\">\n",
       "      <th></th>\n",
       "      <th>D</th>\n",
       "      <th>M</th>\n",
       "      <th>Y</th>\n",
       "      <th>counts</th>\n",
       "      <th>prob</th>\n",
       "    </tr>\n",
       "  </thead>\n",
       "  <tbody>\n",
       "    <tr>\n",
       "      <th>0</th>\n",
       "      <td>1</td>\n",
       "      <td>1</td>\n",
       "      <td>0</td>\n",
       "      <td>1914584</td>\n",
       "      <td>0.666051</td>\n",
       "    </tr>\n",
       "    <tr>\n",
       "      <th>1</th>\n",
       "      <td>1</td>\n",
       "      <td>1</td>\n",
       "      <td>1</td>\n",
       "      <td>549836</td>\n",
       "      <td>0.191278</td>\n",
       "    </tr>\n",
       "    <tr>\n",
       "      <th>2</th>\n",
       "      <td>0</td>\n",
       "      <td>1</td>\n",
       "      <td>0</td>\n",
       "      <td>343930</td>\n",
       "      <td>0.119647</td>\n",
       "    </tr>\n",
       "    <tr>\n",
       "      <th>3</th>\n",
       "      <td>0</td>\n",
       "      <td>1</td>\n",
       "      <td>1</td>\n",
       "      <td>66182</td>\n",
       "      <td>0.023024</td>\n",
       "    </tr>\n",
       "  </tbody>\n",
       "</table>\n",
       "</div>"
      ],
      "text/plain": [
       "   D  M  Y   counts      prob\n",
       "0  1  1  0  1914584  0.666051\n",
       "1  1  1  1   549836  0.191278\n",
       "2  0  1  0   343930  0.119647\n",
       "3  0  1  1    66182  0.023024"
      ]
     },
     "execution_count": 10,
     "metadata": {},
     "output_type": "execute_result"
    }
   ],
   "source": [
    "# divide by the total to get the estimated probability of each type\n",
    "data_summary = data_summary.assign(prob = data_summary.counts / data_summary.counts.sum())\n",
    "data_summary"
   ]
  },
  {
   "cell_type": "markdown",
   "id": "90d1266f",
   "metadata": {},
   "source": [
    "---"
   ]
  },
  {
   "cell_type": "markdown",
   "id": "179c5009-0c5f-4eeb-b3c0-bc004ffb9c75",
   "metadata": {},
   "source": [
    "# 2. Background, assumptions, and estimands\n",
    "\n",
    "In this section, we provide brief background on the instrumental variables model, as well as a discussion of common assumptions and estimands."
   ]
  },
  {
   "cell_type": "markdown",
   "id": "e88983d3",
   "metadata": {},
   "source": [
    "## 2.a. Possible assumptions in analyzing police use of force\n",
    "\n",
    "Knox, Lowe, and Mummolo (2020) discusses a number of assumptions that may be employed in the substantive context of police stops.\n",
    "\n",
    "- **Mandatory reporting:** A plausible assumption is that all uses of force are reported on stop forms. This implies that if officers do not initiate a stop, then they do not go on to use force. Formally, $Y(D=d, M=0) = 0$ for all civilian races $d \\in \\{0, 1\\}$.\n",
    "- **Mediator monotonicity:** If officers discriminate in their stopping decisions, it is likely to be against black civilians. In other words, this assumption states that there is no anti-white discriminatory stopping. Formally, $M(D=1) \\ge M(D=0)$.\n",
    "- **Relative nonseverity of racial stops:** If officers would make different stopping decisions depending on civilian race, so that $M(D=0) \\ne M(D=1)$ while holding all else equal, then the stop is by definition discretionary. In contrast, \"always stop\" encounters are those with $M(D=0) = M(D=1) = 1$. We cannot directly identify which encounters are of which types, but it is assumed that discretionary racial-stop encounters are less severe than always-stop encounters, in the sense that that officers would use less force on average (holding civilian race and stopping decisions fixed) in racial-stop encounters compared to always-stop encounters. Formally,\n",
    "$\\mathbb{E}[ Y(d, m) | \\text{racial stop}] \\le \\mathbb{E}[ Y(d, m) | \\text{always stop}]$.\n",
    "- **Treatment ignorability:** Civilian race is \"as good as randomly assigned\" to encounters after adjusting for covariates (if any are used). Equivalently, black and white civilians appear in circumstances that are objectively no different. This is a structural causal assumption that is encoded in the unconfoundedness of $D$ in the causal graph. As the paper notes, \"every study claiming to estimate racial discrimination using similar data makes this assumption, often implicitly. Our aim in this study is not to assert the plausibility of treatment ignorability, but rather to clarify that deep problems remain even if this well-known issue is somehow solved.\"\n",
    "\n",
    "Next, the paper points out additional, implausible assumptions that prior work such as Fryer (2019) has used, often implicitly:\n",
    "- **Mediator ignorability:** This states that officer stopping decisions are \"as good as randomly assigned\" after accounting for civilian race. Equivalently, it requires that there are no unobserved factors that jointly influence decisions to stop and use force (depicted as $U$ in the graph given in Figure 1). This is a structural assumption that rules out confounding of $M$. It makes little sense in the analysis of policing data, because numerous variables such as officer mental state are not recorded.\n",
    "- **No racial stops:** This states that officers do not discriminate in the decision to stop. It is a structural assumption that rules out the existence of a $D \\to M$ arrow in the graph. In a study of discrimination in one stage of policing (the decision to use force), it makes little sense to assume away discrimination im another stage (the decision to stop).\n",
    "\n",
    "If either the mediator-ignorability or no-racial-stops assumptions are satisfied, then the common approach of running regressions that ignore selection will produce unbiased estimates of one particular causal estimand, discussed below. However, for the reasons identified, these are unlikely to hold in the context of policing."
   ]
  },
  {
   "cell_type": "markdown",
   "id": "6b13bca1",
   "metadata": {},
   "source": [
    "---"
   ]
  },
  {
   "cell_type": "markdown",
   "id": "86fb4395",
   "metadata": {},
   "source": [
    "## 2.b. Implicit estimands in analyses of police stop data\n",
    "\n",
    "Researchers studying discrimination in police violence are interested in estimating an effect of civilian race, $D$, on police use of force, $Y$. However, in a detailed review of the literature, Knox, Lowe, and Mummolo (2020) identified no papers that explicitly identified the precise quantity of interest. Rather, the typical approach is to simply run a regression and informally gesture in the direction of a conclusion.\n",
    "\n",
    "To formalize research objectives and assess whether commonly used methods are capable of achieving these objectives with selected data, Knox, Lowe, and Mummolo (2020) discuss a number of possible estimands that prior work may have targeted:\n",
    "- **Average treatment effect** ($ATE$): The extent to which civilians of color face greater risk of police violence than white civilians because of their race, across all police-civilian encounters. This is a \"total effect\" that captures two related phenomena: first, whether members of the minority are differentially stopped; and second, if they are differentially subject to violence. A key challenge is that analysts do not know the proportion of this full population, all encounters, that are represented in the available data. Formally, it is $\\mathbb{E}[Y(D=1, M(D=1)) - Y(D=0, M(D=0))]$.\n",
    "- **Average treatment effect among the stopped** ($ATE_{M=1}$): The total effect *among the subgroup of encounters that appear in the data*. Conceptually, this involves \"cross-world\" reasoning in which analysts first identify the subgroup of interest using the real world, in terms of how officers made stopping decisions based on civilians' actual race. Then, analysts ask what the effect would be if the subgroup of interest were transported to an alternate world in which white or black civilians were randomized into these encounters, behaving in the same way. It is \"cross world\" because the subgroup of interest cannot be identified in the same world as the experiment. Despite this conceptual challenge, Knox, Lowe, and Mummolo (2020) concludes that this is the estimand most closely corresponding to how research is motivated and conclusions are interpreted in this literature. Formally, it is $\\mathbb{E}[Y(D=1, M(D=1)) - Y(D=0, M(D=0)) | M=1]$.\n",
    "- **Average treatment effect among the stopped and treated** ($ATT_{M=1}$): The total effect *among the subgroup of minority encounters that appear in the data*. This is analogous to the prior estimand, except that it excludes encounters with white civilians. Formally, it is $\\mathbb{E}[Y(D=1, M(D=1)) - Y(D=0, M(D=0)) | D=1, M=1]$.\n",
    "- **Controlled direct effect among the stopped** ($CDE_{M=1}$): This estimand differs from the $ATE_{M=1}$ in its conceptual approach to racially discriminatory stops. Where the $ATE_{M=1}$ asks whether a stop would have occurred at all if the individual were of differing race, the $CDE_{M=1}$ seeks to quantify what would have happened if the officer was forced to stop them anyway, perhaps against the officer's will. Formally, it is $\\mathbb{E}[Y(D=1, M=1) - Y(D=0, M=1) | M=1]$.\n",
    "\n",
    "Knox, Lowe, and Mummolo (2020) examine each of these estimands in turn and show that standard regressions using selected police data fail to recover any of them. In this demonstration, we will focus on bounds for the $ATE_{M=1}$, the formal estimand that most closely resembles the informal interpretation of prior results."
   ]
  },
  {
   "cell_type": "markdown",
   "id": "174dc96d-6fc5-426a-b798-86b841248917",
   "metadata": {},
   "source": [
    "---"
   ]
  },
  {
   "cell_type": "markdown",
   "id": "577c267b-c52b-4816-9d98-c02b6a6b80fd",
   "metadata": {},
   "source": [
    "# 3. Bounding the $ATE_{M=1}$ under plausible assumptions with `autobounds`\n",
    "\n",
    "In this section, we demonstrate the use of `autobounds` by computing sharp bounds on the $ATE_{M=1}$ using the same assumptions used by Knox, Lowe, and Mummolo (2020). In that paper, bounds were obtained analytically, taking roughly 10 weeks of manual algebraic manipulation to derived and 15 pages of appendices to present.\n",
    "\n",
    "To do the same with `autobounds`, we will simply state each piece of the causal-inference problem we would like to solve. A problem is defined by five elements:\n",
    "- The causal graph, or structural assumptions relating the variables\n",
    "- The sample space, or the number of unique values that each variable can take on\n",
    "- Additional functional-form assumptions justified by domain expertise\n",
    "- The empirical evidence, or the data\n",
    "- The quantity of interest, or the estimand\n",
    "\n",
    "The following subsections present code for each of these in turn."
   ]
  },
  {
   "cell_type": "markdown",
   "id": "2f0e22df-f0a5-4050-be46-b1390536735d",
   "metadata": {},
   "source": [
    "## 3.a. Defining the causal graph\n",
    "\n",
    "In this section, we will present a step-by-step demonstration of `autobounds`. As a working example, we will compute sharp bounds on the $ATE_{M=1}$ under the mandatory reporting, mediator monotonicity, relative nonseverity, and treatment ignorability assumptions.\n",
    "\n",
    "First, we will define the assumed directed acyclic graph (DAG). All of the plausible assumptions in this case are structural assumptions that can be represented in this graph. Instatiate an empty DAG via the `DAG` class within the package. Build the structure of the graph with the method `.from_structure()`, which takes two arguments: \n",
    "- `edges`: A comma-separated string listing pairs of connected nodes. E.g. `\"A -> B, B -> C, U -> A, U -> B\"`\n",
    "- `unob`: A comma-separated string listing the nodes that are unobserved disturbances\n",
    "\n",
    "The graph can then be visualized using its `.plot()` method."
   ]
  },
  {
   "cell_type": "code",
   "execution_count": 11,
   "id": "0350effe",
   "metadata": {
    "scrolled": true
   },
   "outputs": [
    {
     "data": {
      "image/png": "[encoded data removed]",
      "text/plain": [
       "<Figure size 640x480 with 1 Axes>"
      ]
     },
     "metadata": {
      "image/png": {
       "height": 480,
       "width": 640
      }
     },
     "output_type": "display_data"
    }
   ],
   "source": [
    "# first initialize an empty graph\n",
    "graph = DAG()\n",
    "\n",
    "# define edges and unobserved disturbances\n",
    "graph.from_structure(\n",
    "    edges = \"Ud -> D, D -> M, D -> Y, M -> Y, Umy -> M, Umy -> Y\",\n",
    "    unob = \"Ud, Umy\"\n",
    ")\n",
    "\n",
    "# visualize the graph\n",
    "graph.plot()"
   ]
  },
  {
   "cell_type": "markdown",
   "id": "2c675d9d",
   "metadata": {},
   "source": [
    "We will begin with the `causalProblem()` constructor, which takes two arguments:\n",
    "- `graph`: the causal structure that the problem involves\n",
    "- `number_values` (optional): a dictionary in which keys are variable names and values are variable cardinalities (binary, ternary, etc.). E.g. `\"{A : 2, B: 3}`. If left unspecified, all variables are assumed to be binary."
   ]
  },
  {
   "cell_type": "code",
   "execution_count": 12,
   "id": "32ebc904",
   "metadata": {},
   "outputs": [],
   "source": [
    "# initialize a causal-inference problem involving the klm dag\n",
    "problem = causalProblem(\n",
    "    graph,\n",
    "    number_values = {\"D\" : 2, \"M\" : 2, \"Y\" : 2}  # for illustration (not needed, same as defaults)\n",
    ")"
   ]
  },
  {
   "cell_type": "markdown",
   "id": "05dce9b7",
   "metadata": {},
   "source": [
    "After initializing this problem, we next add the assumptions that `autobounds` should use.\n",
    "\n",
    "Here, we will introduce the functional assumptions (mandatory reporting, mediator monotonicity, and relative nonseverity) using the `.add_constraint()` method. The fourth assumption, treatment ignorability, is a structural assumption that is already encoded in the causal graph."
   ]
  },
  {
   "cell_type": "markdown",
   "id": "f6d6b18c-c5ae-4bb0-9c32-14c8545ccca5",
   "metadata": {},
   "source": [
    "We will begin with the mandatory reporting assumption, which can be stated nearly verbatim."
   ]
  },
  {
   "cell_type": "code",
   "execution_count": 13,
   "id": "84c111ad",
   "metadata": {},
   "outputs": [],
   "source": [
    "# assumption 1: if no stop is made, no force is used\n",
    "force_used_without_stop = problem.query('Y(M=0)=1')    # define the group\n",
    "problem.add_constraint(force_used_without_stop, '==')  # constrain group size (defaults to 0)"
   ]
  },
  {
   "cell_type": "markdown",
   "id": "089b59f7-0dea-44d3-b686-7b0a55742901",
   "metadata": {},
   "source": [
    "Next, we incorporate the mediator monotonicity assumption, which is also straightforward."
   ]
  },
  {
   "cell_type": "code",
   "execution_count": 14,
   "id": "a81fc8ab-bdab-4852-bc13-d7113d708265",
   "metadata": {},
   "outputs": [],
   "source": [
    "# assumption 2: if officers discriminate in stopping at all, it is likely against black civilians\n",
    "anti_white_stop = problem.query(\"M(D=0)=1 & M(D=1)=0\")  # define the group\n",
    "problem.add_constraint(anti_white_stop, '==')           # constrain group size (defaults to 0)"
   ]
  },
  {
   "cell_type": "markdown",
   "id": "6cdf5187-b397-4296-9d8a-3b21a716cdc2",
   "metadata": {},
   "source": [
    "The nonseverity assumption is more complex for two reasons:\n",
    "1. it is assumed to hold for all $d \\in \\{0, 1\\}$ and all $m \\in \\{0, 1\\}$, meaning it is composed of separate assumptions for each combination of $d$ and $m$ and must be stated in a loop; and\n",
    "2. it involves inequality statements about conditional probabilities, which will be easier when some planned functionalities are implemented, but currently requires a slight workaround."
   ]
  },
  {
   "cell_type": "code",
   "execution_count": 15,
   "id": "bdbf6759-04bf-4bec-b96c-2d71da2f624b",
   "metadata": {},
   "outputs": [],
   "source": [
    "# assumption 3: \n",
    "\n",
    "# define groups (anti-white stops are defined above)\n",
    "always_stop = problem.query(\"M(D=0)=1 & M(D=1)=1\")\n",
    "anti_black_stop = problem.query(\"M(D=0)=0 & M(D=1)=1\")\n",
    "\n",
    "# for all d and m\n",
    "for d in [0, 1]:\n",
    "    for m in [0, 1]:\n",
    "        \n",
    "        # Pr[ force would counterfactually be used under this d and m AND encounter belongs to this group ]\n",
    "        potential_force_dm_and_always_stop = problem.query(\"Y(D={d},M={m})=1 & M(D=0)=1 & M(D=1)=1\".format(d=d, m=m))\n",
    "        potential_force_dm_and_anti_black_stop = problem.query(\"Y(D={d},M={m})=1 & M(D=0)=0 & M(D=1)=1\".format(d=d, m=m))\n",
    "        potential_force_dm_and_anti_white_stop = problem.query(\"Y(D={d},M={m})=1 & M(D=0)=1 & M(D=1)=0\".format(d=d, m=m))\n",
    "\n",
    "        # # by Bayes' rule:\n",
    "        # # Pr[ force would counterfactually be used under this d and m | encounter belongs to this group ]\n",
    "        # # == Pr[ force would counterfactually be used under this d and m AND encounter belongs to this group ] /\n",
    "        # #    Pr[ encounter belongs to this group ]\n",
    "        # potential_force_dm_cond_always_stop = potential_force_dm_and_always_stop / always_stop\n",
    "        # potential_force_dm_cond_anti_black_stop = potential_force_dm_and_anti_black_stop / anti_black_stop\n",
    "        # potential_force_dm_cond_anti_white_stop = potential_force_dm_and_anti_white_stop / anti_white_stop\n",
    "        # # this uses functionality that has not yet been implemented: division operator will be available in a future version\n",
    "        #        \n",
    "        # # assumption 3 as stated:\n",
    "        # problem.add_constraint(potential_force_dm_cond_anti_black_stop, \"<=\", potential_force_dm_cond_always_stop)\n",
    "        # problem.add_constraint(potential_force_dm_cond_anti_white_stop, \"<=\", potential_force_dm_cond_always_stop)\n",
    "        # # this uses functionality that has not yet been implemented: right-hand-side variables will be available in a future version\n",
    "\n",
    "        # using functionality that is currently available, the following is an equivalent but slightly more clunky workaround\n",
    "        problem.add_constraint(\n",
    "            potential_force_dm_and_anti_black_stop * always_stop - potential_force_dm_and_always_stop * anti_black_stop,\n",
    "            \"<=\" \n",
    "            # defaults to 0\n",
    "        )\n",
    "        problem.add_constraint(\n",
    "            potential_force_dm_and_anti_white_stop * always_stop - potential_force_dm_and_always_stop * anti_white_stop,\n",
    "            \"<=\" \n",
    "            # defaults to 0\n",
    "        )\n",
    "        # this is equivalent because\n",
    "        #   potential_force_dm_and_anti_xxx_stop / anti_xxx_stop <= potential_force_dm_and_always_stop / always_stop\n",
    "        #   is equivalent to potential_force_dm_and_anti_x_stop * always_stop <= potential_force_dm_and_always_stop * anti_x_stop\n",
    "        #   is equivalent to potential_force_dm_and_anti_x_stop * always_stop - potential_force_dm_and_always_stop * anti_x_stop <= 0"
   ]
  },
  {
   "cell_type": "markdown",
   "id": "b2f8e5a2-ee8e-4730-b275-9b5509cfb002",
   "metadata": {},
   "source": [
    "In addition to these assumptions based on substantive knowledge of a problem, analysts may wish to incorporate side information based on previous research. For example, previous work by Gelman, Fagan, and Kiss (2007) implies that among black stops, at least 32% of black stops were racially discriminatory. This can be easily incorporated as an additional constraint."
   ]
  },
  {
   "cell_type": "code",
   "execution_count": 16,
   "id": "5b2bca58-8b0f-4bdc-815d-e6d32e8a5357",
   "metadata": {},
   "outputs": [],
   "source": [
    "# incorporating side information: proportion of black stops that would not have been made if white\n",
    "black_and_stop = problem.query(\"D=1 & M=1\")\n",
    "black_and_stop_and_discriminatory = problem.query(\"D=1 & M=1 & M(D=0)=0\")\n",
    "lower_bound_on_prop_black_stops_discriminatory_gfk07 = Query(0.32)\n",
    "\n",
    "# # by Bayes' rule:\n",
    "# # Pr[ would not stop if white | black AND stopped ]\n",
    "# # == Pr[ black AND stopped AND would not stop if white ] / Pr[ black AND stopped ]\n",
    "# discriminatory_cond_black_and_stop = black_and_stop_and_discriminatory / black_and_stop\n",
    "# # this uses functionality that has not yet been implemented: division operator will be available in a future version\n",
    "#\n",
    "# incorporating the side information:\n",
    "# problem.add_constraint(discriminatory_cond_black_and_stop, \">=\", lower_bound_on_prop_black_stops_discriminatory_gfk07) \n",
    "# # this uses functionality that has not yet been implemented: right-hand-side variables will be available in a future version\n",
    "\n",
    "# using functionality that is currently available, the following is an equivalent but slightly more clunky workaround\n",
    "problem.add_constraint(\n",
    "    black_and_stop_and_discriminatory - \n",
    "    lower_bound_on_prop_black_stops_discriminatory_gfk07 * black_and_stop,\n",
    "    \">=\"\n",
    "    # defaults to 0\n",
    ")\n",
    "# this is equivalent because\n",
    "#   black_and_stop_and_discriminatory / black_and_stop >= 0.32\n",
    "#   is equivalent to black_and_stop_and_discriminatory >= 0.32 * black_and_stop\n",
    "#   is equivalent to black_and_stop_and_discriminatory - 0.32 * black_and_stop >= 0"
   ]
  },
  {
   "cell_type": "markdown",
   "id": "aa7fc867-6d0d-4cf9-b8a3-09845caf3435",
   "metadata": {},
   "source": [
    "Currently, we also need to tell `autobounds` about the laws of probability. This is done with the `.add_prob_constraints()` method, but will be automated in the next update."
   ]
  },
  {
   "cell_type": "code",
   "execution_count": 17,
   "id": "0e70a1a9-b2fb-41ce-862f-8b045a113aef",
   "metadata": {},
   "outputs": [],
   "source": [
    "# tell autobounds about the laws of probability\n",
    "# (in a future update this will be handled automatically)\n",
    "problem.add_prob_constraints()"
   ]
  },
  {
   "cell_type": "markdown",
   "id": "bb4f1a4e",
   "metadata": {},
   "source": [
    "The second to last step is to tell `autobounds` about the empirical evidence. The `.load_data()` method accepts summary statistics in the form of a `pandas` `DataFrame` object or a path to a CSV file. It accepts a second, optional argument, `cond`, containing a list of the variables on which the data are conditioned. In this case, all summary statistics are conditional on $M$ (specifically, $M=1$), so the argument `cond = [\"M\"]` is supplied.\n",
    "\n",
    "Regardless of the input format, this must contain (i) one column per variable measured in the dataset, (ii) one row per unique combination of values, and (iii) an additional column named \"prob\" indicating the proportion of units of this type. An example is given in `data_summary` above."
   ]
  },
  {
   "cell_type": "code",
   "execution_count": 18,
   "id": "00cac31d",
   "metadata": {},
   "outputs": [],
   "source": [
    "# load in the data\n",
    "problem.load_data(data_summary, cond = [\"M\"])"
   ]
  },
  {
   "cell_type": "markdown",
   "id": "deeb21e5",
   "metadata": {},
   "source": [
    "The last step is to define the quantity of interest: the ATE of race ($D$) on use of force ($Y$), conditional on a stop having been made ($M=1$). Below, three arguments are provided to the `.set_ate()` method:\n",
    "- `ind`: the name of the independent variable, or treatment\n",
    "- `dep`: the name of the dependent variable, or outcome\n",
    "- `cond`: the subgroup of interest, identified through a separate `.query()` of the problem"
   ]
  },
  {
   "cell_type": "code",
   "execution_count": 19,
   "id": "54a5c3a9",
   "metadata": {},
   "outputs": [],
   "source": [
    "# for numerical stability, currently we need to add a constraint that the subgroup of interest has nonzero size\n",
    "# this will be made automatic in a future version\n",
    "stop = problem.query(\"M=1\")\n",
    "small_positive_number = Query(.01)\n",
    "problem.add_constraint(stop - small_positive_number, \">=\")  # defaults to 0\n",
    "\n",
    "problem.set_ate(ind = \"D\", dep = \"Y\", cond = \"M=1\")"
   ]
  },
  {
   "cell_type": "markdown",
   "id": "26c59a0e-1a16-4da5-903e-e4ab318cc613",
   "metadata": {},
   "source": [
    "Finally, we are ready to compute bounds. To do so, we will first translate the completely specified causal-inference problem into an equivalent *optimization program*. Solving this program with a numeric optimizer (like SCIP in the example below) will produce the desired sharp bounds."
   ]
  },
  {
   "cell_type": "code",
   "execution_count": 20,
   "id": "3f27ac5b-c823-455b-8a87-9f4fbb7bb5ee",
   "metadata": {},
   "outputs": [],
   "source": [
    "# translate causal inference problem into optimization program\n",
    "program = problem.write_program()"
   ]
  },
  {
   "cell_type": "code",
   "execution_count": 21,
   "id": "c8092c41-c147-40b4-a740-04eaecb473ba",
   "metadata": {},
   "outputs": [],
   "source": [
    "program.to_pip('klm_baseline.pip')"
   ]
  },
  {
   "cell_type": "code",
   "execution_count": 22,
   "id": "d712cdce-8049-40ae-b489-902a064ab663",
   "metadata": {},
   "outputs": [
    {
     "name": "stdout",
     "output_type": "stream",
     "text": [
      "UPPER BOUND: # -- Primal: 0.3107266 / Dual: nan / Time: 0.3 ##\n",
      "LOWER BOUND: # -- Primal: 0.1060069 / Dual: -3598819000000000.0 / Time: 5.5 ##\n",
      "UPPER BOUND: # -- Primal: 0.3107266 / Dual: 6967280000000000.0 / Time: 5.5 ##\n",
      "CURRENT THRESHOLDS: # -- Theta: 1.0566099e+16 / Epsilon: 5.16125170171703e+16 ##\n",
      "LOWER BOUND: # -- Primal: 0.1060069 / Dual: -312440.5 / Time: 10.5 ##\n",
      "UPPER BOUND: # -- Primal: 0.3107266 / Dual: 4476984.0 / Time: 10.4 ##\n",
      "CURRENT THRESHOLDS: # -- Theta: 4789424.5 / Epsilon: 23395033.7719345 ##\n",
      "LOWER BOUND: # -- Primal: 0.1060069 / Dual: -3536.835 / Time: 15.5 ##\n",
      "UPPER BOUND: # -- Primal: 0.3107266 / Dual: 11804.99 / Time: 15.4 ##\n",
      "CURRENT THRESHOLDS: # -- Theta: 15341.825 / Epsilon: 74939.6383459921 ##\n",
      "LOWER BOUND: # -- Primal: 0.1060069 / Dual: -2791.273 / Time: 20.5 ##\n",
      "UPPER BOUND: # -- Primal: 0.3107266 / Dual: 11183.53 / Time: 20.3 ##\n",
      "CURRENT THRESHOLDS: # -- Theta: 13974.803 / Epsilon: 68262.10804480467 ##\n",
      "LOWER BOUND: # -- Primal: 0.1060069 / Dual: -1967.785 / Time: 25.5 ##\n",
      "UPPER BOUND: # -- Primal: 0.3107266 / Dual: 10363.34 / Time: 25.4 ##\n",
      "CURRENT THRESHOLDS: # -- Theta: 12331.125 / Epsilon: 60233.1885026209 ##\n",
      "LOWER BOUND: # -- Primal: 0.1060069 / Dual: -1160.0 / Time: 30.5 ##\n",
      "UPPER BOUND: # -- Primal: 0.3107266 / Dual: 9519.698 / Time: 30.4 ##\n",
      "CURRENT THRESHOLDS: # -- Theta: 10679.698 / Epsilon: 52166.41720508578 ##\n",
      "LOWER BOUND: # -- Primal: 0.1060069 / Dual: -375.7286 / Time: 35.5 ##\n",
      "UPPER BOUND: # -- Primal: 0.3107266 / Dual: 8701.4 / Time: 35.4 ##\n",
      "CURRENT THRESHOLDS: # -- Theta: 9077.1286 / Epsilon: 44338.301982173674 ##\n",
      "LOWER BOUND: # -- Primal: 0.1059871 / Dual: 0.0 / Time: 40.3 ##\n",
      "UPPER BOUND: # -- Primal: 0.3107266 / Dual: 7813.667 / Time: 40.4 ##\n",
      "CURRENT THRESHOLDS: # -- Theta: 7813.667 / Epsilon: 38162.94491536806 ##\n",
      "LOWER BOUND: # -- Primal: 0.1058377 / Dual: 0.0194475 / Time: 45.4 ##\n",
      "UPPER BOUND: # -- Primal: 0.3107266 / Dual: 6698.121 / Time: 45.5 ##\n",
      "CURRENT THRESHOLDS: # -- Theta: 6698.1015525 / Epsilon: 32690.383244773144 ##\n",
      "LOWER BOUND: # -- Primal: 0.1047957 / Dual: 0.049807 / Time: 50.2 ##\n",
      "UPPER BOUND: # -- Primal: 0.3107266 / Dual: 5709.602 / Time: 50.5 ##\n",
      "CURRENT THRESHOLDS: # -- Theta: 5709.5521929999995 / Epsilon: 27724.57296160993 ##\n",
      "LOWER BOUND: # -- Primal: 0.1047957 / Dual: 0.06144966 / Time: 55.5 ##\n",
      "UPPER BOUND: # -- Primal: 0.3107266 / Dual: 4760.553 / Time: 55.5 ##\n",
      "CURRENT THRESHOLDS: # -- Theta: 4760.49155034 / Epsilon: 23115.936556582812 ##\n",
      "LOWER BOUND: # -- Primal: 0.1047957 / Dual: 0.07340272 / Time: 60.5 ##\n",
      "UPPER BOUND: # -- Primal: 0.3107266 / Dual: 4022.652 / Time: 60.4 ##\n",
      "CURRENT THRESHOLDS: # -- Theta: 4022.57859728 / Epsilon: 19532.63287044343 ##\n",
      "LOWER BOUND: # -- Primal: 0.1047957 / Dual: 0.07741466 / Time: 65.4 ##\n",
      "UPPER BOUND: # -- Primal: 0.3107266 / Dual: 3254.222 / Time: 65.6 ##\n",
      "CURRENT THRESHOLDS: # -- Theta: 3254.14458534 / Epsilon: 15801.118989136645 ##\n",
      "LOWER BOUND: # -- Primal: 0.1045496 / Dual: 0.08076181 / Time: 70.1 ##\n",
      "UPPER BOUND: # -- Primal: 0.3107266 / Dual: 2426.812 / Time: 70.4 ##\n",
      "CURRENT THRESHOLDS: # -- Theta: 2426.73123819 / Epsilon: 11769.135554353785 ##\n",
      "LOWER BOUND: # -- Primal: 0.1045496 / Dual: 0.08419297 / Time: 75.3 ##\n",
      "UPPER BOUND: # -- Primal: 0.3107266 / Dual: 1592.0 / Time: 75.6 ##\n",
      "CURRENT THRESHOLDS: # -- Theta: 1591.91580703 / Epsilon: 7720.112476318891 ##\n",
      "LOWER BOUND: # -- Primal: 0.1045496 / Dual: 0.08536156 / Time: 80.4 ##\n",
      "UPPER BOUND: # -- Primal: 0.3107266 / Dual: 662.9146 / Time: 80.4 ##\n",
      "CURRENT THRESHOLDS: # -- Theta: 662.8292384399999 / Epsilon: 3213.855383675191 ##\n",
      "LOWER BOUND: # -- Primal: 0.1045494 / Dual: 0.08748793 / Time: 85.6 ##\n",
      "UPPER BOUND: # -- Primal: 0.3107266 / Dual: 1.445829 / Time: 84.9 ##\n",
      "CURRENT THRESHOLDS: # -- Theta: 1.35834107 / Epsilon: 5.588221539530074 ##\n",
      "LOWER BOUND: # -- Primal: 0.1045494 / Dual: 0.08939156 / Time: 90.6 ##\n",
      "UPPER BOUND: # -- Primal: 0.3108389 / Dual: 1.36991 / Time: 90.1 ##\n",
      "CURRENT THRESHOLDS: # -- Theta: 1.28051844 / Epsilon: 5.207385446181218 ##\n",
      "LOWER BOUND: # -- Primal: 0.1045494 / Dual: 0.09173204 / Time: 95.3 ##\n",
      "UPPER BOUND: # -- Primal: 0.3108389 / Dual: 1.02002 / Time: 95.5 ##\n",
      "CURRENT THRESHOLDS: # -- Theta: 0.9282879599999999 / Epsilon: 3.4999283046398393 ##\n",
      "LOWER BOUND: # -- Primal: 0.1045494 / Dual: 0.09265324 / Time: 101.0 ##\n",
      "UPPER BOUND: # -- Primal: 0.3108389 / Dual: 0.7595189 / Time: 101.0 ##\n",
      "CURRENT THRESHOLDS: # -- Theta: 0.66686566 / Epsilon: 2.232668943402355 ##\n",
      "LOWER BOUND: # -- Primal: 0.1045494 / Dual: 0.09358033 / Time: 106.0 ##\n",
      "UPPER BOUND: # -- Primal: 0.3108389 / Dual: 0.616501 / Time: 105.0 ##\n",
      "CURRENT THRESHOLDS: # -- Theta: 0.52292067 / Epsilon: 1.5348874760954874 ##\n",
      "LOWER BOUND: # -- Primal: 0.1045494 / Dual: 0.094518 / Time: 111.0 ##\n",
      "UPPER BOUND: # -- Primal: 0.310845 / Dual: 0.5244741 / Time: 110.0 ##\n",
      "CURRENT THRESHOLDS: # -- Theta: 0.42995610000000006 / Epsilon: 1.0841748442526167 ##\n",
      "LOWER BOUND: # -- Primal: 0.1045494 / Dual: 0.09535059 / Time: 116.0 ##\n",
      "UPPER BOUND: # -- Primal: 0.3108866 / Dual: 0.4831031 / Time: 115.0 ##\n",
      "CURRENT THRESHOLDS: # -- Theta: 0.38775251 / Epsilon: 0.879217659249035 ##\n",
      "LOWER BOUND: # -- Primal: 0.1045494 / Dual: 0.0960312 / Time: 121.0 ##\n",
      "UPPER BOUND: # -- Primal: 0.3108866 / Dual: 0.4679939 / Time: 119.0 ##\n",
      "CURRENT THRESHOLDS: # -- Theta: 0.37196270000000003 / Epsilon: 0.8026933582504756 ##\n",
      "LOWER BOUND: # -- Primal: 0.1045494 / Dual: 0.09641308 / Time: 125.0 ##\n",
      "UPPER BOUND: # -- Primal: 0.3108866 / Dual: 0.4418003 / Time: 126.0 ##\n",
      "CURRENT THRESHOLDS: # -- Theta: 0.34538722 / Epsilon: 0.6738969996685038 ##\n",
      "LOWER BOUND: # -- Primal: 0.1045494 / Dual: 0.09689099 / Time: 130.0 ##\n",
      "UPPER BOUND: # -- Primal: 0.3108866 / Dual: 0.4260432 / Time: 130.0 ##\n",
      "CURRENT THRESHOLDS: # -- Theta: 0.32915221 / Epsilon: 0.5952150654365767 ##\n",
      "LOWER BOUND: # -- Primal: 0.1045494 / Dual: 0.09740416 / Time: 136.0 ##\n",
      "UPPER BOUND: # -- Primal: 0.3108866 / Dual: 0.4178753 / Time: 135.0 ##\n",
      "CURRENT THRESHOLDS: # -- Theta: 0.32047114 / Epsilon: 0.5531428167097352 ##\n",
      "LOWER BOUND: # -- Primal: 0.1045494 / Dual: 0.09766397 / Time: 140.0 ##\n",
      "UPPER BOUND: # -- Primal: 0.3108866 / Dual: 0.4086112 / Time: 140.0 ##\n",
      "CURRENT THRESHOLDS: # -- Theta: 0.31094723 / Epsilon: 0.5069857980044317 ##\n",
      "LOWER BOUND: # -- Primal: 0.1045494 / Dual: 0.0980342 / Time: 145.0 ##\n",
      "UPPER BOUND: # -- Primal: 0.3108866 / Dual: 0.3955028 / Time: 146.0 ##\n",
      "CURRENT THRESHOLDS: # -- Theta: 0.29746859999999997 / Epsilon: 0.441662482577063 ##\n",
      "LOWER BOUND: # -- Primal: 0.1045494 / Dual: 0.09848122 / Time: 151.0 ##\n",
      "UPPER BOUND: # -- Primal: 0.3108866 / Dual: 0.383913 / Time: 150.0 ##\n",
      "CURRENT THRESHOLDS: # -- Theta: 0.28543178 / Epsilon: 0.3833268067997435 ##\n",
      "LOWER BOUND: # -- Primal: 0.1039405 / Dual: 0.09936096 / Time: 156.0 ##\n",
      "UPPER BOUND: # -- Primal: 0.3108866 / Dual: 0.3684464 / Time: 155.0 ##\n",
      "CURRENT THRESHOLDS: # -- Theta: 0.26908544 / Epsilon: 0.3002682340957379 ##\n",
      "LOWER BOUND: # -- Primal: 0.1039405 / Dual: 0.1001885 / Time: 161.0 ##\n",
      "UPPER BOUND: # -- Primal: 0.3108866 / Dual: 0.3599143 / Time: 160.0 ##\n",
      "CURRENT THRESHOLDS: # -- Theta: 0.2597258 / Epsilon: 0.25504080531114126 ##\n",
      "LOWER BOUND: # -- Primal: 0.1037819 / Dual: 0.1007754 / Time: 166.0 ##\n",
      "UPPER BOUND: # -- Primal: 0.3108866 / Dual: 0.3523875 / Time: 166.0 ##\n",
      "CURRENT THRESHOLDS: # -- Theta: 0.2516121 / Epsilon: 0.21490289694053288 ##\n",
      "LOWER BOUND: # -- Primal: 0.1037819 / Dual: 0.1014726 / Time: 171.0 ##\n",
      "UPPER BOUND: # -- Primal: 0.3108866 / Dual: 0.3464794 / Time: 170.0 ##\n",
      "CURRENT THRESHOLDS: # -- Theta: 0.2450068 / Epsilon: 0.18300936675990442 ##\n",
      "LOWER BOUND: # -- Primal: 0.1037819 / Dual: 0.101697 / Time: 176.0 ##\n",
      "UPPER BOUND: # -- Primal: 0.3108866 / Dual: 0.3430295 / Time: 176.0 ##\n",
      "CURRENT THRESHOLDS: # -- Theta: 0.2413325 / Epsilon: 0.16526809869597336 ##\n",
      "LOWER BOUND: # -- Primal: 0.1037819 / Dual: 0.102311 / Time: 181.0 ##\n",
      "UPPER BOUND: # -- Primal: 0.3108866 / Dual: 0.3390333 / Time: 181.0 ##\n",
      "CURRENT THRESHOLDS: # -- Theta: 0.2367223 / Epsilon: 0.14300786027550294 ##\n",
      "LOWER BOUND: # -- Primal: 0.103547 / Dual: 0.1026394 / Time: 186.0 ##\n",
      "UPPER BOUND: # -- Primal: 0.3108866 / Dual: 0.336519 / Time: 186.0 ##\n",
      "CURRENT THRESHOLDS: # -- Theta: 0.23387960000000002 / Epsilon: 0.1280025619804417 ##\n",
      "LOWER BOUND: # -- Primal: 0.103547 / Dual: 0.103171 / Time: 189.0 ##\n",
      "UPPER BOUND: # -- Primal: 0.3108866 / Dual: 0.3345564 / Time: 190.0 ##\n",
      "Problem is finished! Returning final values\n",
      "CURRENT THRESHOLDS: # -- Theta: 0.23138539999999996 / Epsilon: 0.11597302203727589 ##\n",
      "UPPER BOUND: # -- Primal: 0.3108866 / Dual: 0.332257 / Time: 196.0 ##\n",
      "Problem is finished! Returning final values\n",
      "CURRENT THRESHOLDS: # -- Theta: 0.229086 / Epsilon: 0.10488300353622759 ##\n",
      "UPPER BOUND: # -- Primal: 0.3108866 / Dual: 0.3311445 / Time: 201.0 ##\n",
      "Problem is finished! Returning final values\n",
      "CURRENT THRESHOLDS: # -- Theta: 0.2279735 / Epsilon: 0.09951741008471116 ##\n",
      "0.2279735\n",
      "0.09951741008471116\n",
      "0.01\n",
      "0.1\n"
     ]
    }
   ],
   "source": [
    "# to speed up demo, stop early before bounds are completely sharp (which would be epsilon = 0)\n",
    "# with verbose = True, autobounds will periodically report progress on \n",
    "# - upper and lower bounding problems (the \"dual\" bounds are the guaranteed-valid causal bounds)\n",
    "# - width of the guaranteed-valid causal bounds (theta = upper bound - lower bound)\n",
    "# - proportion of those bounds that might be narrowed with further computation (epsilon)\n",
    "results = program.run_scip(verbose = True, epsilon = .1)"
   ]
  },
  {
   "cell_type": "code",
   "execution_count": 24,
   "id": "51252d27-96ca-4be0-9948-73b9ff076fe0",
   "metadata": {},
   "outputs": [
    {
     "data": {
      "text/plain": [
       "'Based on these data and assumptions, the ATE_(M=1) is in the range [0.104, 0.331]'"
      ]
     },
     "execution_count": 24,
     "metadata": {},
     "output_type": "execute_result"
    }
   ],
   "source": [
    "\"Based on these data and assumptions, the ATE_(M=1) is in the range [{lower:0.3f}, {upper:0.3f}]\".format(\n",
    "    lower = results[0][\"dual\"],  # index [0] selects lower bound, key [\"dual\"] selects guaranteed-valid bound\n",
    "    upper = results[1][\"dual\"],  # index [1] selects upper bound, key [\"dual\"] selects guaranteed-valid bound\n",
    ")"
   ]
  },
  {
   "cell_type": "markdown",
   "id": "df71409e-8472-4b57-86f4-c0d0a6d35249",
   "metadata": {},
   "source": [
    "In other words, based on assumptions that are highly plausible, analysts can determine that the effect of the treatment is strongly positive, despite the issues noted. Moreover, it is larger than the 0.061 value suggested by the na&iuml;ve regression that ignored selection."
   ]
  },
  {
   "cell_type": "markdown",
   "id": "5e8133ec-e90b-41bf-b686-fa4c4434303a",
   "metadata": {},
   "source": [
    "# References"
   ]
  },
  {
   "cell_type": "markdown",
   "id": "4bc0c805-e181-4496-9941-e805b6aff656",
   "metadata": {},
   "source": [
    "Guilherme Duarte, Noam Finkelstein, Dean Knox, Jonathan Mummolo, and Ilya Shpitser. 2023. \"An Automated Approach to Causal Inference in Discrete Settings,\" *Journal of the American Statistical Association* (Theory and Methods). https://doi.org/10.1080/01621459.2023.2216909\n",
    "\n",
    "Andrew Gelman, Jeffrey Fagan, and Alex Kiss. 2007. \"An Analysis of the New York City Police Department's 'Stop-and-Frisk' Policy in the Context of Claims of Racial Bias.\" *Journal of the American Statistical Association* (Applications and Case Studies). https://doi.org/10.1198/016214506000001040\n",
    "\n",
    "Roland Fryer. 2019. \"An Empirical Analysis of Racial Differences in Police Use of Force.\" *Journal of Political Economy*. https://doi.org/10.1086/701423\n",
    "\n",
    "Dean Knox, Will Lowe, and Jonathan Mummolo. 2020. \"Administrative Records Mask Racially Biased Policing,\" *American Political Science Review*. https://doi.org/10.1017/S0003055420000039\n"
   ]
  }
 ],
 "metadata": {
  "kernelspec": {
   "display_name": "Python 3 (ipykernel)",
   "language": "python",
   "name": "python3"
  },
  "language_info": {
   "codemirror_mode": {
    "name": "ipython",
    "version": 3
   },
   "file_extension": ".py",
   "mimetype": "text/x-python",
   "name": "python",
   "nbconvert_exporter": "python",
   "pygments_lexer": "ipython3",
   "version": "3.11.5"
  }
 },
 "nbformat": 4,
 "nbformat_minor": 5
}
