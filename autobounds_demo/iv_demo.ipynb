{
 "cells": [
  {
   "cell_type": "code",
   "execution_count": 1,
   "id": "e9e1aef4-188a-4165-aa5a-907f0cab7b1d",
   "metadata": {},
   "outputs": [
    {
     "name": "stdout",
     "output_type": "stream",
     "text": [
      "/root/autobounds\n"
     ]
    }
   ],
   "source": [
    "%cd .."
   ]
  },
  {
   "cell_type": "code",
   "execution_count": 2,
   "id": "1a47ad14-1769-4a50-b988-b1e24d9a768c",
   "metadata": {},
   "outputs": [],
   "source": [
    "#%pip install networkx\n",
    "#%pip install plotnine\n",
    "#%pip install pyscipopt"
   ]
  },
  {
   "cell_type": "code",
   "execution_count": 3,
   "id": "61298a0e-fd22-4c70-b766-f5a8275099cb",
   "metadata": {},
   "outputs": [],
   "source": [
    "from autobounds.causalProblem import causalProblem\n",
    "from autobounds.DAG import DAG\n",
    "from autobounds.Query import Query\n",
    "import io\n",
    "from copy import deepcopy\n",
    "\n",
    "import networkx as nx\n",
    "import pandas as pd\n",
    "import plotnine as pn\n",
    "import matplotlib.pyplot as plt\n",
    "import numpy as np\n",
    "import statsmodels.api as sm\n",
    "import statsmodels.formula.api as smf"
   ]
  },
  {
   "cell_type": "markdown",
   "id": "e372cd1c-2bb8-46ed-9d59-8ce782380117",
   "metadata": {},
   "source": [
    "# Introduction"
   ]
  },
  {
   "cell_type": "markdown",
   "id": "157e97d2-782d-4db2-b954-6878cd2dc71d",
   "metadata": {},
   "source": [
    "This notebook introduces `autobounds` (Duarte et al., 2023), a package for drawing principled inferences in the presence of common imperfections in data and design. Section 1 will introduce data from a randomized controlled trial with noncompliance, the context that will be used to demonstrate key package functionality. Section 2 states the causal effects of interest to the analyst and discusses various assumptions that analysts might use for identification. Section 3 walksthrough the computation of the causal effects of interest demonstrating the key package functionality in parallel. "
   ]
  },
  {
   "cell_type": "markdown",
   "id": "126a128c-61a1-4573-bb3a-3ac3140c3ddc",
   "metadata": {},
   "source": [
    "# Section 1: Data"
   ]
  },
  {
   "cell_type": "markdown",
   "id": "294c7a20-84ce-4a26-b9c5-f28b60c8726c",
   "metadata": {},
   "source": [
    "In the city-village *DoesNotExist* three Scholars carried out a randomized controlled trial with the aim of determining the causal effect of the (binary) treatment $X$ on the (binary) outcome $Y$. The trial contained 1000 subjects. After collecting all of their data, the researchers found that there was reason to believe that some subjects in the were **noncompliant** with their assignment treatment regimen. This indicates the presence of a confounding influence between the treatment and the outcome. In an attempt to salvage the computation of the causal effect, the Scholars justify that the (binary) instrument $Z$ can be said to *encourage* the taking of treatment, and thus proceed under an instrumental variables strategy. \n",
    "\n",
    "We first present some initial exploratory analysis of the data."
   ]
  },
  {
   "cell_type": "code",
   "execution_count": 4,
   "id": "b22a3027-48cb-4537-af55-ec207c22c1e7",
   "metadata": {},
   "outputs": [],
   "source": [
    "raw_iv_dat = pd.read_csv(\"autobounds_demo/raw_iv_synth.csv\")"
   ]
  },
  {
   "cell_type": "code",
   "execution_count": 5,
   "id": "c77c5f48-842c-42a1-9f95-7bfe0d4ebc4b",
   "metadata": {},
   "outputs": [
    {
     "data": {
      "text/html": [
       "<div>\n",
       "<style scoped>\n",
       "    .dataframe tbody tr th:only-of-type {\n",
       "        vertical-align: middle;\n",
       "    }\n",
       "\n",
       "    .dataframe tbody tr th {\n",
       "        vertical-align: top;\n",
       "    }\n",
       "\n",
       "    .dataframe thead th {\n",
       "        text-align: right;\n",
       "    }\n",
       "</style>\n",
       "<table border=\"1\" class=\"dataframe\">\n",
       "  <thead>\n",
       "    <tr style=\"text-align: right;\">\n",
       "      <th></th>\n",
       "      <th>Z</th>\n",
       "      <th>X</th>\n",
       "      <th>Y</th>\n",
       "    </tr>\n",
       "  </thead>\n",
       "  <tbody>\n",
       "    <tr>\n",
       "      <th>0</th>\n",
       "      <td>1</td>\n",
       "      <td>0</td>\n",
       "      <td>1</td>\n",
       "    </tr>\n",
       "    <tr>\n",
       "      <th>1</th>\n",
       "      <td>0</td>\n",
       "      <td>1</td>\n",
       "      <td>0</td>\n",
       "    </tr>\n",
       "    <tr>\n",
       "      <th>2</th>\n",
       "      <td>0</td>\n",
       "      <td>1</td>\n",
       "      <td>0</td>\n",
       "    </tr>\n",
       "    <tr>\n",
       "      <th>3</th>\n",
       "      <td>0</td>\n",
       "      <td>1</td>\n",
       "      <td>0</td>\n",
       "    </tr>\n",
       "    <tr>\n",
       "      <th>4</th>\n",
       "      <td>0</td>\n",
       "      <td>1</td>\n",
       "      <td>0</td>\n",
       "    </tr>\n",
       "  </tbody>\n",
       "</table>\n",
       "</div>"
      ],
      "text/plain": [
       "   Z  X  Y\n",
       "0  1  0  1\n",
       "1  0  1  0\n",
       "2  0  1  0\n",
       "3  0  1  0\n",
       "4  0  1  0"
      ]
     },
     "execution_count": 5,
     "metadata": {},
     "output_type": "execute_result"
    }
   ],
   "source": [
    "raw_iv_dat.head()"
   ]
  },
  {
   "cell_type": "code",
   "execution_count": 6,
   "id": "0d5c04f0-8ed9-4f18-888d-56afc54668a1",
   "metadata": {},
   "outputs": [
    {
     "name": "stdout",
     "output_type": "stream",
     "text": [
      "<class 'pandas.core.frame.DataFrame'>\n",
      "RangeIndex: 1000 entries, 0 to 999\n",
      "Data columns (total 3 columns):\n",
      " #   Column  Non-Null Count  Dtype\n",
      "---  ------  --------------  -----\n",
      " 0   Z       1000 non-null   int64\n",
      " 1   X       1000 non-null   int64\n",
      " 2   Y       1000 non-null   int64\n",
      "dtypes: int64(3)\n",
      "memory usage: 23.6 KB\n",
      "[1 0]\n",
      "[0 1]\n",
      "[1 0]\n"
     ]
    }
   ],
   "source": [
    "# check structure of data frame\n",
    "raw_iv_dat.info()\n",
    "\n",
    "# is binary?\n",
    "print(raw_iv_dat[\"Z\"].unique()) \n",
    "print(raw_iv_dat[\"X\"].unique())\n",
    "print(raw_iv_dat[\"Y\"].unique())"
   ]
  },
  {
   "cell_type": "code",
   "execution_count": 7,
   "id": "4e9669a6-f3c7-48f4-ace2-34ba7374b2cb",
   "metadata": {},
   "outputs": [
    {
     "data": {
      "image/png": "[encoded data removed]",
      "text/plain": [
       "<Figure size 500x400 with 1 Axes>"
      ]
     },
     "metadata": {
      "image/png": {
       "height": 400,
       "width": 500
      },
      "needs_background": "light"
     },
     "output_type": "display_data"
    },
    {
     "data": {
      "text/plain": [
       "<Figure Size: (500 x 400)>"
      ]
     },
     "execution_count": 7,
     "metadata": {},
     "output_type": "execute_result"
    }
   ],
   "source": [
    "# raw proportions\n",
    "raw_props = raw_iv_dat.agg(np.mean).to_frame().reset_index().rename(columns={'index':'var', 0:'prop'})\n",
    "\n",
    "pn.options.figure_size = (5, 4)\n",
    "(\n",
    "pn.ggplot(raw_props, pn.aes(x='var', y='prop')) \n",
    "    + pn.geom_bar(stat='identity') \n",
    "    + pn.xlab(\"Variable\")    \n",
    "    + pn.ylab(\"Frequency of positive class\")\n",
    "    + pn.theme_minimal()\n",
    ")"
   ]
  },
  {
   "cell_type": "markdown",
   "id": "7a2adf2f-186e-4c7e-bd2b-6b21b1ec47e4",
   "metadata": {},
   "source": [
    "That is, 35% of subjects were encouraged to take treatment, 64% received the treatment and 47% experienced the positive outcome."
   ]
  },
  {
   "cell_type": "code",
   "execution_count": 8,
   "id": "38129b48-cb38-46d0-b23f-97286758f4b6",
   "metadata": {},
   "outputs": [
    {
     "name": "stdout",
     "output_type": "stream",
     "text": [
      "              Pr[X=1|Z=1] = 25.4%\n",
      "              Pr[X=1|Z=0] = 85.1%\n",
      "Pr[X=1|Z=1] − Pr[X=1|Z=0] = -59.6%\n"
     ]
    }
   ],
   "source": [
    "# check for a nonzero correlation\n",
    "\n",
    "x_z1 = raw_iv_dat.X.loc[raw_iv_dat.Z == 1]\n",
    "x_z0 = raw_iv_dat.X.loc[raw_iv_dat.Z == 0]\n",
    "\n",
    "pr_x1_z1 = (x_z1 == 1).sum() * 1.0 / x_z1.shape[0]\n",
    "pr_x1_z0 = (x_z0 == 1).sum() * 1.0 / x_z0.shape[0]\n",
    "\n",
    "print(\"              Pr[X=1|Z=1] = {:>4.1f}%\".format(pr_x1_z1 * 100))\n",
    "print(\"              Pr[X=1|Z=0] = {:>4.1f}%\".format(pr_x1_z0 * 100))\n",
    "print(\"Pr[X=1|Z=1] − Pr[X=1|Z=0] = {:>4.1f}%\".format((pr_x1_z1 - pr_x1_z0) * 100))"
   ]
  },
  {
   "cell_type": "markdown",
   "id": "1a176328-3b30-4584-91ae-07c737bb6242",
   "metadata": {},
   "source": [
    "The Scholars of this study would be wrong to conclude that $Z$ influences the taking of treatment if it were uncorrelated with $X$ (treatment assignment). Here we find that there is a quite noticeable association between the instrument and treatment assignment. "
   ]
  },
  {
   "cell_type": "code",
   "execution_count": 9,
   "id": "365d8e61-bbcc-4253-a782-98a8ed06663e",
   "metadata": {},
   "outputs": [
    {
     "data": {
      "text/html": [
       "<div>\n",
       "<style scoped>\n",
       "    .dataframe tbody tr th:only-of-type {\n",
       "        vertical-align: middle;\n",
       "    }\n",
       "\n",
       "    .dataframe tbody tr th {\n",
       "        vertical-align: top;\n",
       "    }\n",
       "\n",
       "    .dataframe thead th {\n",
       "        text-align: right;\n",
       "    }\n",
       "</style>\n",
       "<table border=\"1\" class=\"dataframe\">\n",
       "  <thead>\n",
       "    <tr style=\"text-align: right;\">\n",
       "      <th></th>\n",
       "      <th>Y</th>\n",
       "      <th>0</th>\n",
       "      <th>1</th>\n",
       "      <th>All</th>\n",
       "    </tr>\n",
       "    <tr>\n",
       "      <th>Z</th>\n",
       "      <th>X</th>\n",
       "      <th></th>\n",
       "      <th></th>\n",
       "      <th></th>\n",
       "    </tr>\n",
       "  </thead>\n",
       "  <tbody>\n",
       "    <tr>\n",
       "      <th rowspan=\"2\" valign=\"top\">0</th>\n",
       "      <th>0</th>\n",
       "      <td>66</td>\n",
       "      <td>31</td>\n",
       "      <td>97</td>\n",
       "    </tr>\n",
       "    <tr>\n",
       "      <th>1</th>\n",
       "      <td>377</td>\n",
       "      <td>176</td>\n",
       "      <td>553</td>\n",
       "    </tr>\n",
       "    <tr>\n",
       "      <th rowspan=\"2\" valign=\"top\">1</th>\n",
       "      <th>0</th>\n",
       "      <td>63</td>\n",
       "      <td>198</td>\n",
       "      <td>261</td>\n",
       "    </tr>\n",
       "    <tr>\n",
       "      <th>1</th>\n",
       "      <td>21</td>\n",
       "      <td>68</td>\n",
       "      <td>89</td>\n",
       "    </tr>\n",
       "    <tr>\n",
       "      <th>All</th>\n",
       "      <th></th>\n",
       "      <td>527</td>\n",
       "      <td>473</td>\n",
       "      <td>1000</td>\n",
       "    </tr>\n",
       "  </tbody>\n",
       "</table>\n",
       "</div>"
      ],
      "text/plain": [
       "Y        0    1   All\n",
       "Z   X                \n",
       "0   0   66   31    97\n",
       "    1  377  176   553\n",
       "1   0   63  198   261\n",
       "    1   21   68    89\n",
       "All    527  473  1000"
      ]
     },
     "execution_count": 9,
     "metadata": {},
     "output_type": "execute_result"
    }
   ],
   "source": [
    "# contingency table\n",
    "ct = pd.crosstab([raw_iv_dat.Z, raw_iv_dat.X], raw_iv_dat.Y, margins=True)\n",
    "ct\n",
    "#ct_sm = sm.stats.Table(ct) # further analysis"
   ]
  },
  {
   "cell_type": "code",
   "execution_count": 10,
   "id": "31bb2ded-805b-4f41-b618-cb6eb3b34a20",
   "metadata": {},
   "outputs": [
    {
     "name": "stdout",
     "output_type": "stream",
     "text": [
      "Optimization terminated successfully.\n",
      "         Current function value: 0.472340\n",
      "         Iterations 6\n",
      "                           Logit Regression Results                           \n",
      "==============================================================================\n",
      "Dep. Variable:                      X   No. Observations:                 1000\n",
      "Model:                          Logit   Df Residuals:                      998\n",
      "Method:                           MLE   Df Model:                            1\n",
      "Date:                Sun, 27 Aug 2023   Pseudo R-squ.:                  0.2758\n",
      "Time:                        20:41:46   Log-Likelihood:                -472.34\n",
      "converged:                       True   LL-Null:                       -652.26\n",
      "Covariance Type:            nonrobust   LLR p-value:                 3.055e-80\n",
      "==============================================================================\n",
      "                 coef    std err          z      P>|z|      [0.025      0.975]\n",
      "------------------------------------------------------------------------------\n",
      "Intercept      1.7406      0.110     15.813      0.000       1.525       1.956\n",
      "Z             -2.8165      0.165    -17.082      0.000      -3.140      -2.493\n",
      "==============================================================================\n",
      "                 OR  Lower CI  Upper CI\n",
      "Intercept  5.701031  4.594658  7.073814\n",
      "Z          0.059813  0.043296  0.082631\n"
     ]
    }
   ],
   "source": [
    "# some logistic regressions for some intuition\n",
    "mod1 = smf.logit(\"X ~ Z\", data=raw_iv_dat).fit()\n",
    "print(mod1.summary()) # model summary\n",
    "\n",
    "odds_ratios1 = pd.DataFrame(\n",
    "    {\n",
    "        \"OR\": mod1.params,\n",
    "        \"Lower CI\": mod1.conf_int()[0],\n",
    "        \"Upper CI\": mod1.conf_int()[1],\n",
    "    }\n",
    ")\n",
    "odds_ratios1 = np.exp(odds_ratios1) # effect interpretation\n",
    "\n",
    "print(odds_ratios1)"
   ]
  },
  {
   "cell_type": "markdown",
   "id": "bd5a3a0b-6d35-411b-820d-049d32a2b0c6",
   "metadata": {},
   "source": [
    "We perform a logistic regression on the variables in the study to just get some intuition on what the data tells us about the relationships between these variables. Indeed, here, we see that experiencing the effect of the instrument $Z=1$ means that an individual's odds of taking treatment decrease by 94%."
   ]
  },
  {
   "cell_type": "code",
   "execution_count": 11,
   "id": "8346ee06-e103-4091-aca3-d6d46ea9f958",
   "metadata": {},
   "outputs": [
    {
     "name": "stdout",
     "output_type": "stream",
     "text": [
      "Optimization terminated successfully.\n",
      "         Current function value: 0.660341\n",
      "         Iterations 4\n",
      "++++ Summary ++++\n",
      "                           Logit Regression Results                           \n",
      "==============================================================================\n",
      "Dep. Variable:                      Y   No. Observations:                 1000\n",
      "Model:                          Logit   Df Residuals:                      998\n",
      "Method:                           MLE   Df Model:                            1\n",
      "Date:                Sun, 27 Aug 2023   Pseudo R-squ.:                 0.04532\n",
      "Time:                        20:41:46   Log-Likelihood:                -660.34\n",
      "converged:                       True   LL-Null:                       -691.69\n",
      "Covariance Type:            nonrobust   LLR p-value:                 2.414e-15\n",
      "==============================================================================\n",
      "                 coef    std err          z      P>|z|      [0.025      0.975]\n",
      "------------------------------------------------------------------------------\n",
      "Intercept      0.5739      0.110      5.213      0.000       0.358       0.790\n",
      "X             -1.0632      0.137     -7.769      0.000      -1.331      -0.795\n",
      "==============================================================================\n",
      "++++ Odds ratios ++++\n",
      "                 OR  Lower CI  Upper CI\n",
      "Intercept  1.775194  1.430675  2.202675\n",
      "X          0.345351  0.264100  0.451599\n"
     ]
    }
   ],
   "source": [
    "mod2 = smf.logit(\"Y ~ X\", data=raw_iv_dat).fit()\n",
    "print(\"++++ Summary ++++\")\n",
    "print(mod2.summary()) # model summary\n",
    "\n",
    "odds_ratios2 = pd.DataFrame(\n",
    "    {\n",
    "        \"OR\": mod2.params,\n",
    "        \"Lower CI\": mod2.conf_int()[0],\n",
    "        \"Upper CI\": mod2.conf_int()[1],\n",
    "    }\n",
    ")\n",
    "odds_ratios2 = np.exp(odds_ratios2) # effect interpretation\n",
    "\n",
    "print(\"++++ Odds ratios ++++\")\n",
    "print(odds_ratios2)"
   ]
  },
  {
   "cell_type": "markdown",
   "id": "44eaad88-741e-4a77-8bbb-6dc46b09469a",
   "metadata": {},
   "source": [
    "Here, an individuals odds of experiencing the positive outcome decrease by 65% by taking treatment. While there is a negative associational relationship between treatment and outcome, of course, this is not sufficient to identify any sort of causal effect."
   ]
  },
  {
   "cell_type": "markdown",
   "id": "179c5009-0c5f-4eeb-b3c0-bc004ffb9c75",
   "metadata": {},
   "source": [
    "# Section 2: Identification of causal effects"
   ]
  },
  {
   "cell_type": "markdown",
   "id": "e9a28c46-68aa-405a-9093-38e606f9df50",
   "metadata": {},
   "source": [
    "In the absence of selection on observable covariates -- i.e. we depart from the (conditional) randomised experiment setting, leaving the average treatment effect (ATE) unidentified -- a popular identification strategy is via the use of instrumental variables. Here, an 'instrument' is a device that the researcher can justify to _encourage_ quasi-random treatment assignment, consequently, one can identify a local average treatment effect of the treatment on the outcome.\n",
    "\n",
    "Let the treatment be $X$, the outcome $Y$ and the instrument $Z$. We will generally write $Y(x)$ to denote a counterfactual outcome of the variable $Y$ under the intervention $X=x$. Assume that all variables are binary, that is their support is the set $\\{0,1\\}$. An instrument must obey the following criteria:\n",
    "\n",
    "* (Unconfoundedness) $Z$ is independent of $Y(x)$ for any $x \\in \\{0,1\\}$\n",
    "* (Relevance) $Z$ is correlated with $x$, that is, $\\textrm{Corr}(D,Z) \\ne 0$, i.e. the instrument influecnes the treatment.\n",
    "* (Exclusion restriction) $Y(z,x) = Y(x)$ for all $x, z \\in \\{0,1\\}$. That is, $Z$ may only influence $Y$ through $X$.\n",
    "\n",
    "To point identify the local average treatment effect (LATE) -- the treatment effect in one behavioral subgroup of the population -- it is well known that more conditions are necessary. One sufficiently strong condition is the monotonicity, or \"no defiers\", assumption. That is\n",
    "\n",
    "* (Monotonicity) $X(z=1) \\ge X(z=0).$\n",
    "\n",
    "The population of interest can unambiguously be divided into four mutually exclusive behavioral groups:\n",
    "\n",
    "* Compliers: $(X(z=1)=1, X(z=0)=0)$\n",
    "* Defiers: $(X(z=1)=0, X(z=0)=1)$\n",
    "* Always-takers: $(X(z=1)=1, X(z=0)=1)$\n",
    "* Never-takers: $(X(z=1)=0, X(z=0)=0)$\n",
    "\n",
    "Therefore, we can offer some intuition behind the monotonicity assumption (according to James Robins) as follows: we can only estimate the effect of treatment on those whose behavior was actually affected by the instrument, thus, Compliers and Defiers are the only relevant subgroups of the population for the computation of the LATE. To have both is problematic, therefore, if we only consider compliers our results follow nicely.\n",
    "\n",
    "Under monotonicity, it is indeed possible to identify the average treatment effect in the compliers. However, this raises some important issues:\n",
    "\n",
    "* Are the compliers the only subset of the population of interest -- what recommendations do we make to the other strata of individuals?\n",
    "* The compliers are not observable (they are defined by counterfactual variables) so we cannot target the intervention to them.\n",
    "* Hernan and Robins argue that interest in this estimand is often not due to its practical relevance, but its ease of identifiability. For this reason, research inquirires are perhaps weaker or retrofitted to extract a point estimate from the data: this is undesirable.\n",
    "\n",
    "Autobounds alleviates this issue by pursuing a _question-driven_ approach. The scholar will state their research question, their target estimand, and all relevant assumptions on the data as demanded by the context of the problem. If the estimand is not point identifiable in this setting, Autobounds provides informative bounds on the (partially identified) causal effect without the need to alter the original purpose of the research.\n",
    "\n",
    "It has been shown in the literature that in the IV setting, sharp bounds on the ATE are attainable with a linear-programming approach even when monotonicity is not assumed. Autobounds generalises this approach by not only calculating bounds for the ATE, but for nonlinear quantities such as the LATE and beyond. We will demonstrate the use of Autobounds in Python below."
   ]
  },
  {
   "cell_type": "markdown",
   "id": "174dc96d-6fc5-426a-b798-86b841248917",
   "metadata": {},
   "source": [
    "---"
   ]
  },
  {
   "cell_type": "markdown",
   "id": "66432a7a-5e6b-43af-a651-0367af88d216",
   "metadata": {},
   "source": [
    "We will illustrate how autobounds functions via three distinct data generating mechanisms which represent three differing sets of assumptions on the causal mechanism at play. \n",
    "\n",
    "Three researchers, Scholars Cautious, Just and Confident, have determined that there unmeasured confounding, encapsulated by the _disturbance_ $U_{DY}$, exists between the treatment $D$ and the outcome $Y$ and hence selection on observables is not a valid approach to identification. The scholars instead decide to approach via the use of instruments. We will demonstrate stepwise how to use the `autobounds` package, and how it is informed by the theory, to compute bounds on the ATE under the assumptions these three scholars individually impose."
   ]
  },
  {
   "cell_type": "markdown",
   "id": "577c267b-c52b-4816-9d98-c02b6a6b80fd",
   "metadata": {},
   "source": [
    "# Section 3: Computation of effects via `autobounds`"
   ]
  },
  {
   "cell_type": "markdown",
   "id": "2f0e22df-f0a5-4050-be46-b1390536735d",
   "metadata": {},
   "source": [
    "## 3.1 The ATE"
   ]
  },
  {
   "cell_type": "markdown",
   "id": "265ece0f-a7a2-4163-bc53-058ddc7fa38a",
   "metadata": {},
   "source": [
    "### 3.1.1 Scholar Just"
   ]
  },
  {
   "attachments": {},
   "cell_type": "markdown",
   "id": "fcf7fbcc-b77f-4698-af92-db8de6de3550",
   "metadata": {},
   "source": [
    "* Scholar Just believes that the causal mechanism sits well in the canoncial framework of an instrumental variables design. All three conditions of the instrument as stated earlier are satisfied. The corresponding causal graph is illustrated below.\n",
    "\n",
    "In the autobounds package, it is straightforward to create the (causal) directed acyclic graph for the autobounds problem. Instatiate an empty DAG via the `DAG` class within the package. Build the structure of the graph with the method `from_structure` which takes two arguments: `edges` and `unob`.\n",
    "\n",
    "Indeed, `edges` takes a string of all paths of length two separated by commas. Similarly, `unob` takes all disturbances as a string with the variables separated by commas.\n",
    "\n",
    "One can then visualise the graph with the `plot` method."
   ]
  },
  {
   "cell_type": "code",
   "execution_count": 12,
   "id": "fea7c782-12c4-4f3f-b4d2-6f3e07b2760d",
   "metadata": {},
   "outputs": [
    {
     "data": {
      "image/png": "[encoded data removed]",
      "text/plain": [
       "<Figure size 640x480 with 1 Axes>"
      ]
     },
     "metadata": {
      "image/png": {
       "height": 480,
       "width": 640
      }
     },
     "output_type": "display_data"
    }
   ],
   "source": [
    "dag_just = DAG()\n",
    "dag_just.from_structure(edges=\"Uz -> Z, Z -> X, X -> Y, Uxy -> X, Uxy -> Y\", unob = \"Uz, Uxy\")\n",
    "dag_just.plot()"
   ]
  },
  {
   "cell_type": "markdown",
   "id": "a0e952ea-cc50-4b11-bb25-9bfc59fc0fb0",
   "metadata": {},
   "source": [
    "$\\newcommand{\\Pro}{\\mathbb{P}}$\n",
    "$\\newcommand{\\Puz}{\\Pro(U_Z = u_Z)}$\n",
    "$\\newcommand{\\Puxy}{\\Pro(U_{XY} = u_{XY})}$\n",
    "$\\newcommand{\\uin}[1]{u_{#1} \\in S(U_{#1})}$\n",
    "\n",
    "\n",
    "Autobounds now aims to solve an polynomial optimisation problem, made simpler by adding in constraints on the parameters to be optimised over. We will have constraints defined by the axioms of probability, $\\mathcal{P}$, empirical evidence, $\\mathcal{E}$ and assumptions imposed by the researcher $\\mathcal{A}.$\n",
    "\n",
    "The parameters over which we optimise the objective function are generated by the disturbances in the causal graph. Our assumed causal mechansim gives the following structural equations for $(Z, X, Y)$ and the types of observable response.\n",
    "\n",
    "\\begin{align}\n",
    "&\\underline{\\text{Structural Eq.}} && &\\underline{\\text{Response Func.}} && &\\underline{\\text{Response Form}} \\\\\n",
    "Z &= f_Z(U_Z) && &f_Z^{(U_Z=u_Z)}(\\varnothing) && &\\varnothing \\mapsto \\{0,1\\} \\\\\n",
    "X &= f_X(Z, U_{XY}) && &f_X^{(U_{XY} = u_{XY})}(z) && &\\{0,1\\} \\mapsto \\{0,1\\} \\\\\n",
    "Y &= f_Y(X, U_{XY}) && &f_Y^{(U_{XY} = u_{XY})}(x) && &\\{0,1\\} \\mapsto \\{0,1\\} \n",
    "\\end{align}\n",
    "where the response functions $f_{(\\cdot)}$ are determininstic functions of their arguments, and $f_{(\\cdot)}^{(U=u)}$ is $f_{(\\cdot)}$ under a fixed realisation $u$ of the disturbance $U$. We assume all disturbances are independent. The response form illustrates all possible mappings of the response function. The disturbances encapsulate all which in the universe of our problem set up, deterministically affect $(Z,X,Y)$, producing all possible factual and counterfactual outcomes. The symbol $\\varnothing$ is used to indicate that if the only parents of a variable in the DAG are disturbances, in effect, any realisation of this variable is spawned by unobservable phenomena.\n",
    "\n",
    "From this construction, we observe that since $Z$ is binary, irrespective of its dimensionality, $U_Z$ can only induce either $Z=0$ or $Z=1$ upon any realisation. In this way, we can unambiguously decompose $U_Z$ into what we call its canonical partition, $S(U_Z)$, i.e.\n",
    "\n",
    "\\begin{equation}\n",
    "S(U_Z) = \\left\\{u_Z : f_Z^{(U_Z=u_Z)}(\\varnothing) = 0\\right\\} \\cup \\left\\{u_Z : f_Z^{(U_Z=u_Z)}(\\varnothing) = 1\\right\\}.\n",
    "\\end{equation}\n",
    "\n",
    "Consequently, we can treat $U_z$ as a **categorical variable** with support $S(U_Z).$ The size of this partition/support in this case is $2$. \n",
    "\n",
    "As $U_{XY}$ jointly determines the response functions $f_X$ and $f_Y$, we can decompose $U_{XY}$ into a canonical partition of size $16$, $S(U_{XY})$. Indeed: since $X$ has only $Z$ as an observable parent in the graph, $U_{XY}$ can induce four behavioural groups (compliers, always-takers, ...) in $X$, and similarly for $Y$. Hence, we observe $4 \\times 4 = 16$ joint responses for $(X,Y)$, i.e. strata such as $\\{X$-never, $Y$-always$\\}$ and so on.\n",
    "\n",
    "These $18$ disturbance values form the parameters of our problem, i.e. the categorical laws $\\Pro(U_Z = u_Z)$ for $u_Z \\in S(U_Z)$ and $\\Pro(U_{XY} = u_{XY})$ for $u_{XY} \\in S(U_{XY})$. They are in one to one correspondence with the numbers $\\Pro(Z=z)\\, \\forall z$ and $\\Pro(X$-type$, Y$-type'$)$ for type $\\in \\{$always, never, comply, defy$\\}$.\n",
    "\n",
    "In this way, we can write down the axiomatic or **Kolmogorov** constraints, $\\mathcal{C}_\\mathcal{P}$, as \n",
    "\n",
    "\\begin{align}\n",
    "\\mathcal{C}_\\mathcal{P} = \n",
    "\\Big\\{\\Puz \\ge 0, \\Puxy \\ge 0, \\; \\text{for all} \\; \\uin{Z}, \\uin{XY}\\Big\\}\n",
    "  \\cap\n",
    "  \\left\\{\\sum_{\\uin{Z}} \\Puz = \\sum_{\\uin{XY}} \\Puxy = 1\\right\\}\n",
    "\\end{align}\n",
    "\n",
    "These conditions simply state that the unobservable disturbances are categorical probability distributions over their corresponding supports, in particular, they are nonnegative and sum to unity. \n",
    "\n",
    "Remark: some parameters might be eliminated from the optimisation because of redundancies implied by the laws of probability."
   ]
  },
  {
   "cell_type": "markdown",
   "id": "ab72d451-f5ee-4af4-bda5-0a49176e7701",
   "metadata": {},
   "source": [
    "Now, let us note that our parameters (i.e. $P(U=u)$) are further limited by the empirical data collected in the study. This is intuitive because the causal effect we determine should be informed by the empirical evidence of the study at hand. Indeed, in this problem, the data collected gives us $8$ empirical probabilities corresponding to the $8$ possible strata of our population. These (joint) probabilities take the form $\\Pro(Z=z, X=x, Y=y)$. We can compute them as follows, the column `prob` houses these probabilities."
   ]
  },
  {
   "cell_type": "code",
   "execution_count": 13,
   "id": "c3522c24-4459-4bca-be45-c001cac2b4a3",
   "metadata": {},
   "outputs": [
    {
     "data": {
      "text/html": [
       "<div>\n",
       "<style scoped>\n",
       "    .dataframe tbody tr th:only-of-type {\n",
       "        vertical-align: middle;\n",
       "    }\n",
       "\n",
       "    .dataframe tbody tr th {\n",
       "        vertical-align: top;\n",
       "    }\n",
       "\n",
       "    .dataframe thead th {\n",
       "        text-align: right;\n",
       "    }\n",
       "</style>\n",
       "<table border=\"1\" class=\"dataframe\">\n",
       "  <thead>\n",
       "    <tr style=\"text-align: right;\">\n",
       "      <th></th>\n",
       "      <th>Z</th>\n",
       "      <th>X</th>\n",
       "      <th>Y</th>\n",
       "      <th>prob</th>\n",
       "    </tr>\n",
       "  </thead>\n",
       "  <tbody>\n",
       "    <tr>\n",
       "      <th>0</th>\n",
       "      <td>0</td>\n",
       "      <td>0</td>\n",
       "      <td>0</td>\n",
       "      <td>0.066</td>\n",
       "    </tr>\n",
       "    <tr>\n",
       "      <th>1</th>\n",
       "      <td>0</td>\n",
       "      <td>0</td>\n",
       "      <td>1</td>\n",
       "      <td>0.031</td>\n",
       "    </tr>\n",
       "    <tr>\n",
       "      <th>2</th>\n",
       "      <td>0</td>\n",
       "      <td>1</td>\n",
       "      <td>0</td>\n",
       "      <td>0.377</td>\n",
       "    </tr>\n",
       "    <tr>\n",
       "      <th>3</th>\n",
       "      <td>0</td>\n",
       "      <td>1</td>\n",
       "      <td>1</td>\n",
       "      <td>0.176</td>\n",
       "    </tr>\n",
       "    <tr>\n",
       "      <th>4</th>\n",
       "      <td>1</td>\n",
       "      <td>0</td>\n",
       "      <td>0</td>\n",
       "      <td>0.063</td>\n",
       "    </tr>\n",
       "    <tr>\n",
       "      <th>5</th>\n",
       "      <td>1</td>\n",
       "      <td>0</td>\n",
       "      <td>1</td>\n",
       "      <td>0.198</td>\n",
       "    </tr>\n",
       "    <tr>\n",
       "      <th>6</th>\n",
       "      <td>1</td>\n",
       "      <td>1</td>\n",
       "      <td>0</td>\n",
       "      <td>0.021</td>\n",
       "    </tr>\n",
       "    <tr>\n",
       "      <th>7</th>\n",
       "      <td>1</td>\n",
       "      <td>1</td>\n",
       "      <td>1</td>\n",
       "      <td>0.068</td>\n",
       "    </tr>\n",
       "  </tbody>\n",
       "</table>\n",
       "</div>"
      ],
      "text/plain": [
       "   Z  X  Y   prob\n",
       "0  0  0  0  0.066\n",
       "1  0  0  1  0.031\n",
       "2  0  1  0  0.377\n",
       "3  0  1  1  0.176\n",
       "4  1  0  0  0.063\n",
       "5  1  0  1  0.198\n",
       "6  1  1  0  0.021\n",
       "7  1  1  1  0.068"
      ]
     },
     "execution_count": 13,
     "metadata": {},
     "output_type": "execute_result"
    }
   ],
   "source": [
    "# group individuals into strata\n",
    "dat = pd.DataFrame(raw_iv_dat.groupby(['Z', 'X', 'Y']).value_counts().reset_index()) \n",
    "dat['prob'] = dat['count'] / dat['count'].sum()\n",
    "dat = dat.drop(columns='count', axis=0)\n",
    "dat"
   ]
  },
  {
   "cell_type": "markdown",
   "id": "34b9a9c7-3fb7-4d7d-8362-82175f49b306",
   "metadata": {},
   "source": [
    "We now express these probabilities in terms of the parameters above: \n",
    "\\begin{equation}\n",
    "\\Pro(Z=z, X=x, Y=y) = \\sum_{u_Z, u_{XY} \\in \\overline{U}} \\Puz \\Puxy \n",
    "\\end{equation}\n",
    "where\n",
    "\\begin{equation}\n",
    "\\overline{U} = \\left\\{\\uin{Z}, \\uin{XY} : f_Z^{(U_Z = u_Z)}(\\varnothing) = z, f_X^{(U_{XY} = u_{XY})}(z) = x, f_Y^{(U_{XY} = u_{XY})}(z) = y\\right\\} \n",
    "\\end{equation}\n",
    "That is, the likelihood of jointly observing $(Z=z, X=x, Y=y)$ is equal to the joint likelihood of the disturbance relations which yield $(Z=z, X=x, Y=y)$ being realised. Recall that we assume here that disturbances are statistically independent. **note about canonical DAGs?\n",
    "\n",
    "This forced connection between the observed data and the causal disturbances forms the empirical constraints $\\mathcal{C}_\\mathcal{E}$.\n",
    "\n",
    "Both $\\mathcal{C}_\\mathcal{P}$ and $\\mathcal{C}_\\mathcal{E}$ are simple to implement in the `autobounds` package."
   ]
  },
  {
   "cell_type": "markdown",
   "id": "d2f74de0-6c1d-4c7c-83c5-65579c80ce43",
   "metadata": {},
   "source": [
    "--- \n",
    "Firstly, instantiate the causal problem with the corresponding causal DAG and load in the summary of observed frequencies of observed population strata. The `load_data` method can take either a filepath or a pandas dataframe, however it must have the structure of the dataframe `dat` computed above.  "
   ]
  },
  {
   "cell_type": "code",
   "execution_count": 14,
   "id": "62a4ae4a-450c-4327-b5a4-bd46afa900c9",
   "metadata": {},
   "outputs": [],
   "source": [
    "problem_just = causalProblem(dag_just)\n",
    "problem_just.load_data(dat)"
   ]
  },
  {
   "cell_type": "markdown",
   "id": "1a356806-4eea-475f-850e-b56ec9186a70",
   "metadata": {},
   "source": [
    "Encode the Kolmogorov and empirical constraints into the problem, informed by the observed frequencies as above."
   ]
  },
  {
   "cell_type": "code",
   "execution_count": 15,
   "id": "2e19c51a-a3f3-41de-b2a8-4de5b313e638",
   "metadata": {},
   "outputs": [],
   "source": [
    "problem_just.add_prob_constraints()"
   ]
  },
  {
   "cell_type": "markdown",
   "id": "b53b2beb-d641-4242-bdc8-3bead26ebc4b",
   "metadata": {},
   "source": [
    "$\\newcommand{\\E}{\\mathbb{E}}$\n",
    "Define the estimand of interest: here we seek the average treatment effect i.e.\n",
    "\\begin{equation}\n",
    "\\tau = \\E[Y(x=1)] - \\E[Y(x=0)] = \\Pro(Y(x=1)=1) - \\Pro(Y(x=0)=1),\n",
    "\\end{equation}\n",
    "since $Y$ is binary. We may write this in the parameters of our problem as follows (as this estimand does not depend on the disturbance $U_Z$)\n",
    "\\begin{equation}\n",
    "\\tau = \\sum_{u_{XY} \\in U_1} \\Puxy - \\sum_{u_{XY} \\in U_0} \\Puxy\n",
    "\\end{equation}\n",
    "where\n",
    "\\begin{equation}\n",
    "U_a = \\left\\{\\uin{XY}: f_Y^{(U_{XY} = u_{XY})}(x=a) = 1\\right\\}\n",
    "\\end{equation}\n",
    "\n",
    "for each $a \\in \\{0,1\\}$. We may use the `set_ate` method of the `causalProblem` class to define the ATE. Its first argument, `ind`, takes the treatment variable, while its second argument, `dep`, takes the outcome of interest. This method also contains a third argument, `cond`, which is the conditioning set of the ATE; in this case, we consider the whole population of individuals so this argument is left as defualt. "
   ]
  },
  {
   "cell_type": "code",
   "execution_count": 16,
   "id": "41c47b36-b9a1-491b-adcd-4d60a618825c",
   "metadata": {},
   "outputs": [],
   "source": [
    "problem_just.set_ate(ind=\"X\", dep=\"Y\")"
   ]
  },
  {
   "cell_type": "markdown",
   "id": "a7cfd936-d366-4150-8f9e-f68364938676",
   "metadata": {},
   "source": [
    "Remark that the researcher has posed no additional assumptions on the data than those of the causal graph, and so the constraint set $\\mathcal{C}_\\mathcal{A}$ is empty. Further remark that all constraint sets, $\\mathcal{C}_\\mathcal{E}$ and $\\mathcal{C}_\\mathcal{P}$, and the effect of interest $\\tau$ are polynomials in the parameters defined by the disturbances. \n",
    "\n",
    "With that in hand, now Autobounds will solve the optimisation problems\n",
    "\\begin{equation}\n",
    "\\text{min}\\; \\tau \\; \\text{subject to} \\; \\mathcal{C}_\\mathcal{E} \\cap \\mathcal{C}_\\mathcal{P}\n",
    "\\end{equation}\n",
    "and\n",
    "\\begin{equation}\n",
    "\\text{max}\\; \\tau \\; \\text{subject to} \\; \\mathcal{C}_\\mathcal{E} \\cap \\mathcal{C}_\\mathcal{P}.\n",
    "\\end{equation}\n",
    "\n",
    "In python, we first write the polynomial program using the method `write_program`. We then apply the method `run_scip` which will solve the optimisation problem stated above."
   ]
  },
  {
   "cell_type": "code",
   "execution_count": 18,
   "id": "d712cdce-8049-40ae-b489-902a064ab663",
   "metadata": {},
   "outputs": [
    {
     "name": "stdout",
     "output_type": "stream",
     "text": [
      "LOWER BOUND: # -- Primal: -0.5492337 / Dual: -0.5494856 / Time: 0.0 ##\n",
      "UPPER BOUND: # -- Primal: -0.1457116 / Dual: -0.1453633 / Time: 0.0 ##\n",
      "Problem is finished! Returning final values\n",
      "Problem is finished! Returning final values\n",
      "CURRENT THRESHOLDS: # -- Theta: 0.40412230000000005 / Epsilon: 0.0014874030443436936 ##\n",
      "==============================================\n",
      "Causal effect lies in the interval [-0.549, -0.146]\n"
     ]
    }
   ],
   "source": [
    "just_prog_ate = problem_just.write_program()\n",
    "\n",
    "\n",
    "# run optimisation routine, argument saves results at filename\n",
    "just_prog_ate_optim = just_prog_ate.run_scip('replication_files/results/iv_ate_cautious.csv')\n",
    "\n",
    "print(\"==============================================\")\n",
    "print(f\"Causal effect lies in the interval [{np.round(just_prog_ate_optim[0]['dual'], 3)}, \"\n",
    "      f\"{np.round(just_prog_ate_optim[1]['dual'], 3)}]\" \n",
    ")"
   ]
  },
  {
   "cell_type": "code",
   "execution_count": 21,
   "id": "e5b3caec-035b-45da-948a-4c2b2b113e54",
   "metadata": {},
   "outputs": [
    {
     "data": {
      "image/png": "[encoded data removed]",
      "text/plain": [
       "<Figure size 500x400 with 1 Axes>"
      ]
     },
     "metadata": {
      "image/png": {
       "height": 400,
       "width": 500
      }
     },
     "output_type": "display_data"
    },
    {
     "data": {
      "text/plain": [
       "<Figure Size: (500 x 400)>"
      ]
     },
     "execution_count": 21,
     "metadata": {},
     "output_type": "execute_result"
    }
   ],
   "source": [
    "just_prog_ate.plot()"
   ]
  },
  {
   "cell_type": "markdown",
   "id": "df71409e-8472-4b57-86f4-c0d0a6d35249",
   "metadata": {},
   "source": [
    "Thus we find that the average treatment effect $\\tau \\in [-0.549, -0.147]$. Scholar Just can conlude with confidence that there is a causal effect of $X$ on $Y$.\n",
    "\n",
    "**Intuition for $\\varepsilon$ and $\\theta$**?"
   ]
  },
  {
   "cell_type": "markdown",
   "id": "bf20a2e4-eb2f-42eb-85a9-7f0331d68ff1",
   "metadata": {},
   "source": [
    "### 3.1.2 Scholar Cautious\n",
    "\n",
    "* Scholar Cautious is very conservative their assumptions on the causal mechanism; they do not have faith in the exclusion restriction criterion on the instrument, which is reflected by the $Z \\rightarrow Y$ path on the graph below."
   ]
  },
  {
   "cell_type": "markdown",
   "id": "b3f2635c-ef9d-4637-9dc2-e37b3a00b48a",
   "metadata": {},
   "source": [
    "Scholar Cautious and Scholar Just differ in their approaches to this causal analysis in only one way. Scholar Cautious' additional conservatism has led to a change in the DAG that is appropriate for the study. Therefore, we proceed in `autobounds` much like Scholar Just, except that we add another path to the DAG at the beginning of the problem. We remark that the additional path $Z \\rightarrow Y$ reflects that Scholar Cautious does not have faith in the assumption that the instrument satisfies the *exclusion restriction* property of an IV."
   ]
  },
  {
   "cell_type": "code",
   "execution_count": 22,
   "id": "8063b1bd-8293-4241-adfa-f1ed72a6841f",
   "metadata": {},
   "outputs": [
    {
     "data": {
      "image/png": "[encoded data removed]",
      "text/plain": [
       "<Figure size 640x480 with 1 Axes>"
      ]
     },
     "metadata": {
      "image/png": {
       "height": 480,
       "width": 640
      }
     },
     "output_type": "display_data"
    }
   ],
   "source": [
    "dag_cautious = DAG()\n",
    "dag_cautious.from_structure(edges=\"Uz -> Z, Z -> X, Z -> Y, X -> Y, Uxy -> X, Uxy -> Y\", unob = \"Uz, Uxy\")\n",
    "dag_cautious.plot()"
   ]
  },
  {
   "cell_type": "markdown",
   "id": "f361308f-3a84-4409-8e51-daef31e9fae3",
   "metadata": {},
   "source": [
    "We then proceed as we did with Scholar Just, since all else remains unchanged."
   ]
  },
  {
   "cell_type": "code",
   "execution_count": 23,
   "id": "52ecc7e3-e5e1-4501-9ed3-bd0bbc2f2689",
   "metadata": {},
   "outputs": [
    {
     "name": "stdout",
     "output_type": "stream",
     "text": [
      "LOWER BOUND: # -- Primal: -0.627 / Dual: -0.627 / Time: 0.1 ##\n",
      "UPPER BOUND: # -- Primal: 0.373 / Dual: 0.373 / Time: 0.1 ##\n",
      "Problem is finished! Returning final values\n",
      "Problem is finished! Returning final values\n",
      "CURRENT THRESHOLDS: # -- Theta: 1.0 / Epsilon: 0.0 ##\n",
      "==============================================\n",
      "Causal effect lies in the interval [-0.627, 0.373]\n"
     ]
    }
   ],
   "source": [
    "problem_cautious = causalProblem(dag_cautious) # instantiate the causal problem\n",
    "problem_cautious.load_data(dat) # load the empirical data\n",
    "problem_cautious.add_prob_constraints() # add the Kolmogorov and emiprical constraints\n",
    "problem_cautious.set_ate(ind='X', dep='Y') # construct the causal estimand\n",
    "\n",
    "cautious_prog_ate = problem_cautious.write_program() # write the polynomial program\n",
    "cautious_prog_ate_optim = cautious_prog_ate.run_scip(filename='replication_files/results/iv_ate_cautious.csv') # run the optimisation routine\n",
    "\n",
    "print(\"==============================================\")\n",
    "print(f\"Causal effect lies in the interval [{np.round(cautious_prog_ate_optim[0]['dual'], 3)}, \"\n",
    "      f\"{np.round(cautious_prog_ate_optim[1]['dual'], 3)}]\" \n",
    ")"
   ]
  },
  {
   "cell_type": "code",
   "execution_count": 24,
   "id": "9b13164a-90f1-406f-9f92-5f3b7231f16a",
   "metadata": {},
   "outputs": [
    {
     "data": {
      "image/png": "[encoded data removed]",
      "text/plain": [
       "<Figure size 500x400 with 1 Axes>"
      ]
     },
     "metadata": {
      "image/png": {
       "height": 400,
       "width": 500
      }
     },
     "output_type": "display_data"
    },
    {
     "data": {
      "text/plain": [
       "<Figure Size: (500 x 400)>"
      ]
     },
     "execution_count": 24,
     "metadata": {},
     "output_type": "execute_result"
    }
   ],
   "source": [
    "cautious_prog_ate.plot()"
   ]
  },
  {
   "cell_type": "markdown",
   "id": "456ada56-3f73-4f72-811d-87586591cf72",
   "metadata": {},
   "source": [
    "Scholar Cautious determines that the average treatment effect $\\tau \\in [-0.627, 0.373]$. Therefore, Scholar Cautoius can **not** conlude with any confidence that there is a causal effect of $X$ on $Y$. Autobounds reflects Scholar Cautious' lack of faith ($Z \\rightarrow Y$) in the IV assumptions by revealing a significantly wider bound on the causal effect. "
   ]
  },
  {
   "cell_type": "markdown",
   "id": "7f15928e-663a-45e1-a3f5-5cf40dcf9e92",
   "metadata": {},
   "source": [
    "### 3.1.3 Scholar Confident"
   ]
  },
  {
   "cell_type": "markdown",
   "id": "ad79b3ce-6e0e-4a04-ba55-059e94bc7921",
   "metadata": {},
   "source": [
    "* Scholar Confident agrees with Scholar Just in terms of the data generating process, however, is overly confident in their assumptions on the individual behaviour of subjects in the study. In particular, they believe that the \"no defiers\" assumption holds, which we remark would permit us to point identify the local average treament effect in the compliers (see later). We can restate this assumption as a probabilisitc statement. The absence of defiers is equivalent to\n",
    "\\begin{equation}\n",
    "    \\mathbb{P}(D(z=1)=0, D(z=0)=1)) = 0.\n",
    "\\end{equation}\n",
    "We can tell `autobounds` to impose this assumption as a constraint on the optimisation problem it solves.\n",
    "\n",
    "    Indeed, Scholar Confident and Scholar Just agree on the constraint sets $\\mathcal{C}_\\mathcal{P}$ and $\\mathcal{C}_\\mathcal{E}$. However, we must also add a constraint on the problem in the form of Scholar Confident's further assumption on the behavioural makeup of the group. We may write (as this condition does not depend on the disturbance $U_Z$)\n",
    "    \\begin{equation}\n",
    "        \\mathbb{P}(D(z=1)=0, D(z=0)=1)) = \\sum_{u_{XY} \\in \\widehat{U} } \\Puxy,\n",
    "    \\end{equation}\n",
    "    where\n",
    "    \\begin{equation}\n",
    "        \\widehat{U} = \\left\\{ \\uin{XY} : f_D^{(U_{XY} = u_{XY})} (z=1) = 0, f_D^{(U_{XY} = u_{XY})} (z=0) = 1 \\right\\}.\n",
    "    \\end{equation}\n",
    "    Thus, we have that \n",
    "    \\begin{equation}\n",
    "    \\mathcal{C}_{\\mathcal{A}} = \\left\\{ \\sum_{u_{XY} \\in \\widehat{U} } \\Puxy = 0\\right\\}\n",
    "    \\end{equation}"
   ]
  },
  {
   "cell_type": "markdown",
   "id": "cfbc4c46-22c7-4b60-bbc5-3e651e350abe",
   "metadata": {},
   "source": [
    "We now proceed to implement this in the `autobounds` package. The code setup is very similar to that of Scholar Just's analysis, however we must add this further assumption $\\mathcal{A}$ to Scholar Confident's problem. "
   ]
  },
  {
   "cell_type": "code",
   "execution_count": 20,
   "id": "eff54307-964c-4f0e-afae-4ecc9b49136c",
   "metadata": {},
   "outputs": [],
   "source": [
    "problem_confident = causalProblem(dag_just) # initialise causal problem"
   ]
  },
  {
   "cell_type": "markdown",
   "id": "e619c9b0-0bb7-420a-949f-ad54b9976c31",
   "metadata": {},
   "source": [
    "Let us now add the monotonicity constraint to the problem. To do this, we first must tell the causal problem of the type of constraint we wish to add via the `query` method, following which the `add_constraint` method will augment the causal problem with this query. The `query` method takes the argument `expr` takes a character expression for the counterfactual event of interest, and the argument `sign` which takes one of the integers $\\pm 1$ to denote the sign of the query (this is useful when you have a difference of probabilities). \n",
    "\n",
    "The syntax required for the `expr` argument is very intuitive and matches the mathematical description used in this document. "
   ]
  },
  {
   "cell_type": "code",
   "execution_count": 21,
   "id": "96def1af-ec43-404a-a947-2cd4de282945",
   "metadata": {},
   "outputs": [],
   "source": [
    "q = problem_confident.query(expr='X(Z=0)=1&X(Z=1)=0', sign=1) # create the probability object of this counterfactual event, positive sign\n",
    "problem_confident.add_constraint(q) # adding the monotonicity constraint to the problem"
   ]
  },
  {
   "cell_type": "markdown",
   "id": "dbb7c30f-0ba8-43ab-972d-304d5e4a511a",
   "metadata": {},
   "source": [
    "We then proceed as before, with the slight modification that Autobounds now solves\n",
    "\\begin{equation}\n",
    "\\text{min}\\; \\tau \\; \\text{subject to} \\; \\mathcal{C}_\\mathcal{E} \\cap \\mathcal{C}_\\mathcal{P} \\cap \\mathcal{C}_\\mathcal{A}\n",
    "\\end{equation}\n",
    "and\n",
    "\\begin{equation}\n",
    "\\text{max}\\; \\tau \\; \\text{subject to} \\; \\mathcal{C}_\\mathcal{E} \\cap \\mathcal{C}_\\mathcal{P} \\cap \\mathcal{C}_\\mathcal{A}\n",
    "\\end{equation}"
   ]
  },
  {
   "cell_type": "code",
   "execution_count": 22,
   "id": "d1d999e4-f9bb-4684-8ad0-5c6f08626132",
   "metadata": {},
   "outputs": [
    {
     "name": "stdout",
     "output_type": "stream",
     "text": [
      "Problem is infeasible. Returning without solutions\n",
      "Problem is infeasible. Returning without solutions\n"
     ]
    }
   ],
   "source": [
    "problem_confident.load_data(dat)\n",
    "problem_confident.add_prob_constraints()\n",
    "problem_confident.set_ate(ind='X', dep='Y')\n",
    "confident_prog_ate = problem_confident.write_program()\n",
    "confident_prog_ate_optim = confident_prog_ate.run_scip(filename='replication_files/results/iv_ate_overconfident') "
   ]
  },
  {
   "cell_type": "markdown",
   "id": "0003d488-5e07-4a4d-b7a5-413079d47cdb",
   "metadata": {},
   "source": [
    "At the end of this analysis, we find that Scholar Confident cannot elicit any information from their set up: Autobounds returns the problem as infeasible. This implies that there is some conflict between the assumptions of the model and the data generating process. \n",
    "\n",
    "It is well known that the causal IV graph implies some inequality constraints on the factual distributions of the variables conditional on the instrument. Most generally, they take the form\n",
    "\\begin{equation}\n",
    "\\max_{x} \\sum_y \\max_z \\left[\\Pro(X=x, Y=y | Z=z)\\right] \\le 1.\n",
    "\\end{equation}\n",
    "However, since the problem proposed by Scholar Just was feasible, and that of Scholar Cautious had even weaker assumptions, this result suggests that the \"no defiers\" assumption is too strong for this analysis (although this is directly untestable.) Scholar Confident may henceforth wish to reexamine their beliefs in another attempt at this analysis. "
   ]
  },
  {
   "cell_type": "markdown",
   "id": "5d687546-5825-4d87-ac91-d3520085094a",
   "metadata": {},
   "source": [
    "## 3.2 The LATE\n",
    "\n",
    "Suppose now that is of interest to each Scholar to compute the local average treatment effect (LATE) in the compliers. No Scholar has changed their beliefs or assumptions about the data generating process or external assumptions. Mathematically, this estimand takes the form\n",
    "\\begin{align}\n",
    "\\tau^* &= \\E[Y(x=1) - Y(x=0) | X(z=1) = 1, X(z=0) = 0] \\\\\n",
    "&= \\Pro(Y(x=1)=1|X(z=1) = 1, X(z=0) = 0) - \\Pro(Y(x=0)=1 | X(z=1) = 1, X(z=0) = 0).\n",
    "\\end{align}\n",
    "Algebraically, slightly more work is required to establish the polynomial program, however it is no more difficult to implement in the `autobounds` package. We will instantiate the causal problem for each Scholar together and the analyse the results.\n",
    "\n",
    "Firstly, let us reinstantiate the causal problems of interest and write the polynomial programs. It is important to note here that because the causal effect of interest ($\\tau^*$) conditions on some group of the population, that we do do not condition on a zero probability event. Indeed, this is critical for two reasons: \n",
    "\n",
    "* (i) in the absence of compliers (say) in the data, the data does not support the computation of the LATE; and\n",
    "* (ii) a zero or near zero denominator of the causal estimand will rock the numerical stability of the program, leading to an explosion of the bounds.\n",
    "\n",
    "To rectify this, by default, `autobounds` adds a constraint to the polynomial program which forces the frequency of the event in the conditioning set to exceed some minimum threshold. Fortunately, though, if the data conflict with this constraint Autobounds will render the problem infeasible."
   ]
  },
  {
   "cell_type": "code",
   "execution_count": 35,
   "id": "e2b16168-bd56-4693-888e-02d78d088762",
   "metadata": {},
   "outputs": [],
   "source": [
    "# Scholar Just\n",
    "just_late = causalProblem(dag_just)\n",
    "just_late.load_data(dat)\n",
    "just_late.add_prob_constraints()\n",
    "just_late.set_ate(ind = \"X\",\n",
    "                  dep = \"Y\",\n",
    "                  cond = \"X(Z=1)=1&X(Z=0)=0\") # within the compliers \n",
    "just_prog_late = just_late.write_program()\n",
    "\n",
    "# Scholar Cautious\n",
    "cautious_late = causalProblem(dag_cautious)\n",
    "cautious_late.load_data(dat)\n",
    "cautious_late.add_prob_constraints()\n",
    "cautious_late.set_ate(ind = \"X\",\n",
    "                      dep = \"Y\",\n",
    "                      cond = \"X(Z=1)=1&X(Z=0)=0\")\n",
    "cautious_prog_late = cautious_late.write_program()\n",
    "\n",
    "# Scholar Confident\n",
    "confident_late = causalProblem(dag_just)\n",
    "confident_late.load_data(dat)\n",
    "confident_late.add_prob_constraints()\n",
    "confident_late.add_constraint(confident_late.query(\"X(Z=0)=1&X(Z=1)=0\")) # no defiers\n",
    "confident_late.set_ate(ind = \"X\",\n",
    "                      dep = \"Y\",\n",
    "                      cond = \"X(Z=1)=1&X(Z=0)=0\")\n",
    "confident_prog_late = confident_late.write_program()"
   ]
  },
  {
   "attachments": {},
   "cell_type": "markdown",
   "id": "71a6d4b4-c477-4ffc-bcdb-faec5458b5cf",
   "metadata": {},
   "source": [
    "Notice that the LATE is an average treatment effect within a specific stratum of individuals in the study. Therefore, we use the third argument of the `set_ate` method, `cond`, to indicate that we wish to compute the average treatment effect in the compliers, the syntax for which we have already seen. \n",
    "\n",
    "We now run the optimisation routines."
   ]
  },
  {
   "cell_type": "markdown",
   "id": "fff268df-7b80-4107-b841-f7b513987cc1",
   "metadata": {},
   "source": [
    "**Scholar Just (LATE)**"
   ]
  },
  {
   "cell_type": "code",
   "execution_count": 38,
   "id": "653a2b0f-6a12-4ad5-9cd6-c999b6b67bd1",
   "metadata": {},
   "outputs": [
    {
     "name": "stdout",
     "output_type": "stream",
     "text": [
      "LOWER BOUND: # -- Primal: -1.00637 / Dual: -1.00637 / Time: * 0.1 ##\n",
      "UPPER BOUND: # -- Primal: 1.009324 / Dual: 1.009324 / Time: * 0.1 ##\n",
      "Problem is finished! Returning final values\n",
      "Problem is finished! Returning final values\n",
      "CURRENT THRESHOLDS: # -- Theta: 2.015694 / Epsilon: 0.0 ##\n",
      "==============================================\n",
      "Causal effect lies in the interval [-1.006, 1.009]\n"
     ]
    }
   ],
   "source": [
    "just_prog_late_optim = just_prog_late.run_scip(filename = 'replication_files/results/iv_late_just.csv') \n",
    "print(\"==============================================\")\n",
    "print(f\"Causal effect lies in the interval [{np.round(just_prog_late_optim[0]['dual'], 3)}, \"\n",
    "      f\"{np.round(just_prog_late_optim[1]['dual'], 3)}]\" \n",
    ")"
   ]
  },
  {
   "cell_type": "markdown",
   "id": "05841b1d-8337-4b2d-b65b-f191c77d9197",
   "metadata": {},
   "source": [
    "**Scholar Cautious (LATE)**"
   ]
  },
  {
   "cell_type": "code",
   "execution_count": 39,
   "id": "34ab2e4e-45ec-45b1-aaa7-4e695d2f7965",
   "metadata": {},
   "outputs": [
    {
     "name": "stdout",
     "output_type": "stream",
     "text": [
      "LOWER BOUND: # -- Primal: -10 / Dual: -342421.9 / Time: 0.4 ##\n",
      "UPPER BOUND: # -- Primal: -10 / Dual: 311830.0 / Time: 0.4 ##\n",
      "CURRENT THRESHOLDS: # -- Theta: 654251.9 / Epsilon: 99999999 ##\n",
      "LOWER BOUND: # -- Primal: -10 / Dual: -338912.1 / Time: 1.5 ##\n",
      "UPPER BOUND: # -- Primal: -10 / Dual: 310890.5 / Time: 1.5 ##\n",
      "CURRENT THRESHOLDS: # -- Theta: 649802.6 / Epsilon: 99999999 ##\n",
      "LOWER BOUND: # -- Primal: -10 / Dual: -335855.1 / Time: 2.5 ##\n",
      "UPPER BOUND: # -- Primal: -10 / Dual: 309966.5 / Time: 2.5 ##\n",
      "CURRENT THRESHOLDS: # -- Theta: 645821.6 / Epsilon: 99999999 ##\n",
      "LOWER BOUND: # -- Primal: -10 / Dual: -332531.0 / Time: 3.5 ##\n",
      "UPPER BOUND: # -- Primal: -10 / Dual: 309018.2 / Time: 3.5 ##\n",
      "CURRENT THRESHOLDS: # -- Theta: 641549.2 / Epsilon: 99999999 ##\n",
      "LOWER BOUND: # -- Primal: -10 / Dual: -328951.8 / Time: 4.5 ##\n",
      "UPPER BOUND: # -- Primal: -10 / Dual: 308073.1 / Time: 4.5 ##\n",
      "CURRENT THRESHOLDS: # -- Theta: 637024.8999999999 / Epsilon: 99999999 ##\n",
      "LOWER BOUND: # -- Primal: -10 / Dual: -325624.1 / Time: 5.5 ##\n",
      "UPPER BOUND: # -- Primal: -10 / Dual: 307141.5 / Time: 5.5 ##\n",
      "CURRENT THRESHOLDS: # -- Theta: 632765.6 / Epsilon: 99999999 ##\n",
      "LOWER BOUND: # -- Primal: -10 / Dual: -322324.7 / Time: 6.5 ##\n",
      "UPPER BOUND: # -- Primal: -10 / Dual: 306207.9 / Time: 6.5 ##\n",
      "CURRENT THRESHOLDS: # -- Theta: 628532.6000000001 / Epsilon: 99999999 ##\n",
      "LOWER BOUND: # -- Primal: -10 / Dual: -318342.8 / Time: 7.5 ##\n",
      "UPPER BOUND: # -- Primal: -10 / Dual: 305267.0 / Time: 7.5 ##\n",
      "CURRENT THRESHOLDS: # -- Theta: 623609.8 / Epsilon: 99999999 ##\n",
      "LOWER BOUND: # -- Primal: -10 / Dual: -314660.8 / Time: 8.5 ##\n",
      "UPPER BOUND: # -- Primal: -10 / Dual: 305202.0 / Time: 8.5 ##\n",
      "CURRENT THRESHOLDS: # -- Theta: 619862.8 / Epsilon: 99999999 ##\n",
      "LOWER BOUND: # -- Primal: -10 / Dual: -298145.5 / Time: 9.5 ##\n",
      "UPPER BOUND: # -- Primal: -10 / Dual: 305202.0 / Time: 9.5 ##\n",
      "CURRENT THRESHOLDS: # -- Theta: 603347.5 / Epsilon: 99999999 ##\n",
      "LOWER BOUND: # -- Primal: -10 / Dual: -298145.5 / Time: 10.5 ##\n",
      "UPPER BOUND: # -- Primal: -10 / Dual: 305202.0 / Time: 10.5 ##\n",
      "CURRENT THRESHOLDS: # -- Theta: 603347.5 / Epsilon: 99999999 ##\n",
      "LOWER BOUND: # -- Primal: -10 / Dual: -298145.4 / Time: 11.5 ##\n",
      "UPPER BOUND: # -- Primal: -10 / Dual: 305202.0 / Time: 11.5 ##\n",
      "CURRENT THRESHOLDS: # -- Theta: 603347.4 / Epsilon: 99999999 ##\n",
      "LOWER BOUND: # -- Primal: -10 / Dual: -298145.3 / Time: 12.5 ##\n",
      "UPPER BOUND: # -- Primal: -10 / Dual: 305202.0 / Time: 12.5 ##\n",
      "CURRENT THRESHOLDS: # -- Theta: 603347.3 / Epsilon: 99999999 ##\n",
      "LOWER BOUND: # -- Primal: -10 / Dual: -298145.3 / Time: 13.5 ##\n",
      "UPPER BOUND: # -- Primal: -10 / Dual: 305202.0 / Time: 13.5 ##\n",
      "CURRENT THRESHOLDS: # -- Theta: 603347.3 / Epsilon: 99999999 ##\n",
      "LOWER BOUND: # -- Primal: -10 / Dual: -298145.2 / Time: 14.5 ##\n",
      "UPPER BOUND: # -- Primal: -10 / Dual: 305202.0 / Time: 14.5 ##\n",
      "CURRENT THRESHOLDS: # -- Theta: 603347.2 / Epsilon: 99999999 ##\n",
      "LOWER BOUND: # -- Primal: -10 / Dual: -298145.2 / Time: 15.6 ##\n",
      "UPPER BOUND: # -- Primal: -10 / Dual: 305202.0 / Time: 15.5 ##\n",
      "CURRENT THRESHOLDS: # -- Theta: 603347.2 / Epsilon: 99999999 ##\n",
      "LOWER BOUND: # -- Primal: -10 / Dual: -298145.1 / Time: 16.5 ##\n",
      "UPPER BOUND: # -- Primal: -10 / Dual: 305202.0 / Time: 16.6 ##\n",
      "CURRENT THRESHOLDS: # -- Theta: 603347.1 / Epsilon: 99999999 ##\n",
      "LOWER BOUND: # -- Primal: -10 / Dual: -298145.1 / Time: 17.6 ##\n",
      "UPPER BOUND: # -- Primal: -10 / Dual: 305202.0 / Time: 17.6 ##\n",
      "CURRENT THRESHOLDS: # -- Theta: 603347.1 / Epsilon: 99999999 ##\n",
      "LOWER BOUND: # -- Primal: -10 / Dual: -298145.0 / Time: 18.6 ##\n",
      "UPPER BOUND: # -- Primal: -10 / Dual: 305202.0 / Time: 18.5 ##\n",
      "CURRENT THRESHOLDS: # -- Theta: 603347.0 / Epsilon: 99999999 ##\n",
      "LOWER BOUND: # -- Primal: -10 / Dual: -298144.9 / Time: 19.6 ##\n",
      "UPPER BOUND: # -- Primal: -10 / Dual: 305202.0 / Time: 19.6 ##\n",
      "CURRENT THRESHOLDS: # -- Theta: 603346.9 / Epsilon: 99999999 ##\n",
      "LOWER BOUND: # -- Primal: -10 / Dual: -298144.9 / Time: 20.6 ##\n",
      "UPPER BOUND: # -- Primal: -10 / Dual: 305202.0 / Time: 20.5 ##\n",
      "CURRENT THRESHOLDS: # -- Theta: 603346.9 / Epsilon: 99999999 ##\n",
      "LOWER BOUND: # -- Primal: -10 / Dual: -298144.8 / Time: 21.6 ##\n",
      "UPPER BOUND: # -- Primal: -10 / Dual: 305202.0 / Time: 21.6 ##\n",
      "CURRENT THRESHOLDS: # -- Theta: 603346.8 / Epsilon: 99999999 ##\n",
      "LOWER BOUND: # -- Primal: -10 / Dual: -298144.8 / Time: 22.5 ##\n",
      "UPPER BOUND: # -- Primal: -10 / Dual: 305202.0 / Time: 22.6 ##\n",
      "CURRENT THRESHOLDS: # -- Theta: 603346.8 / Epsilon: 99999999 ##\n",
      "LOWER BOUND: # -- Primal: -10 / Dual: -298144.7 / Time: 23.6 ##\n",
      "UPPER BOUND: # -- Primal: -10 / Dual: 305202.0 / Time: 23.6 ##\n",
      "CURRENT THRESHOLDS: # -- Theta: 603346.7 / Epsilon: 99999999 ##\n",
      "LOWER BOUND: # -- Primal: -10 / Dual: -298144.7 / Time: 24.6 ##\n",
      "UPPER BOUND: # -- Primal: -10 / Dual: 305202.0 / Time: 24.6 ##\n",
      "CURRENT THRESHOLDS: # -- Theta: 603346.7 / Epsilon: 99999999 ##\n",
      "LOWER BOUND: # -- Primal: -10 / Dual: -298144.6 / Time: 25.6 ##\n",
      "UPPER BOUND: # -- Primal: -10 / Dual: 305202.0 / Time: 25.6 ##\n",
      "CURRENT THRESHOLDS: # -- Theta: 603346.6 / Epsilon: 99999999 ##\n",
      "LOWER BOUND: # -- Primal: -10 / Dual: -298144.5 / Time: 26.6 ##\n",
      "UPPER BOUND: # -- Primal: -10 / Dual: 305202.0 / Time: 26.6 ##\n",
      "CURRENT THRESHOLDS: # -- Theta: 603346.5 / Epsilon: 99999999 ##\n",
      "LOWER BOUND: # -- Primal: -10 / Dual: -298144.5 / Time: 27.6 ##\n",
      "UPPER BOUND: # -- Primal: -10 / Dual: 305202.0 / Time: 27.6 ##\n",
      "CURRENT THRESHOLDS: # -- Theta: 603346.5 / Epsilon: 99999999 ##\n",
      "LOWER BOUND: # -- Primal: -10 / Dual: -298144.4 / Time: 28.6 ##\n",
      "UPPER BOUND: # -- Primal: -10 / Dual: 305202.0 / Time: 28.6 ##\n",
      "CURRENT THRESHOLDS: # -- Theta: 603346.4 / Epsilon: 99999999 ##\n",
      "LOWER BOUND: # -- Primal: -10 / Dual: -298144.4 / Time: 29.6 ##\n",
      "UPPER BOUND: # -- Primal: -10 / Dual: 305202.0 / Time: 29.6 ##\n",
      "CURRENT THRESHOLDS: # -- Theta: 603346.4 / Epsilon: 99999999 ##\n",
      "LOWER BOUND: # -- Primal: -10 / Dual: -298144.3 / Time: 30.6 ##\n",
      "UPPER BOUND: # -- Primal: -10 / Dual: 305202.0 / Time: 30.6 ##\n",
      "CURRENT THRESHOLDS: # -- Theta: 603346.3 / Epsilon: 99999999 ##\n",
      "LOWER BOUND: # -- Primal: -10 / Dual: -298144.3 / Time: 31.6 ##\n",
      "UPPER BOUND: # -- Primal: -10 / Dual: 305202.0 / Time: 31.6 ##\n",
      "CURRENT THRESHOLDS: # -- Theta: 603346.3 / Epsilon: 99999999 ##\n",
      "LOWER BOUND: # -- Primal: -10 / Dual: -298144.2 / Time: 32.6 ##\n",
      "UPPER BOUND: # -- Primal: -10 / Dual: 305202.0 / Time: 32.6 ##\n",
      "CURRENT THRESHOLDS: # -- Theta: 603346.2 / Epsilon: 99999999 ##\n",
      "LOWER BOUND: # -- Primal: -10 / Dual: -298144.1 / Time: 33.6 ##\n",
      "UPPER BOUND: # -- Primal: -10 / Dual: 305202.0 / Time: 33.6 ##\n",
      "CURRENT THRESHOLDS: # -- Theta: 603346.1 / Epsilon: 99999999 ##\n",
      "LOWER BOUND: # -- Primal: -10 / Dual: -298144.1 / Time: 34.6 ##\n",
      "UPPER BOUND: # -- Primal: -10 / Dual: 305202.0 / Time: 34.6 ##\n",
      "CURRENT THRESHOLDS: # -- Theta: 603346.1 / Epsilon: 99999999 ##\n",
      "LOWER BOUND: # -- Primal: -10 / Dual: -298144.0 / Time: 35.6 ##\n",
      "UPPER BOUND: # -- Primal: -10 / Dual: 305202.0 / Time: 35.6 ##\n",
      "CURRENT THRESHOLDS: # -- Theta: 603346.0 / Epsilon: 99999999 ##\n",
      "LOWER BOUND: # -- Primal: -10 / Dual: -298144.0 / Time: 36.6 ##\n",
      "UPPER BOUND: # -- Primal: -10 / Dual: 305202.0 / Time: 36.6 ##\n",
      "CURRENT THRESHOLDS: # -- Theta: 603346.0 / Epsilon: 99999999 ##\n",
      "LOWER BOUND: # -- Primal: -10 / Dual: -298143.9 / Time: 37.6 ##\n",
      "UPPER BOUND: # -- Primal: -10 / Dual: 305202.0 / Time: 37.6 ##\n",
      "CURRENT THRESHOLDS: # -- Theta: 603345.9 / Epsilon: 99999999 ##\n",
      "LOWER BOUND: # -- Primal: -10 / Dual: -298143.8 / Time: 38.6 ##\n",
      "UPPER BOUND: # -- Primal: -10 / Dual: 305202.0 / Time: 38.6 ##\n",
      "CURRENT THRESHOLDS: # -- Theta: 603345.8 / Epsilon: 99999999 ##\n",
      "LOWER BOUND: # -- Primal: -10 / Dual: -298143.8 / Time: 39.6 ##\n",
      "UPPER BOUND: # -- Primal: -10 / Dual: 305202.0 / Time: 39.6 ##\n",
      "CURRENT THRESHOLDS: # -- Theta: 603345.8 / Epsilon: 99999999 ##\n",
      "LOWER BOUND: # -- Primal: -10 / Dual: -298143.7 / Time: 40.7 ##\n",
      "UPPER BOUND: # -- Primal: -10 / Dual: 305202.0 / Time: 40.7 ##\n",
      "CURRENT THRESHOLDS: # -- Theta: 603345.7 / Epsilon: 99999999 ##\n",
      "LOWER BOUND: # -- Primal: -10 / Dual: -298143.7 / Time: 41.7 ##\n",
      "UPPER BOUND: # -- Primal: -10 / Dual: 305202.0 / Time: 41.7 ##\n",
      "CURRENT THRESHOLDS: # -- Theta: 603345.7 / Epsilon: 99999999 ##\n",
      "LOWER BOUND: # -- Primal: -10 / Dual: -298143.6 / Time: 42.7 ##\n",
      "UPPER BOUND: # -- Primal: -10 / Dual: 305202.0 / Time: 42.7 ##\n",
      "CURRENT THRESHOLDS: # -- Theta: 603345.6 / Epsilon: 99999999 ##\n",
      "LOWER BOUND: # -- Primal: -10 / Dual: -298143.6 / Time: 43.7 ##\n",
      "UPPER BOUND: # -- Primal: -10 / Dual: 305202.0 / Time: 43.7 ##\n",
      "CURRENT THRESHOLDS: # -- Theta: 603345.6 / Epsilon: 99999999 ##\n",
      "LOWER BOUND: # -- Primal: -10 / Dual: -298143.5 / Time: 44.7 ##\n",
      "UPPER BOUND: # -- Primal: -10 / Dual: 305202.0 / Time: 44.7 ##\n",
      "CURRENT THRESHOLDS: # -- Theta: 603345.5 / Epsilon: 99999999 ##\n",
      "LOWER BOUND: # -- Primal: -10 / Dual: -298143.4 / Time: 45.7 ##\n",
      "UPPER BOUND: # -- Primal: -10 / Dual: 305202.0 / Time: 45.7 ##\n",
      "CURRENT THRESHOLDS: # -- Theta: 603345.4 / Epsilon: 99999999 ##\n",
      "LOWER BOUND: # -- Primal: -10 / Dual: -298143.4 / Time: 46.7 ##\n",
      "UPPER BOUND: # -- Primal: -10 / Dual: 305202.0 / Time: 46.7 ##\n",
      "CURRENT THRESHOLDS: # -- Theta: 603345.4 / Epsilon: 99999999 ##\n",
      "LOWER BOUND: # -- Primal: -10 / Dual: -298143.3 / Time: 47.7 ##\n",
      "UPPER BOUND: # -- Primal: -10 / Dual: 305202.0 / Time: 47.7 ##\n",
      "CURRENT THRESHOLDS: # -- Theta: 603345.3 / Epsilon: 99999999 ##\n",
      "LOWER BOUND: # -- Primal: -10 / Dual: -298143.3 / Time: 48.7 ##\n",
      "UPPER BOUND: # -- Primal: -10 / Dual: 305202.0 / Time: 48.7 ##\n",
      "CURRENT THRESHOLDS: # -- Theta: 603345.3 / Epsilon: 99999999 ##\n",
      "LOWER BOUND: # -- Primal: -10 / Dual: -298143.2 / Time: 49.7 ##\n",
      "UPPER BOUND: # -- Primal: -10 / Dual: 305202.0 / Time: 49.7 ##\n",
      "CURRENT THRESHOLDS: # -- Theta: 603345.2 / Epsilon: 99999999 ##\n",
      "LOWER BOUND: # -- Primal: -10 / Dual: -298143.1 / Time: 50.7 ##\n",
      "UPPER BOUND: # -- Primal: -10 / Dual: 305202.0 / Time: 50.7 ##\n",
      "CURRENT THRESHOLDS: # -- Theta: 603345.1 / Epsilon: 99999999 ##\n",
      "LOWER BOUND: # -- Primal: -10 / Dual: -298143.1 / Time: 51.7 ##\n",
      "UPPER BOUND: # -- Primal: -10 / Dual: 305202.0 / Time: 51.7 ##\n",
      "CURRENT THRESHOLDS: # -- Theta: 603345.1 / Epsilon: 99999999 ##\n",
      "LOWER BOUND: # -- Primal: -10 / Dual: -298143.0 / Time: 52.7 ##\n",
      "UPPER BOUND: # -- Primal: -10 / Dual: 305202.0 / Time: 52.7 ##\n",
      "CURRENT THRESHOLDS: # -- Theta: 603345.0 / Epsilon: 99999999 ##\n",
      "LOWER BOUND: # -- Primal: -10 / Dual: -298143.0 / Time: 53.7 ##\n",
      "UPPER BOUND: # -- Primal: -10 / Dual: 305202.0 / Time: 53.7 ##\n",
      "CURRENT THRESHOLDS: # -- Theta: 603345.0 / Epsilon: 99999999 ##\n",
      "LOWER BOUND: # -- Primal: -10 / Dual: -298142.9 / Time: 54.7 ##\n",
      "UPPER BOUND: # -- Primal: -10 / Dual: 305202.0 / Time: 54.7 ##\n",
      "CURRENT THRESHOLDS: # -- Theta: 603344.9 / Epsilon: 99999999 ##\n",
      "LOWER BOUND: # -- Primal: -10 / Dual: -298142.9 / Time: 55.7 ##\n",
      "UPPER BOUND: # -- Primal: -10 / Dual: 305202.0 / Time: 55.7 ##\n",
      "CURRENT THRESHOLDS: # -- Theta: 603344.9 / Epsilon: 99999999 ##\n",
      "LOWER BOUND: # -- Primal: -10 / Dual: -298142.8 / Time: 56.7 ##\n",
      "UPPER BOUND: # -- Primal: -10 / Dual: 305202.0 / Time: 56.7 ##\n",
      "CURRENT THRESHOLDS: # -- Theta: 603344.8 / Epsilon: 99999999 ##\n",
      "LOWER BOUND: # -- Primal: -10 / Dual: -298142.7 / Time: 57.8 ##\n",
      "UPPER BOUND: # -- Primal: -10 / Dual: 305202.0 / Time: 57.7 ##\n",
      "CURRENT THRESHOLDS: # -- Theta: 603344.7 / Epsilon: 99999999 ##\n",
      "LOWER BOUND: # -- Primal: -10 / Dual: -298142.7 / Time: 58.8 ##\n",
      "UPPER BOUND: # -- Primal: -10 / Dual: 305202.0 / Time: 58.8 ##\n",
      "CURRENT THRESHOLDS: # -- Theta: 603344.7 / Epsilon: 99999999 ##\n",
      "LOWER BOUND: # -- Primal: -10 / Dual: -298142.6 / Time: 59.7 ##\n",
      "UPPER BOUND: # -- Primal: -10 / Dual: 305202.0 / Time: 59.8 ##\n",
      "CURRENT THRESHOLDS: # -- Theta: 603344.6 / Epsilon: 99999999 ##\n",
      "LOWER BOUND: # -- Primal: -10 / Dual: -298142.6 / Time: 60.7 ##\n",
      "UPPER BOUND: # -- Primal: -10 / Dual: 305202.0 / Time: 60.7 ##\n",
      "CURRENT THRESHOLDS: # -- Theta: 603344.6 / Epsilon: 99999999 ##\n",
      "LOWER BOUND: # -- Primal: -10 / Dual: -298142.5 / Time: 61.8 ##\n",
      "UPPER BOUND: # -- Primal: -10 / Dual: 305202.0 / Time: 61.8 ##\n",
      "CURRENT THRESHOLDS: # -- Theta: 603344.5 / Epsilon: 99999999 ##\n",
      "LOWER BOUND: # -- Primal: -10 / Dual: -298142.4 / Time: 62.8 ##\n",
      "UPPER BOUND: # -- Primal: -10 / Dual: 305202.0 / Time: 62.8 ##\n",
      "CURRENT THRESHOLDS: # -- Theta: 603344.4 / Epsilon: 99999999 ##\n",
      "LOWER BOUND: # -- Primal: -10 / Dual: -298142.4 / Time: 63.8 ##\n",
      "UPPER BOUND: # -- Primal: -10 / Dual: 305202.0 / Time: 63.8 ##\n",
      "CURRENT THRESHOLDS: # -- Theta: 603344.4 / Epsilon: 99999999 ##\n",
      "LOWER BOUND: # -- Primal: -10 / Dual: -298142.3 / Time: 64.8 ##\n",
      "UPPER BOUND: # -- Primal: -10 / Dual: 305202.0 / Time: 64.8 ##\n",
      "CURRENT THRESHOLDS: # -- Theta: 603344.3 / Epsilon: 99999999 ##\n",
      "LOWER BOUND: # -- Primal: -10 / Dual: -298142.3 / Time: 65.8 ##\n",
      "UPPER BOUND: # -- Primal: -10 / Dual: 305202.0 / Time: 65.7 ##\n",
      "CURRENT THRESHOLDS: # -- Theta: 603344.3 / Epsilon: 99999999 ##\n"
     ]
    },
    {
     "ename": "KeyboardInterrupt",
     "evalue": "",
     "output_type": "error",
     "traceback": [
      "\u001b[0;31m---------------------------------------------------------------------------\u001b[0m",
      "\u001b[0;31mKeyboardInterrupt\u001b[0m                         Traceback (most recent call last)",
      "Cell \u001b[0;32mIn[39], line 1\u001b[0m\n\u001b[0;32m----> 1\u001b[0m cautious_prog_late_optim \u001b[38;5;241m=\u001b[39m \u001b[43mcautious_prog_late\u001b[49m\u001b[38;5;241;43m.\u001b[39;49m\u001b[43mrun_scip\u001b[49m\u001b[43m(\u001b[49m\u001b[43mfilename\u001b[49m\u001b[43m \u001b[49m\u001b[38;5;241;43m=\u001b[39;49m\u001b[43m \u001b[49m\u001b[38;5;124;43m'\u001b[39;49m\u001b[38;5;124;43mreplication_files/results/iv_late_cautious.csv\u001b[39;49m\u001b[38;5;124;43m'\u001b[39;49m\u001b[43m)\u001b[49m\n\u001b[1;32m      2\u001b[0m \u001b[38;5;28mprint\u001b[39m(\u001b[38;5;124m\"\u001b[39m\u001b[38;5;124m==============================================\u001b[39m\u001b[38;5;124m\"\u001b[39m)\n\u001b[1;32m      3\u001b[0m \u001b[38;5;28mprint\u001b[39m(\u001b[38;5;124mf\u001b[39m\u001b[38;5;124m\"\u001b[39m\u001b[38;5;124mCausal effect lies in the interval [\u001b[39m\u001b[38;5;132;01m{\u001b[39;00mnp\u001b[38;5;241m.\u001b[39mround(cautious_prog_late_optim[\u001b[38;5;241m0\u001b[39m][\u001b[38;5;124m'\u001b[39m\u001b[38;5;124mprimal\u001b[39m\u001b[38;5;124m'\u001b[39m],\u001b[38;5;250m \u001b[39m\u001b[38;5;241m3\u001b[39m)\u001b[38;5;132;01m}\u001b[39;00m\u001b[38;5;124m, \u001b[39m\u001b[38;5;124m\"\u001b[39m\n\u001b[1;32m      4\u001b[0m       \u001b[38;5;124mf\u001b[39m\u001b[38;5;124m\"\u001b[39m\u001b[38;5;132;01m{\u001b[39;00mnp\u001b[38;5;241m.\u001b[39mround(cautious_prog_late_optim[\u001b[38;5;241m1\u001b[39m][\u001b[38;5;124m'\u001b[39m\u001b[38;5;124mprimal\u001b[39m\u001b[38;5;124m'\u001b[39m],\u001b[38;5;250m \u001b[39m\u001b[38;5;241m3\u001b[39m)\u001b[38;5;132;01m}\u001b[39;00m\u001b[38;5;124m]\u001b[39m\u001b[38;5;124m\"\u001b[39m \n\u001b[1;32m      5\u001b[0m )\n",
      "File \u001b[0;32m~/autobounds/autobounds/Program.py:80\u001b[0m, in \u001b[0;36mProgram.run_scip\u001b[0;34m(self, verbose, filename, epsilon, theta, maxtime)\u001b[0m\n\u001b[1;32m     78\u001b[0m p_lower\u001b[38;5;241m.\u001b[39mstart()\n\u001b[1;32m     79\u001b[0m p_upper\u001b[38;5;241m.\u001b[39mstart()\n\u001b[0;32m---> 80\u001b[0m optim_data \u001b[38;5;241m=\u001b[39m \u001b[43mparse_bounds_scip\u001b[49m\u001b[43m(\u001b[49m\u001b[43mp_lower\u001b[49m\u001b[43m,\u001b[49m\u001b[43m \u001b[49m\u001b[43mp_upper\u001b[49m\u001b[43m,\u001b[49m\u001b[43m \u001b[49m\u001b[43mepsilon\u001b[49m\u001b[43m \u001b[49m\u001b[38;5;241;43m=\u001b[39;49m\u001b[43m \u001b[49m\u001b[43mepsilon\u001b[49m\u001b[43m,\u001b[49m\u001b[43m \u001b[49m\u001b[43mtheta\u001b[49m\u001b[43m \u001b[49m\u001b[38;5;241;43m=\u001b[39;49m\u001b[43m \u001b[49m\u001b[43mtheta\u001b[49m\u001b[43m,\u001b[49m\u001b[43m \u001b[49m\u001b[43mmaxtime\u001b[49m\u001b[43m \u001b[49m\u001b[38;5;241;43m=\u001b[39;49m\u001b[43m \u001b[49m\u001b[43mmaxtime\u001b[49m\u001b[43m)\u001b[49m\n\u001b[1;32m     81\u001b[0m \u001b[38;5;28;01mreturn\u001b[39;00m optim_data\n",
      "File \u001b[0;32m~/autobounds/autobounds/ProgramUtils.py:273\u001b[0m, in \u001b[0;36mparse_bounds_scip\u001b[0;34m(p_lower, p_upper, filename, epsilon, theta, maxtime)\u001b[0m\n\u001b[1;32m    271\u001b[0m         \u001b[38;5;28;01mif\u001b[39;00m time\u001b[38;5;241m.\u001b[39mtime() \u001b[38;5;241m-\u001b[39m init_time \u001b[38;5;241m>\u001b[39m maxtime:\n\u001b[1;32m    272\u001b[0m             \u001b[38;5;28;01mbreak\u001b[39;00m\n\u001b[0;32m--> 273\u001b[0m     \u001b[43mtime\u001b[49m\u001b[38;5;241;43m.\u001b[39;49m\u001b[43msleep\u001b[49m\u001b[43m(\u001b[49m\u001b[38;5;241;43m1\u001b[39;49m\u001b[43m)\u001b[49m\n\u001b[1;32m    274\u001b[0m \u001b[38;5;66;03m# Checking bounds if problem is finished\u001b[39;00m\n\u001b[1;32m    275\u001b[0m \u001b[38;5;28;01mif\u001b[39;00m end_lower \u001b[38;5;241m==\u001b[39m \u001b[38;5;241m1\u001b[39m \u001b[38;5;129;01mor\u001b[39;00m end_upper \u001b[38;5;241m==\u001b[39m \u001b[38;5;241m1\u001b[39m: \n",
      "\u001b[0;31mKeyboardInterrupt\u001b[0m: "
     ]
    }
   ],
   "source": [
    "cautious_prog_late_optim = cautious_prog_late.run_scip(filename = 'replication_files/results/iv_late_cautious.csv')\n",
    "print(\"==============================================\")\n",
    "print(f\"Causal effect lies in the interval [{np.round(cautious_prog_late_optim[0]['dual'], 3)}, \"\n",
    "      f\"{np.round(cautious_prog_late_optim[1]['dual'], 3)}]\" \n",
    ")"
   ]
  },
  {
   "cell_type": "markdown",
   "id": "acf0282e-df89-4c5b-9387-2208e2039cad",
   "metadata": {},
   "source": [
    "**Scholar Confident (LATE)**"
   ]
  },
  {
   "cell_type": "code",
   "execution_count": 41,
   "id": "3ccee253-0476-4714-902c-47d71a900dbc",
   "metadata": {},
   "outputs": [
    {
     "name": "stdout",
     "output_type": "stream",
     "text": [
      "Problem is infeasible. Returning without solutions\n",
      "Problem is infeasible. Returning without solutions\n",
      "==============================================\n"
     ]
    }
   ],
   "source": [
    "confident_prog_late_optim = confident_prog_late.run_scip(filename = 'replication_files/results/iv_late_confident.csv')\n",
    "print(\"==============================================\")\n",
    "\n",
    "#print(f\"Causal effect lies in the interval [{np.round(confident_prog_late_optim[0]['dual'], 3)}, \"\n",
    "#      f\"{np.round(confident_prog_late_optim[1]['dual'], 3)}]\" \n",
    "#)"
   ]
  },
  {
   "cell_type": "markdown",
   "id": "c91e06af-fe09-44ba-abe2-fe307332bb83",
   "metadata": {},
   "source": [
    "In summary\n",
    "\n",
    "* In the framework stipulated by Scholar Just, Autobounds informs them that no definitive conclusion can be drawn from the data. \n",
    "* While Scholar Cautious is informed of a similar conclusion, the bounds on the causal effect explode. Therefore, their relaxed setup (no exclusion restriction) combined with the data is in fact completely uniformative. \n",
    "* Autobounds once again determines that the problem setup by Scholar Cautious is infeasible. This is likely due to a conflict between the data and the no defiers assumption imposed on the analysis. "
   ]
  },
  {
   "cell_type": "markdown",
   "id": "15d82c6d-bf47-4068-bfa1-99c049d2ad48",
   "metadata": {},
   "source": [
    "# Conclusion"
   ]
  },
  {
   "cell_type": "markdown",
   "id": "5e8133ec-e90b-41bf-b686-fa4c4434303a",
   "metadata": {},
   "source": [
    "# References"
   ]
  },
  {
   "cell_type": "markdown",
   "id": "4bc0c805-e181-4496-9941-e805b6aff656",
   "metadata": {},
   "source": [
    "Guilherme Duarte, Noam Finkelstein, Dean Knox, Jonathan Mummolo & Ilya Shpitser (2023) An Automated Approach to Causal Inference in Discrete Settings*, Journal of the American Statistical Association, DOI: 10.1080/01621459.2023.2216909"
   ]
  }
 ],
 "metadata": {
  "kernelspec": {
   "display_name": "Python 3 (ipykernel)",
   "language": "python",
   "name": "python3"
  },
  "language_info": {
   "codemirror_mode": {
    "name": "ipython",
    "version": 3
   },
   "file_extension": ".py",
   "mimetype": "text/x-python",
   "name": "python",
   "nbconvert_exporter": "python",
   "pygments_lexer": "ipython3",
   "version": "3.8.10"
  }
 },
 "nbformat": 4,
 "nbformat_minor": 5
}
