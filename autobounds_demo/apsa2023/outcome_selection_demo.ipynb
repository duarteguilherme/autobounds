{
 "cells": [
  {
   "cell_type": "code",
   "execution_count": 4,
   "id": "5cc0fbe7-dc61-4749-b397-3d539e8d05fb",
   "metadata": {},
   "outputs": [],
   "source": [
    "# load autobounds components used in this demo\n",
    "from autobounds.causalProblem import causalProblem\n",
    "from autobounds.DAG import DAG\n",
    "from autobounds.Query import Query\n",
    "\n",
    "# load additional dependencies\n",
    "import pandas as pd\n",
    "import numpy as np\n",
    "import statsmodels.formula.api as smf\n",
    "import plotnine as pn\n",
    "\n",
    "# configure plotting options\n",
    "pn.options.figure_size = (8, 4)"
   ]
  },
  {
   "cell_type": "markdown",
   "id": "e372cd1c-2bb8-46ed-9d59-8ce782380117",
   "metadata": {},
   "source": [
    "# `autobounds` <br> Estimating treatment effects under selection bias\n",
    "\n",
    "Kai Cooper, Guilherme Duarte, and Dean Knox"
   ]
  },
  {
   "cell_type": "markdown",
   "id": "157e97d2-782d-4db2-b954-6878cd2dc71d",
   "metadata": {},
   "source": [
    "This notebook continues the introduction of `autobounds` (Duarte et al., 2023), a method for automatically drawing principled inferences in the presence of common imperfections in data and design. It illustrates how `autobounds` can be used to obtain sharp bounds—the narrowest possible range of conclusions consistent with available, imperfect information. Here, we consider a randomized experiment with selection on the outcome. \n",
    "\n",
    "- Section 1 introduces data from a hypothetical experiment with outcome selection, the running example in this notebook.\n",
    "- Section 2 states the causal effects of interest to the analyst and describes various assumptions that analysts might use.\n",
    "- Section 3 shows how to use `autobounds` to test assumptions and compute sharp bounds. "
   ]
  },
  {
   "cell_type": "markdown",
   "id": "126a128c-61a1-4573-bb3a-3ac3140c3ddc",
   "metadata": {},
   "source": [
    "# 1. Design and data"
   ]
  },
  {
   "cell_type": "markdown",
   "id": "294c7a20-84ce-4a26-b9c5-f28b60c8726c",
   "metadata": {},
   "source": [
    "Suppose that a researcher designs a randomized controlled trial (RCT) that aims to estimate the causal effect of a treatment on a binary outcome, $Y \\in \\{0, 1\\}.$. In this RCT, 1,000 subjects are randomly assigned to two treatment groups, denoted with $X \\in \\{0, 1\\}$. However, the RCT is affected by *loss to follow-up*, meaning not all subjects who participated in the study have their data recorded since some failed or refused to present themselves to the researcher. Therefore, this study falls victim to *selection bias*, which we encode by an additional variable $S \\in \\{0, 1\\}$, where $S=1$ indicates presence in the sample, and $S=0$ indicates absence.\n",
    "\n",
    "We will first present some exploratory analyses to introduce the data."
   ]
  },
  {
   "cell_type": "markdown",
   "id": "6de961c7",
   "metadata": {},
   "source": [
    "## 1.a. Load and inspect raw data\n",
    "\n",
    "In this subsection, we will import the data and examine some summary statistics."
   ]
  },
  {
   "cell_type": "code",
   "execution_count": 365,
   "id": "2a8b21d3-1bc5-4536-a68d-1fa8fe626115",
   "metadata": {},
   "outputs": [
    {
     "data": {
      "text/plain": [
       "(349, 3)"
      ]
     },
     "execution_count": 365,
     "metadata": {},
     "output_type": "execute_result"
    }
   ],
   "source": [
    "data = pd.read_csv(\"data/outcome_selection_demo.csv\")\n",
    "\n",
    "# 1000 rows x 3 columns\n",
    "data.shape"
   ]
  },
  {
   "cell_type": "markdown",
   "id": "b32b2d55-5796-43b1-80f8-8e2428e803bc",
   "metadata": {},
   "source": [
    "We find that 59% of the original sample were lost to follow-up."
   ]
  },
  {
   "cell_type": "code",
   "execution_count": 366,
   "id": "c77c5f48-842c-42a1-9f95-7bfe0d4ebc4b",
   "metadata": {
    "scrolled": true
   },
   "outputs": [
    {
     "data": {
      "text/html": [
       "<div>\n",
       "<style scoped>\n",
       "    .dataframe tbody tr th:only-of-type {\n",
       "        vertical-align: middle;\n",
       "    }\n",
       "\n",
       "    .dataframe tbody tr th {\n",
       "        vertical-align: top;\n",
       "    }\n",
       "\n",
       "    .dataframe thead th {\n",
       "        text-align: right;\n",
       "    }\n",
       "</style>\n",
       "<table border=\"1\" class=\"dataframe\">\n",
       "  <thead>\n",
       "    <tr style=\"text-align: right;\">\n",
       "      <th></th>\n",
       "      <th>X</th>\n",
       "      <th>Y</th>\n",
       "      <th>S</th>\n",
       "    </tr>\n",
       "  </thead>\n",
       "  <tbody>\n",
       "    <tr>\n",
       "      <th>222</th>\n",
       "      <td>0</td>\n",
       "      <td>1</td>\n",
       "      <td>1</td>\n",
       "    </tr>\n",
       "    <tr>\n",
       "      <th>218</th>\n",
       "      <td>1</td>\n",
       "      <td>1</td>\n",
       "      <td>1</td>\n",
       "    </tr>\n",
       "    <tr>\n",
       "      <th>270</th>\n",
       "      <td>0</td>\n",
       "      <td>1</td>\n",
       "      <td>1</td>\n",
       "    </tr>\n",
       "    <tr>\n",
       "      <th>303</th>\n",
       "      <td>0</td>\n",
       "      <td>0</td>\n",
       "      <td>1</td>\n",
       "    </tr>\n",
       "    <tr>\n",
       "      <th>258</th>\n",
       "      <td>1</td>\n",
       "      <td>1</td>\n",
       "      <td>1</td>\n",
       "    </tr>\n",
       "  </tbody>\n",
       "</table>\n",
       "</div>"
      ],
      "text/plain": [
       "     X  Y  S\n",
       "222  0  1  1\n",
       "218  1  1  1\n",
       "270  0  1  1\n",
       "303  0  0  1\n",
       "258  1  1  1"
      ]
     },
     "execution_count": 366,
     "metadata": {},
     "output_type": "execute_result"
    }
   ],
   "source": [
    "# examine random sample\n",
    "data.sample(5)"
   ]
  },
  {
   "cell_type": "code",
   "execution_count": 367,
   "id": "2316aa30",
   "metadata": {},
   "outputs": [
    {
     "data": {
      "text/plain": [
       "X    0.404011\n",
       "Y    0.455587\n",
       "S    1.000000\n",
       "dtype: float64"
      ]
     },
     "execution_count": 367,
     "metadata": {},
     "output_type": "execute_result"
    }
   ],
   "source": [
    "# examine \n",
    "data.mean()"
   ]
  },
  {
   "cell_type": "markdown",
   "id": "ebed919f",
   "metadata": {},
   "source": [
    "That is, 42% of subjects were encouraged to take treatment, 46% received the treatment and, trivially, all subjects are present for the analysis (as they were chosen to be.) Moreover"
   ]
  },
  {
   "cell_type": "code",
   "execution_count": 368,
   "id": "0d5c04f0-8ed9-4f18-888d-56afc54668a1",
   "metadata": {},
   "outputs": [
    {
     "data": {
      "text/plain": [
       "X  Y  S\n",
       "1  0  1     66\n",
       "   1  1     75\n",
       "0  1  1     84\n",
       "   0  1    124\n",
       "Name: count, dtype: int64"
      ]
     },
     "execution_count": 368,
     "metadata": {},
     "output_type": "execute_result"
    }
   ],
   "source": [
    "# count number of units with each combination of Z, X, Y\n",
    "(\n",
    "    data\n",
    "    .value_counts()\n",
    "    .sort_values()    \n",
    ")"
   ]
  },
  {
   "cell_type": "code",
   "execution_count": 369,
   "id": "5cb16e56",
   "metadata": {
    "scrolled": true
   },
   "outputs": [
    {
     "data": {
      "image/png": "[encoded data removed]",
      "text/plain": [
       "<Figure size 800x400 with 1 Axes>"
      ]
     },
     "metadata": {
      "image/png": {
       "height": 400,
       "width": 800
      }
     },
     "output_type": "display_data"
    },
    {
     "data": {
      "text/plain": [
       "<Figure Size: (800 x 400)>"
      ]
     },
     "execution_count": 369,
     "metadata": {},
     "output_type": "execute_result"
    }
   ],
   "source": [
    "# generate informative variable names for plotting\n",
    "data = data.assign(\n",
    "    S_label = data.S.map({1 : \"selected on outcome\"}),\n",
    "    X_label = data.X.map({0 : \"received control\", 1 : \"received treatment\"}),\n",
    "    Y_label = data.Y.map({0 : \"died\", 1 : \"survived\"})\n",
    ")\n",
    "\n",
    "# create initial visualization\n",
    "(\n",
    "    pn.ggplot(data,\n",
    "              pn.aes(x = \"X_label\",\n",
    "                     fill = \"Y_label\"\n",
    "                    )\n",
    "             ) \n",
    "    + pn.facet_wrap(\"S_label\")\n",
    "    + pn.geom_histogram(binwidth = 1, position = 'dodge')\n",
    "    + pn.ylab(\"Frequency\")\n",
    "    + pn.theme_light()\n",
    ")"
   ]
  },
  {
   "cell_type": "markdown",
   "id": "b89eea23",
   "metadata": {},
   "source": [
    "---"
   ]
  },
  {
   "cell_type": "markdown",
   "id": "b68d5dbe-6be3-47e3-ba63-ed13ea5d2241",
   "metadata": {},
   "source": [
    "## 1.b. Prepare summary statistics\n",
    "\n",
    "Finally, we will preprocess the data. `autobounds` works with sufficient statistics that represent the proportion of units with each unique combination of values, so we will first compute these."
   ]
  },
  {
   "cell_type": "code",
   "execution_count": 370,
   "id": "9b7a8a31",
   "metadata": {},
   "outputs": [
    {
     "data": {
      "text/html": [
       "<div>\n",
       "<style scoped>\n",
       "    .dataframe tbody tr th:only-of-type {\n",
       "        vertical-align: middle;\n",
       "    }\n",
       "\n",
       "    .dataframe tbody tr th {\n",
       "        vertical-align: top;\n",
       "    }\n",
       "\n",
       "    .dataframe thead th {\n",
       "        text-align: right;\n",
       "    }\n",
       "</style>\n",
       "<table border=\"1\" class=\"dataframe\">\n",
       "  <thead>\n",
       "    <tr style=\"text-align: right;\">\n",
       "      <th></th>\n",
       "      <th>S</th>\n",
       "      <th>X</th>\n",
       "      <th>Y</th>\n",
       "      <th>counts</th>\n",
       "    </tr>\n",
       "  </thead>\n",
       "  <tbody>\n",
       "    <tr>\n",
       "      <th>0</th>\n",
       "      <td>1</td>\n",
       "      <td>0</td>\n",
       "      <td>0</td>\n",
       "      <td>124</td>\n",
       "    </tr>\n",
       "    <tr>\n",
       "      <th>1</th>\n",
       "      <td>1</td>\n",
       "      <td>0</td>\n",
       "      <td>1</td>\n",
       "      <td>84</td>\n",
       "    </tr>\n",
       "    <tr>\n",
       "      <th>2</th>\n",
       "      <td>1</td>\n",
       "      <td>1</td>\n",
       "      <td>1</td>\n",
       "      <td>75</td>\n",
       "    </tr>\n",
       "    <tr>\n",
       "      <th>3</th>\n",
       "      <td>1</td>\n",
       "      <td>1</td>\n",
       "      <td>0</td>\n",
       "      <td>66</td>\n",
       "    </tr>\n",
       "  </tbody>\n",
       "</table>\n",
       "</div>"
      ],
      "text/plain": [
       "   S  X  Y  counts\n",
       "0  1  0  0     124\n",
       "1  1  0  1      84\n",
       "2  1  1  1      75\n",
       "3  1  1  0      66"
      ]
     },
     "execution_count": 370,
     "metadata": {},
     "output_type": "execute_result"
    }
   ],
   "source": [
    "# count units with each unique combination of Z, X, Y \n",
    "data_summary = (\n",
    "    data\n",
    "    .loc[:, ['S', 'X', 'Y']]\n",
    "    .value_counts()\n",
    "    .rename('counts')\n",
    "    .reset_index()\n",
    ")\n",
    "data_summary"
   ]
  },
  {
   "cell_type": "code",
   "execution_count": 371,
   "id": "b12e914b",
   "metadata": {
    "scrolled": true
   },
   "outputs": [
    {
     "data": {
      "text/html": [
       "<div>\n",
       "<style scoped>\n",
       "    .dataframe tbody tr th:only-of-type {\n",
       "        vertical-align: middle;\n",
       "    }\n",
       "\n",
       "    .dataframe tbody tr th {\n",
       "        vertical-align: top;\n",
       "    }\n",
       "\n",
       "    .dataframe thead th {\n",
       "        text-align: right;\n",
       "    }\n",
       "</style>\n",
       "<table border=\"1\" class=\"dataframe\">\n",
       "  <thead>\n",
       "    <tr style=\"text-align: right;\">\n",
       "      <th></th>\n",
       "      <th>S</th>\n",
       "      <th>X</th>\n",
       "      <th>Y</th>\n",
       "      <th>counts</th>\n",
       "      <th>prob</th>\n",
       "    </tr>\n",
       "  </thead>\n",
       "  <tbody>\n",
       "    <tr>\n",
       "      <th>0</th>\n",
       "      <td>1</td>\n",
       "      <td>0</td>\n",
       "      <td>0</td>\n",
       "      <td>124</td>\n",
       "      <td>0.124</td>\n",
       "    </tr>\n",
       "    <tr>\n",
       "      <th>1</th>\n",
       "      <td>1</td>\n",
       "      <td>0</td>\n",
       "      <td>1</td>\n",
       "      <td>84</td>\n",
       "      <td>0.084</td>\n",
       "    </tr>\n",
       "    <tr>\n",
       "      <th>2</th>\n",
       "      <td>1</td>\n",
       "      <td>1</td>\n",
       "      <td>1</td>\n",
       "      <td>75</td>\n",
       "      <td>0.075</td>\n",
       "    </tr>\n",
       "    <tr>\n",
       "      <th>3</th>\n",
       "      <td>1</td>\n",
       "      <td>1</td>\n",
       "      <td>0</td>\n",
       "      <td>66</td>\n",
       "      <td>0.066</td>\n",
       "    </tr>\n",
       "  </tbody>\n",
       "</table>\n",
       "</div>"
      ],
      "text/plain": [
       "   S  X  Y  counts   prob\n",
       "0  1  0  0     124  0.124\n",
       "1  1  0  1      84  0.084\n",
       "2  1  1  1      75  0.075\n",
       "3  1  1  0      66  0.066"
      ]
     },
     "execution_count": 371,
     "metadata": {},
     "output_type": "execute_result"
    }
   ],
   "source": [
    "# divide by the total to get the estimated probability of each type\n",
    "data_summary = data_summary.assign(prob = data_summary.counts / 1000)\n",
    "data_summary"
   ]
  },
  {
   "cell_type": "markdown",
   "id": "90d1266f",
   "metadata": {},
   "source": [
    "---"
   ]
  },
  {
   "cell_type": "markdown",
   "id": "179c5009-0c5f-4eeb-b3c0-bc004ffb9c75",
   "metadata": {},
   "source": [
    "# 2. Assumptions and estimands\n",
    "\n",
    "In this section, we provide brief discussion on assumptions and estimands involved with the estimation of a causal effect in this setting."
   ]
  },
  {
   "cell_type": "markdown",
   "id": "957ef913",
   "metadata": {},
   "source": [
    "## 2.a. Why outcome selection is a problem"
   ]
  },
  {
   "cell_type": "markdown",
   "id": "2ce43c96",
   "metadata": {},
   "source": [
    "$\\newcommand{\\E}{\\mathbb{E}}$\n",
    "$\\newcommand{\\Pro}{\\mathbb{P}}$\n",
    "A key difference between confounding and selection bias is that randomization protects against confounding, but not against selection bias if the selection occurs *after* the randomization. Therefore, we always implicitly condition on presence in the sample, $S=1$, and such individuals may not be exchangeable with those where $S=0$, those lost to follow-up. However, the average treamtent effect among those in the sample,\n",
    "$$\n",
    "\\tau = \\E[Y(x=1) - Y(x=0) | S=1],\n",
    "$$\n",
    "does not adequately represent the true effect. In general, the average treatment effect (ATE),\n",
    "$$\n",
    "\\tau = \\E[Y(x=1) - Y(x=0)],\n",
    "$$\n",
    "cannot be point identified without additional assumptions, even when the treatment and outcome are confounded by known covariates.\n",
    "\n",
    "---\n",
    "\n",
    "## 2.b. Standard approaches to dealing with outcome selection\n",
    "\n",
    "Two popular approaches for dealing outcome selection in RCTs are as follows:\n",
    "\n",
    "1. Use an adequate design, e.g. use a case-control study\n",
    "   * It is important to note, though, that no matter the meticulousness of the researcher, it is still possible for such studies to exhibit selection bias in such studies, due to oversampling, for example. \n",
    "   \n",
    "2. Inverse probability weighting (IPW)\n",
    "   * Here, each member of the population is inversely weighted with their propensity to be lost to follow-up, conditional on their treatment assigment and pre-treatment covariates (known elements which confound the treatment and outcome). Intuitively, this is done to create a pseudopopulation in which those who were not included in the oriignal sample are given representation by those similar to them (via the pre-treatment covariates.) However, we should note, that it is not always the case that the pre-treatment covariates are avaialble to us in an observational study meaning that IPW is not feasible.\n",
    "\n",
    "\n",
    "## 2.c. Outcome selection in the context of `autobounds`\n",
    "\n",
    "In this notebook, we are interested in the causal effect\n",
    "$$\n",
    "\\tau = \\E[Y(x=1) - Y(x=0)],\n",
    "$$\n",
    "in spite of the outcome selection. We will see that `autobounds` still permits the researcher to still derive an informative causal effect of the treatment on the outcome when faced with data that has suffered from outcome selection."
   ]
  },
  {
   "cell_type": "markdown",
   "id": "0475479d",
   "metadata": {},
   "source": [
    "---"
   ]
  },
  {
   "cell_type": "markdown",
   "id": "577c267b-c52b-4816-9d98-c02b6a6b80fd",
   "metadata": {},
   "source": [
    "# 3. Computation of effects via `autobounds`\n",
    "\n",
    "In this section, we demonstrate once again the use of `autobounds`. We demonstrate how to compute sharp bounds on the original quantity of interest, the ATE, using only assumptions that are substantively justified. We also illustrate how `autobounds` can detect violations of assumptions that would be missed by traditional methods."
   ]
  },
  {
   "cell_type": "markdown",
   "id": "2f0e22df-f0a5-4050-be46-b1390536735d",
   "metadata": {},
   "source": [
    "## 3.a. Bounding the ATE under plausible assumptions\n",
    "\n",
    "In this section, we will present a step-by-step demonstration of `autobounds`. As a working example, we will compute sharp bounds on the original quantity of interest, the ATE, under the belief that treatment assignment may be confounded with the outcome, but does not directly cause loss to follow-up; however, it is assumed that there is a causal link between the experienced outcome of an individual and their loss to follow-up.\n",
    "\n",
    "Both of these assumptions may be encapsulated by an appropriate DAG, which we implement first."
   ]
  },
  {
   "cell_type": "code",
   "execution_count": 372,
   "id": "0350effe",
   "metadata": {
    "scrolled": true
   },
   "outputs": [
    {
     "data": {
      "image/png": "[encoded data removed]",
      "text/plain": [
       "<Figure size 640x480 with 1 Axes>"
      ]
     },
     "metadata": {
      "image/png": {
       "height": 480,
       "width": 640
      }
     },
     "output_type": "display_data"
    }
   ],
   "source": [
    "# first initialize an empty graph\n",
    "graph = DAG()\n",
    "\n",
    "# define edges and unobserved disturbances\n",
    "graph.from_structure(\n",
    "    edges = \"Us -> S, Y -> S, X -> Y, Uxy -> X, Uxy -> Y\",\n",
    "    unob = \"Us, Uxy\"\n",
    ")\n",
    "\n",
    "# visualize the graph\n",
    "graph.plot()"
   ]
  },
  {
   "cell_type": "markdown",
   "id": "1abe70f9",
   "metadata": {},
   "source": [
    "Second, we will tell `autobounds` about the causal-inference problem we would like to solve. A problem is defined by four elements:\n",
    "- The causal graph, or structural assumptions relating the variables\n",
    "- The sample space, or the number of unique values that each variable can take on\n",
    "- Additional functional-form assumptions justified by domain expertise\n",
    "- The empirical evidence, or the data\n",
    "- The quantity of interest, or the estimand"
   ]
  },
  {
   "cell_type": "markdown",
   "id": "2c675d9d",
   "metadata": {},
   "source": [
    "We will begin with the `causalProblem()` constructor, which takes two arguments:\n",
    "- `graph`: the causal structure that the problem involves\n",
    "- `number_values` (optional): a dictionary in which keys are variable names and values are variable cardinalities (binary, ternary, etc.). E.g. `\"{A : 2, B: 3}`. If left unspecified, all variables are assumed to be binary."
   ]
  },
  {
   "cell_type": "code",
   "execution_count": 373,
   "id": "32ebc904",
   "metadata": {},
   "outputs": [],
   "source": [
    "# initialize a causal-inference problem involving the iv dag\n",
    "problem = causalProblem(\n",
    "    graph,\n",
    "    number_values = {\"S\" : 2, \"X\" : 2, \"Y\" : 2}  # for illustration (not needed, same as defaults)\n",
    ")"
   ]
  },
  {
   "cell_type": "markdown",
   "id": "05dce9b7",
   "metadata": {},
   "source": [
    "After initializing this problem, we next add the assumptions that `autobounds` should use. Currently, we only need to tell `autobounds` about the laws of probability. This is done with the `.add_prob_constraints()` method."
   ]
  },
  {
   "cell_type": "code",
   "execution_count": 374,
   "id": "84c111ad",
   "metadata": {},
   "outputs": [],
   "source": [
    "# if we had functional-form assumptions such as monotonicity, they would be entered here\n",
    "# problem.add_constraint(...)\n",
    "\n",
    "# tell autobounds about the laws of probability\n",
    "# (in a future update this will be handled automatically)\n",
    "problem.add_prob_constraints()"
   ]
  },
  {
   "cell_type": "markdown",
   "id": "bb4f1a4e",
   "metadata": {},
   "source": [
    "The next step is to tell `autobounds` about the empirical evidence. The `.load_data()` method accepts summary statistics in the form of a `pandas` `DataFrame` object or a path to a CSV file. Regardless of the input format, this must contain (i) one column per variable measured in the dataset, (ii) one row per unique combination of values, and (iii) an additional column named \"prob\" indicating the proportion of units of this type. An example is given in `data_summary` above."
   ]
  },
  {
   "cell_type": "code",
   "execution_count": 375,
   "id": "00cac31d",
   "metadata": {},
   "outputs": [],
   "source": [
    "# load in the data\n",
    "problem.load_data(data_summary)"
   ]
  },
  {
   "cell_type": "markdown",
   "id": "deeb21e5",
   "metadata": {},
   "source": [
    "The last step is to define the quantity of interest: the ATE of actually receiving treatment $X$ on outcome $Y$. Below, two arguments are provided to the `.set_ate()` method:\n",
    "- `ind`: the name of the independent variable, or treatment\n",
    "- `dep`: the name of the dependent variable, or outcome"
   ]
  },
  {
   "cell_type": "code",
   "execution_count": 376,
   "id": "54a5c3a9",
   "metadata": {},
   "outputs": [],
   "source": [
    "problem.set_ate(ind = \"X\", dep = \"Y\")"
   ]
  },
  {
   "cell_type": "markdown",
   "id": "26c59a0e-1a16-4da5-903e-e4ab318cc613",
   "metadata": {},
   "source": [
    "Finally, we are ready to compute bounds. To do so, we will first translate the completely specified causal-inference problem into an equivalent *optimization program*. Solving this program with a numeric optimizer (like SCIP in the example below) will produce the desired sharp bounds."
   ]
  },
  {
   "cell_type": "code",
   "execution_count": 377,
   "id": "d712cdce-8049-40ae-b489-902a064ab663",
   "metadata": {},
   "outputs": [
    {
     "name": "stdout",
     "output_type": "stream",
     "text": [
      "LOWER BOUND: # -- Primal: -0.4939266 / Dual: -0.4998579 / Time: 0.1 ##\n",
      "UPPER BOUND: # -- Primal: 0.6238642 / Dual: 0.6250712 / Time: * 0.1 ##\n",
      "Problem is finished! Returning final values\n",
      "Problem is finished! Returning final values\n",
      "CURRENT THRESHOLDS: # -- Theta: 1.1249291000000001 / Epsilon: 0.006386078683059626 ##\n"
     ]
    },
    {
     "data": {
      "text/plain": [
       "({'primal': -0.493926567297424,\n",
       "  'dual': -0.493926567297424,\n",
       "  'time': 0.11,\n",
       "  'end': 1},\n",
       " {'primal': 0.62386423478658,\n",
       "  'dual': 0.62386423478658,\n",
       "  'time': 0.13,\n",
       "  'end': 1},\n",
       " 1.117790802084004,\n",
       " 0.0)"
      ]
     },
     "execution_count": 377,
     "metadata": {},
     "output_type": "execute_result"
    }
   ],
   "source": [
    "# translate causal inference problem into optimization program\n",
    "program = problem.write_program()\n",
    "\n",
    "# run optimisation routine, argument saves results at filename\n",
    "results = program.run_scip()\n",
    "\n",
    "# examine complete output\n",
    "# - \"dual\" bounds are guaranteed-valid causal bounds on the estimand\n",
    "# - \"primal\" bounds are used to evaluate the sharpness of those bounds\n",
    "# when the duals are equal to the primals, the reported bounds are perfectly sharp\n",
    "# for more details, including the interpretation of theta and epsilon, see Duarte et al (2023)\n",
    "results"
   ]
  },
  {
   "cell_type": "code",
   "execution_count": 378,
   "id": "51252d27-96ca-4be0-9948-73b9ff076fe0",
   "metadata": {},
   "outputs": [
    {
     "data": {
      "text/plain": [
       "'Based on these data and assumptions, the ATE is in the range [-0.494, 0.624]'"
      ]
     },
     "execution_count": 378,
     "metadata": {},
     "output_type": "execute_result"
    }
   ],
   "source": [
    "\"Based on these data and assumptions, the ATE is in the range [{lower:0.3f}, {upper:0.3f}]\".format(\n",
    "    lower = results[0][\"dual\"],  # index [0] selects lower bound, key [\"dual\"] selects guaranteed-valid bound\n",
    "    upper = results[1][\"dual\"],  # index [1] selects upper bound, key [\"dual\"] selects guaranteed-valid bound\n",
    ")"
   ]
  },
  {
   "cell_type": "markdown",
   "id": "df71409e-8472-4b57-86f4-c0d0a6d35249",
   "metadata": {},
   "source": [
    "In other words, based on plausible assumptions, analysts cannot conclude that there is any effect of the treatment on outcome in this setting."
   ]
  },
  {
   "cell_type": "markdown",
   "id": "5e8133ec-e90b-41bf-b686-fa4c4434303a",
   "metadata": {},
   "source": [
    "# References"
   ]
  },
  {
   "cell_type": "markdown",
   "id": "4bc0c805-e181-4496-9941-e805b6aff656",
   "metadata": {},
   "source": [
    "Guilherme Duarte, Noam Finkelstein, Dean Knox, Jonathan Mummolo, and Ilya Shpitser. 2023. \"An Automated Approach to Causal Inference in Discrete Settings,\" *Journal of the American Statistical Association* (Theory and Methods). https://doi.org/10.1080/01621459.2023.2216909\n",
    "\n",
    "Miguel Hernan, James Robins. 2020. Causal Inference: What If. Boca Raton: Chapman & Hall/CRC."
   ]
  }
 ],
 "metadata": {
  "kernelspec": {
   "display_name": "Python 3 (ipykernel)",
   "language": "python",
   "name": "python3"
  },
  "language_info": {
   "codemirror_mode": {
    "name": "ipython",
    "version": 3
   },
   "file_extension": ".py",
   "mimetype": "text/x-python",
   "name": "python",
   "nbconvert_exporter": "python",
   "pygments_lexer": "ipython3",
   "version": "3.8.10"
  }
 },
 "nbformat": 4,
 "nbformat_minor": 5
}
