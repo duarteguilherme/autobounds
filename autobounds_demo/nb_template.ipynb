{
 "cells": [
  {
   "cell_type": "markdown",
   "id": "597769fa-7b7d-418b-8aa4-fc566bb8c900",
   "metadata": {},
   "source": [
    "# Section 1: Data"
   ]
  },
  {
   "cell_type": "markdown",
   "id": "0af857e3-2d10-4eb9-afb4-01decd32dfcd",
   "metadata": {},
   "source": [
    "## 1.1 Story"
   ]
  },
  {
   "cell_type": "markdown",
   "id": "93e42a02-203b-4af3-985a-268388fcb2ef",
   "metadata": {},
   "source": [
    "## 1.2 EDA "
   ]
  },
  {
   "cell_type": "markdown",
   "id": "22503284-f802-46e0-8bdf-5d8203de7216",
   "metadata": {},
   "source": [
    "# Section 2: Autobounds analysis"
   ]
  },
  {
   "cell_type": "markdown",
   "id": "cfadab02-626c-44a9-b81e-54dd42d4bef8",
   "metadata": {},
   "source": [
    "## 2.1 DAG"
   ]
  },
  {
   "cell_type": "markdown",
   "id": "2df8ea0e-9049-4300-89de-4048685e795c",
   "metadata": {},
   "source": [
    "## 2.2 Additonal assumptions"
   ]
  },
  {
   "cell_type": "markdown",
   "id": "d133c604-9bc7-47a5-8fc9-343a052b02a9",
   "metadata": {},
   "source": [
    "## 2.3 Estimand"
   ]
  },
  {
   "cell_type": "markdown",
   "id": "154ac4c0-4f8b-4ade-88aa-e5d0ac0498b1",
   "metadata": {},
   "source": [
    "## 2.4 Compute estimate"
   ]
  },
  {
   "cell_type": "markdown",
   "id": "29a8b278-0f64-4bc6-a714-71f1e3271575",
   "metadata": {},
   "source": [
    "# Discussion"
   ]
  }
 ],
 "metadata": {
  "kernelspec": {
   "display_name": "Python 3 (ipykernel)",
   "language": "python",
   "name": "python3"
  },
  "language_info": {
   "codemirror_mode": {
    "name": "ipython",
    "version": 3
   },
   "file_extension": ".py",
   "mimetype": "text/x-python",
   "name": "python",
   "nbconvert_exporter": "python",
   "pygments_lexer": "ipython3",
   "version": "3.8.10"
  }
 },
 "nbformat": 4,
 "nbformat_minor": 5
}
