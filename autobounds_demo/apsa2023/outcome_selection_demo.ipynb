{
 "cells": [
  {
   "cell_type": "code",
   "execution_count": 1,
   "id": "37ba07c8",
   "metadata": {},
   "outputs": [
    {
     "name": "stdout",
     "output_type": "stream",
     "text": [
      "Requirement already satisfied: plotnine in /usr/local/lib/python3.11/site-packages (0.10.1)\n",
      "Requirement already satisfied: networkx in /usr/local/lib/python3.11/site-packages (3.1)\n",
      "Requirement already satisfied: matplotlib>=3.5.0 in /usr/local/lib/python3.11/site-packages (from plotnine) (3.7.1)\n",
      "Requirement already satisfied: mizani>=0.8.1 in /usr/local/lib/python3.11/site-packages (from plotnine) (0.8.1)\n",
      "Requirement already satisfied: numpy>=1.19.0 in /usr/local/lib/python3.11/site-packages (from plotnine) (1.24.2)\n",
      "Requirement already satisfied: pandas>=1.3.5 in /usr/local/lib/python3.11/site-packages (from plotnine) (1.5.3)\n",
      "Requirement already satisfied: patsy>=0.5.1 in /usr/local/lib/python3.11/site-packages (from plotnine) (0.5.3)\n",
      "Requirement already satisfied: scipy>=1.5.0 in /usr/local/lib/python3.11/site-packages (from plotnine) (1.10.1)\n",
      "Requirement already satisfied: statsmodels>=0.13.2 in /usr/local/lib/python3.11/site-packages (from plotnine) (0.13.5)\n",
      "Requirement already satisfied: contourpy>=1.0.1 in /usr/local/lib/python3.11/site-packages (from matplotlib>=3.5.0->plotnine) (1.0.7)\n",
      "Requirement already satisfied: cycler>=0.10 in /usr/local/lib/python3.11/site-packages (from matplotlib>=3.5.0->plotnine) (0.11.0)\n",
      "Requirement already satisfied: fonttools>=4.22.0 in /usr/local/lib/python3.11/site-packages (from matplotlib>=3.5.0->plotnine) (4.39.2)\n",
      "Requirement already satisfied: kiwisolver>=1.0.1 in /usr/local/lib/python3.11/site-packages (from matplotlib>=3.5.0->plotnine) (1.4.4)\n",
      "Requirement already satisfied: packaging>=20.0 in /usr/local/lib/python3.11/site-packages (from matplotlib>=3.5.0->plotnine) (23.0)\n",
      "Requirement already satisfied: pillow>=6.2.0 in /usr/local/lib/python3.11/site-packages (from matplotlib>=3.5.0->plotnine) (9.4.0)\n",
      "Requirement already satisfied: pyparsing>=2.3.1 in /usr/local/lib/python3.11/site-packages (from matplotlib>=3.5.0->plotnine) (3.0.9)\n",
      "Requirement already satisfied: python-dateutil>=2.7 in /usr/local/lib/python3.11/site-packages (from matplotlib>=3.5.0->plotnine) (2.8.2)\n",
      "Requirement already satisfied: palettable in /usr/local/lib/python3.11/site-packages (from mizani>=0.8.1->plotnine) (3.3.0)\n",
      "Requirement already satisfied: pytz>=2020.1 in /usr/local/lib/python3.11/site-packages (from pandas>=1.3.5->plotnine) (2023.2)\n",
      "Requirement already satisfied: six in /usr/local/lib/python3.11/site-packages (from patsy>=0.5.1->plotnine) (1.16.0)\n"
     ]
    }
   ],
   "source": [
    "!pip install plotnine networkx"
   ]
  },
  {
   "cell_type": "code",
   "execution_count": 2,
   "id": "5cc0fbe7-dc61-4749-b397-3d539e8d05fb",
   "metadata": {},
   "outputs": [],
   "source": [
    "# load autobounds components used in this demo\n",
    "from autobounds.causalProblem import causalProblem\n",
    "from autobounds.DAG import DAG\n",
    "from autobounds.Query import Query\n",
    "\n",
    "# load additional dependencies\n",
    "import pandas as pd\n",
    "import numpy as np\n",
    "import statsmodels.formula.api as smf\n",
    "import plotnine as pn\n",
    "\n",
    "# configure plotting options\n",
    "pn.options.figure_size = (8, 4)"
   ]
  },
  {
   "cell_type": "markdown",
   "id": "e372cd1c-2bb8-46ed-9d59-8ce782380117",
   "metadata": {},
   "source": [
    "# `autobounds` <br> Estimating treatment effects under selection bias\n",
    "\n",
    "Kai Cooper, Guilherme Duarte, and Dean Knox"
   ]
  },
  {
   "cell_type": "markdown",
   "id": "157e97d2-782d-4db2-b954-6878cd2dc71d",
   "metadata": {},
   "source": [
    "This notebook continues the introduction of `autobounds` (Duarte et al., 2023), a method for automatically drawing principled inferences in the presence of common imperfections in data and design. It illustrates how `autobounds` can be used to obtain sharp bounds—the narrowest possible range of conclusions consistent with available, imperfect information. Here, we consider a randomized experiment with selection on the outcome. \n",
    "\n",
    "- Section 1 introduces data from a hypothetical experiment with outcome selection, the running example in this notebook.\n",
    "- Section 2 states the causal effects of interest to the analyst and describes various assumptions that analysts might use.\n",
    "- Section 3 shows how to use `autobounds` to test assumptions and compute sharp bounds. "
   ]
  },
  {
   "cell_type": "markdown",
   "id": "126a128c-61a1-4573-bb3a-3ac3140c3ddc",
   "metadata": {},
   "source": [
    "# 1. Design and data"
   ]
  },
  {
   "cell_type": "markdown",
   "id": "294c7a20-84ce-4a26-b9c5-f28b60c8726c",
   "metadata": {},
   "source": [
    "Suppose that a researcher designs a randomized controlled trial (RCT) that aims to estimate the causal effect of a treatment on a binary outcome, $Y \\in \\{0, 1\\}.$. In this RCT, 500 subjects are randomly assigned to two treatment groups, denoted with $X \\in \\{0, 1\\}$. However, the RCT is affected by *loss to follow-up*, meaning not all subjects who participated in the study have their data recorded since some failed or refused to present themselves to the researcher. Therefore, this study falls victim to *selection bias*, which we encode by an additional variable $S \\in \\{0, 1\\}$, where $S=1$ indicates presence in the sample, and $S=0$ indicates absence.\n",
    "\n",
    "We will first present some exploratory analyses to introduce the data."
   ]
  },
  {
   "cell_type": "markdown",
   "id": "6de961c7",
   "metadata": {},
   "source": [
    "## 1.a. Load and inspect raw data\n",
    "\n",
    "In this subsection, we will import the data and examine some summary statistics."
   ]
  },
  {
   "cell_type": "code",
   "execution_count": 5,
   "id": "2a8b21d3-1bc5-4536-a68d-1fa8fe626115",
   "metadata": {},
   "outputs": [
    {
     "data": {
      "text/plain": [
       "(349, 3)"
      ]
     },
     "execution_count": 5,
     "metadata": {},
     "output_type": "execute_result"
    }
   ],
   "source": [
    "data = pd.read_csv(\"outcome_selection_demo.csv\")\n",
    "\n",
    "# 349 rows x 3 columns\n",
    "data.shape"
   ]
  },
  {
   "cell_type": "markdown",
   "id": "b32b2d55-5796-43b1-80f8-8e2428e803bc",
   "metadata": {},
   "source": [
    "We find that about 30% of the original sample of 500 observations were lost to follow-up."
   ]
  },
  {
   "cell_type": "code",
   "execution_count": 6,
   "id": "c77c5f48-842c-42a1-9f95-7bfe0d4ebc4b",
   "metadata": {
    "scrolled": true
   },
   "outputs": [
    {
     "data": {
      "text/html": [
       "<div>\n",
       "<style scoped>\n",
       "    .dataframe tbody tr th:only-of-type {\n",
       "        vertical-align: middle;\n",
       "    }\n",
       "\n",
       "    .dataframe tbody tr th {\n",
       "        vertical-align: top;\n",
       "    }\n",
       "\n",
       "    .dataframe thead th {\n",
       "        text-align: right;\n",
       "    }\n",
       "</style>\n",
       "<table border=\"1\" class=\"dataframe\">\n",
       "  <thead>\n",
       "    <tr style=\"text-align: right;\">\n",
       "      <th></th>\n",
       "      <th>X</th>\n",
       "      <th>Y</th>\n",
       "      <th>S</th>\n",
       "    </tr>\n",
       "  </thead>\n",
       "  <tbody>\n",
       "    <tr>\n",
       "      <th>109</th>\n",
       "      <td>0</td>\n",
       "      <td>1</td>\n",
       "      <td>1</td>\n",
       "    </tr>\n",
       "    <tr>\n",
       "      <th>156</th>\n",
       "      <td>1</td>\n",
       "      <td>1</td>\n",
       "      <td>1</td>\n",
       "    </tr>\n",
       "    <tr>\n",
       "      <th>5</th>\n",
       "      <td>1</td>\n",
       "      <td>1</td>\n",
       "      <td>1</td>\n",
       "    </tr>\n",
       "    <tr>\n",
       "      <th>326</th>\n",
       "      <td>1</td>\n",
       "      <td>0</td>\n",
       "      <td>1</td>\n",
       "    </tr>\n",
       "    <tr>\n",
       "      <th>50</th>\n",
       "      <td>0</td>\n",
       "      <td>0</td>\n",
       "      <td>1</td>\n",
       "    </tr>\n",
       "  </tbody>\n",
       "</table>\n",
       "</div>"
      ],
      "text/plain": [
       "     X  Y  S\n",
       "109  0  1  1\n",
       "156  1  1  1\n",
       "5    1  1  1\n",
       "326  1  0  1\n",
       "50   0  0  1"
      ]
     },
     "execution_count": 6,
     "metadata": {},
     "output_type": "execute_result"
    }
   ],
   "source": [
    "# examine random sample\n",
    "data.sample(5)"
   ]
  },
  {
   "cell_type": "code",
   "execution_count": 7,
   "id": "2316aa30",
   "metadata": {},
   "outputs": [
    {
     "data": {
      "text/plain": [
       "X    0.404011\n",
       "Y    0.455587\n",
       "S    1.000000\n",
       "dtype: float64"
      ]
     },
     "execution_count": 7,
     "metadata": {},
     "output_type": "execute_result"
    }
   ],
   "source": [
    "# examine \n",
    "data.mean()"
   ]
  },
  {
   "cell_type": "markdown",
   "id": "ebed919f",
   "metadata": {},
   "source": [
    "That is, 42% of subjects were encouraged to take treatment, 46% received the treatment and, trivially, all subjects are present for the analysis (as they were chosen to be.) Moreover"
   ]
  },
  {
   "cell_type": "code",
   "execution_count": 8,
   "id": "0d5c04f0-8ed9-4f18-888d-56afc54668a1",
   "metadata": {},
   "outputs": [
    {
     "data": {
      "text/plain": [
       "X  Y  S\n",
       "1  0  1     66\n",
       "   1  1     75\n",
       "0  1  1     84\n",
       "   0  1    124\n",
       "dtype: int64"
      ]
     },
     "execution_count": 8,
     "metadata": {},
     "output_type": "execute_result"
    }
   ],
   "source": [
    "# count number of units with each combination of Z, X, Y\n",
    "(\n",
    "    data\n",
    "    .value_counts()\n",
    "    .sort_values()    \n",
    ")"
   ]
  },
  {
   "cell_type": "code",
   "execution_count": 9,
   "id": "5cb16e56",
   "metadata": {
    "scrolled": true
   },
   "outputs": [
    {
     "data": {
      "image/png": "[encoded data removed]",
      "text/plain": [
       "<Figure size 800x400 with 1 Axes>"
      ]
     },
     "metadata": {},
     "output_type": "display_data"
    },
    {
     "data": {
      "text/plain": [
       "<ggplot: (302083813)>"
      ]
     },
     "execution_count": 9,
     "metadata": {},
     "output_type": "execute_result"
    }
   ],
   "source": [
    "# generate informative variable names for plotting\n",
    "data = data.assign(\n",
    "    S_label = data.S.map({1 : \"selected on outcome\"}),\n",
    "    X_label = data.X.map({0 : \"received control\", 1 : \"received treatment\"}),\n",
    "    Y_label = data.Y.map({0 : \"died\", 1 : \"survived\"})\n",
    ")\n",
    "\n",
    "# create initial visualization\n",
    "(\n",
    "    pn.ggplot(data,\n",
    "              pn.aes(x = \"X_label\",\n",
    "                     fill = \"Y_label\"\n",
    "                    )\n",
    "             ) \n",
    "    + pn.facet_wrap(\"S_label\")\n",
    "    + pn.geom_histogram(binwidth = 1, position = 'dodge')\n",
    "    + pn.ylab(\"Frequency\")\n",
    "    + pn.theme_light()\n",
    ")"
   ]
  },
  {
   "cell_type": "markdown",
   "id": "b89eea23",
   "metadata": {},
   "source": [
    "---"
   ]
  },
  {
   "cell_type": "markdown",
   "id": "b68d5dbe-6be3-47e3-ba63-ed13ea5d2241",
   "metadata": {},
   "source": [
    "## 1.b. Prepare summary statistics\n",
    "\n",
    "Finally, we will preprocess the data. `autobounds` works with sufficient statistics that represent the proportion of units with each unique combination of values, so we will first compute these."
   ]
  },
  {
   "cell_type": "code",
   "execution_count": 10,
   "id": "9b7a8a31",
   "metadata": {},
   "outputs": [
    {
     "data": {
      "text/html": [
       "<div>\n",
       "<style scoped>\n",
       "    .dataframe tbody tr th:only-of-type {\n",
       "        vertical-align: middle;\n",
       "    }\n",
       "\n",
       "    .dataframe tbody tr th {\n",
       "        vertical-align: top;\n",
       "    }\n",
       "\n",
       "    .dataframe thead th {\n",
       "        text-align: right;\n",
       "    }\n",
       "</style>\n",
       "<table border=\"1\" class=\"dataframe\">\n",
       "  <thead>\n",
       "    <tr style=\"text-align: right;\">\n",
       "      <th></th>\n",
       "      <th>S</th>\n",
       "      <th>X</th>\n",
       "      <th>Y</th>\n",
       "      <th>counts</th>\n",
       "    </tr>\n",
       "  </thead>\n",
       "  <tbody>\n",
       "    <tr>\n",
       "      <th>0</th>\n",
       "      <td>1</td>\n",
       "      <td>0</td>\n",
       "      <td>0</td>\n",
       "      <td>124</td>\n",
       "    </tr>\n",
       "    <tr>\n",
       "      <th>1</th>\n",
       "      <td>1</td>\n",
       "      <td>0</td>\n",
       "      <td>1</td>\n",
       "      <td>84</td>\n",
       "    </tr>\n",
       "    <tr>\n",
       "      <th>2</th>\n",
       "      <td>1</td>\n",
       "      <td>1</td>\n",
       "      <td>1</td>\n",
       "      <td>75</td>\n",
       "    </tr>\n",
       "    <tr>\n",
       "      <th>3</th>\n",
       "      <td>1</td>\n",
       "      <td>1</td>\n",
       "      <td>0</td>\n",
       "      <td>66</td>\n",
       "    </tr>\n",
       "  </tbody>\n",
       "</table>\n",
       "</div>"
      ],
      "text/plain": [
       "   S  X  Y  counts\n",
       "0  1  0  0     124\n",
       "1  1  0  1      84\n",
       "2  1  1  1      75\n",
       "3  1  1  0      66"
      ]
     },
     "execution_count": 10,
     "metadata": {},
     "output_type": "execute_result"
    }
   ],
   "source": [
    "# count units with each unique combination of Z, X, Y \n",
    "data_summary = (\n",
    "    data\n",
    "    .loc[:, ['S', 'X', 'Y']]\n",
    "    .value_counts()\n",
    "    .rename('counts')\n",
    "    .reset_index()\n",
    ")\n",
    "data_summary"
   ]
  },
  {
   "cell_type": "code",
   "execution_count": 11,
   "id": "b12e914b",
   "metadata": {
    "scrolled": true
   },
   "outputs": [
    {
     "data": {
      "text/html": [
       "<div>\n",
       "<style scoped>\n",
       "    .dataframe tbody tr th:only-of-type {\n",
       "        vertical-align: middle;\n",
       "    }\n",
       "\n",
       "    .dataframe tbody tr th {\n",
       "        vertical-align: top;\n",
       "    }\n",
       "\n",
       "    .dataframe thead th {\n",
       "        text-align: right;\n",
       "    }\n",
       "</style>\n",
       "<table border=\"1\" class=\"dataframe\">\n",
       "  <thead>\n",
       "    <tr style=\"text-align: right;\">\n",
       "      <th></th>\n",
       "      <th>S</th>\n",
       "      <th>X</th>\n",
       "      <th>Y</th>\n",
       "      <th>counts</th>\n",
       "      <th>prob</th>\n",
       "    </tr>\n",
       "  </thead>\n",
       "  <tbody>\n",
       "    <tr>\n",
       "      <th>0</th>\n",
       "      <td>1</td>\n",
       "      <td>0</td>\n",
       "      <td>0</td>\n",
       "      <td>124</td>\n",
       "      <td>0.124</td>\n",
       "    </tr>\n",
       "    <tr>\n",
       "      <th>1</th>\n",
       "      <td>1</td>\n",
       "      <td>0</td>\n",
       "      <td>1</td>\n",
       "      <td>84</td>\n",
       "      <td>0.084</td>\n",
       "    </tr>\n",
       "    <tr>\n",
       "      <th>2</th>\n",
       "      <td>1</td>\n",
       "      <td>1</td>\n",
       "      <td>1</td>\n",
       "      <td>75</td>\n",
       "      <td>0.075</td>\n",
       "    </tr>\n",
       "    <tr>\n",
       "      <th>3</th>\n",
       "      <td>1</td>\n",
       "      <td>1</td>\n",
       "      <td>0</td>\n",
       "      <td>66</td>\n",
       "      <td>0.066</td>\n",
       "    </tr>\n",
       "  </tbody>\n",
       "</table>\n",
       "</div>"
      ],
      "text/plain": [
       "   S  X  Y  counts   prob\n",
       "0  1  0  0     124  0.124\n",
       "1  1  0  1      84  0.084\n",
       "2  1  1  1      75  0.075\n",
       "3  1  1  0      66  0.066"
      ]
     },
     "execution_count": 11,
     "metadata": {},
     "output_type": "execute_result"
    }
   ],
   "source": [
    "# divide by the total to get the estimated probability of each type\n",
    "data_summary = data_summary.assign(prob = data_summary.counts / 1000)\n",
    "data_summary"
   ]
  },
  {
   "cell_type": "markdown",
   "id": "90d1266f",
   "metadata": {},
   "source": [
    "---"
   ]
  },
  {
   "cell_type": "markdown",
   "id": "179c5009-0c5f-4eeb-b3c0-bc004ffb9c75",
   "metadata": {},
   "source": [
    "# 2. Assumptions and estimands\n",
    "\n",
    "In this section, we provide brief discussion on assumptions and estimands involved with the estimation of a causal effect in this setting."
   ]
  },
  {
   "cell_type": "markdown",
   "id": "957ef913",
   "metadata": {},
   "source": [
    "## 2.a. Why outcome selection is a problem"
   ]
  },
  {
   "cell_type": "markdown",
   "id": "2ce43c96",
   "metadata": {},
   "source": [
    "$\\newcommand{\\E}{\\mathbb{E}}$\n",
    "$\\newcommand{\\Pro}{\\mathbb{P}}$\n",
    "A key difference between confounding and selection bias is that randomization protects against confounding, but not against selection bias if the selection occurs *after* the randomization. Therefore, we always implicitly condition on presence in the sample, $S=1$, and such individuals may not be exchangeable with those where $S=0$, those lost to follow-up. However, the average treamtent effect among those in the sample,\n",
    "$$\n",
    "\\tau = \\E[Y(x=1) - Y(x=0) | S=1],\n",
    "$$\n",
    "does not adequately represent the true effect. In general, the average treatment effect (ATE),\n",
    "$$\n",
    "\\tau = \\E[Y(x=1) - Y(x=0)],\n",
    "$$\n",
    "cannot be point identified without additional assumptions, even when the treatment and outcome are confounded by known covariates.\n",
    "\n",
    "---\n",
    "\n",
    "## 2.b. Standard approaches to dealing with outcome selection\n",
    "\n",
    "Two popular approaches for dealing outcome selection in RCTs are as follows:\n",
    "\n",
    "1. Use an adequate design, e.g. use a case-control study\n",
    "   * It is important to note, though, that no matter the meticulousness of the researcher, it is still possible for such studies to exhibit selection bias in such studies, due to oversampling, for example. \n",
    "   \n",
    "2. Inverse probability weighting (IPW)\n",
    "   * Here, each member of the population is inversely weighted with their propensity to be lost to follow-up, conditional on their treatment assigment and pre-treatment covariates (known elements which confound the treatment and outcome). Intuitively, this is done to create a pseudopopulation in which those who were not included in the oriignal sample are given representation by those similar to them (via the pre-treatment covariates.) However, we should note, that it is not always the case that the pre-treatment covariates are avaialble to us in an observational study meaning that IPW is not feasible.\n",
    "\n",
    "\n",
    "## 2.c. Outcome selection in the context of `autobounds`\n",
    "\n",
    "In this notebook, we are interested in the causal effect\n",
    "$$\n",
    "\\tau = \\E[Y(x=1) - Y(x=0)],\n",
    "$$\n",
    "in spite of the outcome selection. We will see that `autobounds` still permits the researcher to still derive an informative causal effect of the treatment on the outcome when faced with data that has suffered from outcome selection."
   ]
  },
  {
   "cell_type": "markdown",
   "id": "0475479d",
   "metadata": {},
   "source": [
    "---"
   ]
  },
  {
   "cell_type": "markdown",
   "id": "577c267b-c52b-4816-9d98-c02b6a6b80fd",
   "metadata": {},
   "source": [
    "# 3. Computation of effects via `autobounds`\n",
    "\n",
    "In this section, we demonstrate once again the use of `autobounds`. We demonstrate how to compute sharp bounds on the original quantity of interest, the ATE, using only assumptions that are substantively justified. We also illustrate how `autobounds` can detect violations of assumptions that would be missed by traditional methods."
   ]
  },
  {
   "cell_type": "markdown",
   "id": "2f0e22df-f0a5-4050-be46-b1390536735d",
   "metadata": {},
   "source": [
    "## 3.a. Bounding the ATE under plausible assumptions\n",
    "\n",
    "In this section, we will present a step-by-step demonstration of `autobounds`. As a working example, we will compute sharp bounds on the original quantity of interest, the ATE, under the belief that treatment assignment may be confounded with the outcome, but does not directly cause loss to follow-up; however, it is assumed that there is a causal link between the experienced outcome of an individual and their loss to follow-up.\n",
    "\n",
    "Both of these assumptions may be encapsulated by an appropriate DAG, which we implement first."
   ]
  },
  {
   "cell_type": "code",
   "execution_count": 12,
   "id": "0350effe",
   "metadata": {
    "scrolled": true
   },
   "outputs": [
    {
     "data": {
      "image/png": "[encoded data removed]",
      "text/plain": [
       "<Figure size 640x480 with 1 Axes>"
      ]
     },
     "metadata": {},
     "output_type": "display_data"
    }
   ],
   "source": [
    "# first initialize an empty graph\n",
    "graph = DAG()\n",
    "\n",
    "# define edges and unobserved disturbances\n",
    "graph.from_structure(\n",
    "    edges = \"Us -> S, Y -> S, X -> Y, Uxy -> X, Uxy -> Y\",\n",
    "    unob = \"Us, Uxy\"\n",
    ")\n",
    "\n",
    "# visualize the graph\n",
    "graph.plot()"
   ]
  },
  {
   "cell_type": "markdown",
   "id": "1abe70f9",
   "metadata": {},
   "source": [
    "Second, we will tell `autobounds` about the causal-inference problem we would like to solve. A problem is defined by four elements:\n",
    "- The causal graph, or structural assumptions relating the variables\n",
    "- The sample space, or the number of unique values that each variable can take on\n",
    "- Additional functional-form assumptions justified by domain expertise\n",
    "- The empirical evidence, or the data\n",
    "- The quantity of interest, or the estimand"
   ]
  },
  {
   "cell_type": "markdown",
   "id": "2c675d9d",
   "metadata": {},
   "source": [
    "We will begin with the `causalProblem()` constructor, which takes two arguments:\n",
    "- `graph`: the causal structure that the problem involves\n",
    "- `number_values` (optional): a dictionary in which keys are variable names and values are variable cardinalities (binary, ternary, etc.). E.g. `\"{A : 2, B: 3}`. If left unspecified, all variables are assumed to be binary."
   ]
  },
  {
   "cell_type": "code",
   "execution_count": 13,
   "id": "32ebc904",
   "metadata": {},
   "outputs": [],
   "source": [
    "# initialize a causal-inference problem involving the iv dag\n",
    "problem = causalProblem(\n",
    "    graph,\n",
    "    number_values = {\"S\" : 2, \"X\" : 2, \"Y\" : 2}  # for illustration (not needed, same as defaults)\n",
    ")"
   ]
  },
  {
   "cell_type": "markdown",
   "id": "05dce9b7",
   "metadata": {},
   "source": [
    "After initializing this problem, we next add the assumptions that `autobounds` should use. Currently, we only need to tell `autobounds` about the laws of probability. This is done with the `.add_prob_constraints()` method."
   ]
  },
  {
   "cell_type": "code",
   "execution_count": 14,
   "id": "84c111ad",
   "metadata": {},
   "outputs": [],
   "source": [
    "# tell autobounds about the laws of probability\n",
    "# (in a future update this will be handled automatically)\n",
    "problem.add_prob_constraints()"
   ]
  },
  {
   "cell_type": "markdown",
   "id": "bb4f1a4e",
   "metadata": {},
   "source": [
    "The next step is to tell `autobounds` about the empirical evidence. The `.load_data()` method accepts summary statistics in the form of a `pandas` `DataFrame` object or a path to a CSV file. Regardless of the input format, this must contain (i) one column per variable measured in the dataset, (ii) one row per unique combination of values, and (iii) an additional column named \"prob\" indicating the proportion of units of this type. An example is given in `data_summary` above."
   ]
  },
  {
   "cell_type": "code",
   "execution_count": 15,
   "id": "00cac31d",
   "metadata": {},
   "outputs": [],
   "source": [
    "# load in the data\n",
    "problem.load_data(data_summary)"
   ]
  },
  {
   "cell_type": "markdown",
   "id": "deeb21e5",
   "metadata": {},
   "source": [
    "The last step is to define the quantity of interest: the ATE of actually receiving treatment $X$ on outcome $Y$. Below, two arguments are provided to the `.set_ate()` method:\n",
    "- `ind`: the name of the independent variable, or treatment\n",
    "- `dep`: the name of the dependent variable, or outcome"
   ]
  },
  {
   "cell_type": "code",
   "execution_count": 16,
   "id": "54a5c3a9",
   "metadata": {},
   "outputs": [],
   "source": [
    "problem.set_ate(ind = \"X\", dep = \"Y\")"
   ]
  },
  {
   "cell_type": "markdown",
   "id": "26c59a0e-1a16-4da5-903e-e4ab318cc613",
   "metadata": {},
   "source": [
    "Finally, we are ready to compute bounds. To do so, we will first translate the completely specified causal-inference problem into an equivalent *optimization program*. Solving this program with a numeric optimizer (like SCIP in the example below) will produce the desired sharp bounds."
   ]
  },
  {
   "cell_type": "code",
   "execution_count": 17,
   "id": "d712cdce-8049-40ae-b489-902a064ab663",
   "metadata": {},
   "outputs": [
    {
     "ename": "AttributeError",
     "evalue": "Can't pickle local object 'Program.run_scip.<locals>.<lambda>'",
     "output_type": "error",
     "traceback": [
      "\u001b[0;31m---------------------------------------------------------------------------\u001b[0m",
      "\u001b[0;31mAttributeError\u001b[0m                            Traceback (most recent call last)",
      "Cell \u001b[0;32mIn[17], line 5\u001b[0m\n\u001b[1;32m      2\u001b[0m program \u001b[38;5;241m=\u001b[39m problem\u001b[38;5;241m.\u001b[39mwrite_program()\n\u001b[1;32m      4\u001b[0m \u001b[38;5;66;03m# run optimisation routine, argument saves results at filename\u001b[39;00m\n\u001b[0;32m----> 5\u001b[0m results \u001b[38;5;241m=\u001b[39m \u001b[43mprogram\u001b[49m\u001b[38;5;241;43m.\u001b[39;49m\u001b[43mrun_scip\u001b[49m\u001b[43m(\u001b[49m\u001b[43m)\u001b[49m\n\u001b[1;32m      7\u001b[0m \u001b[38;5;66;03m# examine complete output\u001b[39;00m\n\u001b[1;32m      8\u001b[0m \u001b[38;5;66;03m# - \"dual\" bounds are guaranteed-valid causal bounds on the estimand\u001b[39;00m\n\u001b[1;32m      9\u001b[0m \u001b[38;5;66;03m# - \"primal\" bounds are used to evaluate the sharpness of those bounds\u001b[39;00m\n\u001b[1;32m     10\u001b[0m \u001b[38;5;66;03m# when the duals are equal to the primals, the reported bounds are perfectly sharp\u001b[39;00m\n\u001b[1;32m     11\u001b[0m \u001b[38;5;66;03m# for more details, including the interpretation of theta and epsilon, see Duarte et al (2023)\u001b[39;00m\n\u001b[1;32m     12\u001b[0m results\n",
      "File \u001b[0;32m/usr/local/lib/python3.11/site-packages/autobounds/Program.py:107\u001b[0m, in \u001b[0;36mProgram.run_scip\u001b[0;34m(self, verbose, filename, epsilon, theta, maxtime)\u001b[0m\n\u001b[1;32m    105\u001b[0m p_lower \u001b[38;5;241m=\u001b[39m Process(target\u001b[38;5;241m=\u001b[39m\u001b[38;5;28;01mlambda\u001b[39;00m k: solve_scip(k, \u001b[38;5;124m'\u001b[39m\u001b[38;5;124mlower\u001b[39m\u001b[38;5;124m'\u001b[39m), args\u001b[38;5;241m=\u001b[39m[\u001b[38;5;28mself\u001b[39m\u001b[38;5;241m.\u001b[39mM_lower])\n\u001b[1;32m    106\u001b[0m p_upper \u001b[38;5;241m=\u001b[39m Process(target\u001b[38;5;241m=\u001b[39m\u001b[38;5;28;01mlambda\u001b[39;00m k: solve_scip(k, \u001b[38;5;124m'\u001b[39m\u001b[38;5;124mupper\u001b[39m\u001b[38;5;124m'\u001b[39m), args\u001b[38;5;241m=\u001b[39m[\u001b[38;5;28mself\u001b[39m\u001b[38;5;241m.\u001b[39mM_upper])\n\u001b[0;32m--> 107\u001b[0m \u001b[43mp_lower\u001b[49m\u001b[38;5;241;43m.\u001b[39;49m\u001b[43mstart\u001b[49m\u001b[43m(\u001b[49m\u001b[43m)\u001b[49m\n\u001b[1;32m    108\u001b[0m p_upper\u001b[38;5;241m.\u001b[39mstart()\n\u001b[1;32m    109\u001b[0m optim_data \u001b[38;5;241m=\u001b[39m parse_bounds_scip(p_lower, p_upper, epsilon \u001b[38;5;241m=\u001b[39m epsilon, theta \u001b[38;5;241m=\u001b[39m theta, maxtime \u001b[38;5;241m=\u001b[39m maxtime)\n",
      "File \u001b[0;32m/usr/local/Cellar/python@3.11/3.11.5/Frameworks/Python.framework/Versions/3.11/lib/python3.11/multiprocessing/process.py:121\u001b[0m, in \u001b[0;36mBaseProcess.start\u001b[0;34m(self)\u001b[0m\n\u001b[1;32m    118\u001b[0m \u001b[38;5;28;01massert\u001b[39;00m \u001b[38;5;129;01mnot\u001b[39;00m _current_process\u001b[38;5;241m.\u001b[39m_config\u001b[38;5;241m.\u001b[39mget(\u001b[38;5;124m'\u001b[39m\u001b[38;5;124mdaemon\u001b[39m\u001b[38;5;124m'\u001b[39m), \\\n\u001b[1;32m    119\u001b[0m        \u001b[38;5;124m'\u001b[39m\u001b[38;5;124mdaemonic processes are not allowed to have children\u001b[39m\u001b[38;5;124m'\u001b[39m\n\u001b[1;32m    120\u001b[0m _cleanup()\n\u001b[0;32m--> 121\u001b[0m \u001b[38;5;28mself\u001b[39m\u001b[38;5;241m.\u001b[39m_popen \u001b[38;5;241m=\u001b[39m \u001b[38;5;28;43mself\u001b[39;49m\u001b[38;5;241;43m.\u001b[39;49m\u001b[43m_Popen\u001b[49m\u001b[43m(\u001b[49m\u001b[38;5;28;43mself\u001b[39;49m\u001b[43m)\u001b[49m\n\u001b[1;32m    122\u001b[0m \u001b[38;5;28mself\u001b[39m\u001b[38;5;241m.\u001b[39m_sentinel \u001b[38;5;241m=\u001b[39m \u001b[38;5;28mself\u001b[39m\u001b[38;5;241m.\u001b[39m_popen\u001b[38;5;241m.\u001b[39msentinel\n\u001b[1;32m    123\u001b[0m \u001b[38;5;66;03m# Avoid a refcycle if the target function holds an indirect\u001b[39;00m\n\u001b[1;32m    124\u001b[0m \u001b[38;5;66;03m# reference to the process object (see bpo-30775)\u001b[39;00m\n",
      "File \u001b[0;32m/usr/local/Cellar/python@3.11/3.11.5/Frameworks/Python.framework/Versions/3.11/lib/python3.11/multiprocessing/context.py:224\u001b[0m, in \u001b[0;36mProcess._Popen\u001b[0;34m(process_obj)\u001b[0m\n\u001b[1;32m    222\u001b[0m \u001b[38;5;129m@staticmethod\u001b[39m\n\u001b[1;32m    223\u001b[0m \u001b[38;5;28;01mdef\u001b[39;00m \u001b[38;5;21m_Popen\u001b[39m(process_obj):\n\u001b[0;32m--> 224\u001b[0m     \u001b[38;5;28;01mreturn\u001b[39;00m \u001b[43m_default_context\u001b[49m\u001b[38;5;241;43m.\u001b[39;49m\u001b[43mget_context\u001b[49m\u001b[43m(\u001b[49m\u001b[43m)\u001b[49m\u001b[38;5;241;43m.\u001b[39;49m\u001b[43mProcess\u001b[49m\u001b[38;5;241;43m.\u001b[39;49m\u001b[43m_Popen\u001b[49m\u001b[43m(\u001b[49m\u001b[43mprocess_obj\u001b[49m\u001b[43m)\u001b[49m\n",
      "File \u001b[0;32m/usr/local/Cellar/python@3.11/3.11.5/Frameworks/Python.framework/Versions/3.11/lib/python3.11/multiprocessing/context.py:288\u001b[0m, in \u001b[0;36mSpawnProcess._Popen\u001b[0;34m(process_obj)\u001b[0m\n\u001b[1;32m    285\u001b[0m \u001b[38;5;129m@staticmethod\u001b[39m\n\u001b[1;32m    286\u001b[0m \u001b[38;5;28;01mdef\u001b[39;00m \u001b[38;5;21m_Popen\u001b[39m(process_obj):\n\u001b[1;32m    287\u001b[0m     \u001b[38;5;28;01mfrom\u001b[39;00m \u001b[38;5;21;01m.\u001b[39;00m\u001b[38;5;21;01mpopen_spawn_posix\u001b[39;00m \u001b[38;5;28;01mimport\u001b[39;00m Popen\n\u001b[0;32m--> 288\u001b[0m     \u001b[38;5;28;01mreturn\u001b[39;00m \u001b[43mPopen\u001b[49m\u001b[43m(\u001b[49m\u001b[43mprocess_obj\u001b[49m\u001b[43m)\u001b[49m\n",
      "File \u001b[0;32m/usr/local/Cellar/python@3.11/3.11.5/Frameworks/Python.framework/Versions/3.11/lib/python3.11/multiprocessing/popen_spawn_posix.py:32\u001b[0m, in \u001b[0;36mPopen.__init__\u001b[0;34m(self, process_obj)\u001b[0m\n\u001b[1;32m     30\u001b[0m \u001b[38;5;28;01mdef\u001b[39;00m \u001b[38;5;21m__init__\u001b[39m(\u001b[38;5;28mself\u001b[39m, process_obj):\n\u001b[1;32m     31\u001b[0m     \u001b[38;5;28mself\u001b[39m\u001b[38;5;241m.\u001b[39m_fds \u001b[38;5;241m=\u001b[39m []\n\u001b[0;32m---> 32\u001b[0m     \u001b[38;5;28;43msuper\u001b[39;49m\u001b[43m(\u001b[49m\u001b[43m)\u001b[49m\u001b[38;5;241;43m.\u001b[39;49m\u001b[38;5;21;43m__init__\u001b[39;49m\u001b[43m(\u001b[49m\u001b[43mprocess_obj\u001b[49m\u001b[43m)\u001b[49m\n",
      "File \u001b[0;32m/usr/local/Cellar/python@3.11/3.11.5/Frameworks/Python.framework/Versions/3.11/lib/python3.11/multiprocessing/popen_fork.py:19\u001b[0m, in \u001b[0;36mPopen.__init__\u001b[0;34m(self, process_obj)\u001b[0m\n\u001b[1;32m     17\u001b[0m \u001b[38;5;28mself\u001b[39m\u001b[38;5;241m.\u001b[39mreturncode \u001b[38;5;241m=\u001b[39m \u001b[38;5;28;01mNone\u001b[39;00m\n\u001b[1;32m     18\u001b[0m \u001b[38;5;28mself\u001b[39m\u001b[38;5;241m.\u001b[39mfinalizer \u001b[38;5;241m=\u001b[39m \u001b[38;5;28;01mNone\u001b[39;00m\n\u001b[0;32m---> 19\u001b[0m \u001b[38;5;28;43mself\u001b[39;49m\u001b[38;5;241;43m.\u001b[39;49m\u001b[43m_launch\u001b[49m\u001b[43m(\u001b[49m\u001b[43mprocess_obj\u001b[49m\u001b[43m)\u001b[49m\n",
      "File \u001b[0;32m/usr/local/Cellar/python@3.11/3.11.5/Frameworks/Python.framework/Versions/3.11/lib/python3.11/multiprocessing/popen_spawn_posix.py:47\u001b[0m, in \u001b[0;36mPopen._launch\u001b[0;34m(self, process_obj)\u001b[0m\n\u001b[1;32m     45\u001b[0m \u001b[38;5;28;01mtry\u001b[39;00m:\n\u001b[1;32m     46\u001b[0m     reduction\u001b[38;5;241m.\u001b[39mdump(prep_data, fp)\n\u001b[0;32m---> 47\u001b[0m     \u001b[43mreduction\u001b[49m\u001b[38;5;241;43m.\u001b[39;49m\u001b[43mdump\u001b[49m\u001b[43m(\u001b[49m\u001b[43mprocess_obj\u001b[49m\u001b[43m,\u001b[49m\u001b[43m \u001b[49m\u001b[43mfp\u001b[49m\u001b[43m)\u001b[49m\n\u001b[1;32m     48\u001b[0m \u001b[38;5;28;01mfinally\u001b[39;00m:\n\u001b[1;32m     49\u001b[0m     set_spawning_popen(\u001b[38;5;28;01mNone\u001b[39;00m)\n",
      "File \u001b[0;32m/usr/local/Cellar/python@3.11/3.11.5/Frameworks/Python.framework/Versions/3.11/lib/python3.11/multiprocessing/reduction.py:60\u001b[0m, in \u001b[0;36mdump\u001b[0;34m(obj, file, protocol)\u001b[0m\n\u001b[1;32m     58\u001b[0m \u001b[38;5;28;01mdef\u001b[39;00m \u001b[38;5;21mdump\u001b[39m(obj, file, protocol\u001b[38;5;241m=\u001b[39m\u001b[38;5;28;01mNone\u001b[39;00m):\n\u001b[1;32m     59\u001b[0m \u001b[38;5;250m    \u001b[39m\u001b[38;5;124;03m'''Replacement for pickle.dump() using ForkingPickler.'''\u001b[39;00m\n\u001b[0;32m---> 60\u001b[0m     \u001b[43mForkingPickler\u001b[49m\u001b[43m(\u001b[49m\u001b[43mfile\u001b[49m\u001b[43m,\u001b[49m\u001b[43m \u001b[49m\u001b[43mprotocol\u001b[49m\u001b[43m)\u001b[49m\u001b[38;5;241;43m.\u001b[39;49m\u001b[43mdump\u001b[49m\u001b[43m(\u001b[49m\u001b[43mobj\u001b[49m\u001b[43m)\u001b[49m\n",
      "\u001b[0;31mAttributeError\u001b[0m: Can't pickle local object 'Program.run_scip.<locals>.<lambda>'"
     ]
    }
   ],
   "source": [
    "# translate causal inference problem into optimization program\n",
    "program = problem.write_program()\n",
    "\n",
    "# run optimisation routine, argument saves results at filename\n",
    "results = program.run_scip()\n",
    "\n",
    "# examine complete output\n",
    "# - \"dual\" bounds are guaranteed-valid causal bounds on the estimand\n",
    "# - \"primal\" bounds are used to evaluate the sharpness of those bounds\n",
    "# when the duals are equal to the primals, the reported bounds are perfectly sharp\n",
    "# for more details, including the interpretation of theta and epsilon, see Duarte et al (2023)\n",
    "results"
   ]
  },
  {
   "cell_type": "code",
   "execution_count": 378,
   "id": "51252d27-96ca-4be0-9948-73b9ff076fe0",
   "metadata": {},
   "outputs": [
    {
     "data": {
      "text/plain": [
       "'Based on these data and assumptions, the ATE is in the range [-0.494, 0.624]'"
      ]
     },
     "execution_count": 378,
     "metadata": {},
     "output_type": "execute_result"
    }
   ],
   "source": [
    "\"Based on these data and assumptions, the ATE is in the range [{lower:0.3f}, {upper:0.3f}]\".format(\n",
    "    lower = results[0][\"dual\"],  # index [0] selects lower bound, key [\"dual\"] selects guaranteed-valid bound\n",
    "    upper = results[1][\"dual\"],  # index [1] selects upper bound, key [\"dual\"] selects guaranteed-valid bound\n",
    ")"
   ]
  },
  {
   "cell_type": "markdown",
   "id": "df71409e-8472-4b57-86f4-c0d0a6d35249",
   "metadata": {},
   "source": [
    "In other words, based on plausible assumptions, analysts cannot conclude that there is any effect of the treatment on outcome in this setting."
   ]
  },
  {
   "cell_type": "markdown",
   "id": "5e8133ec-e90b-41bf-b686-fa4c4434303a",
   "metadata": {},
   "source": [
    "# References"
   ]
  },
  {
   "cell_type": "markdown",
   "id": "4bc0c805-e181-4496-9941-e805b6aff656",
   "metadata": {},
   "source": [
    "Guilherme Duarte, Noam Finkelstein, Dean Knox, Jonathan Mummolo, and Ilya Shpitser. 2023. \"An Automated Approach to Causal Inference in Discrete Settings,\" *Journal of the American Statistical Association* (Theory and Methods). https://doi.org/10.1080/01621459.2023.2216909\n",
    "\n",
    "Miguel Hernan, James Robins. 2020. Causal Inference: What If. Boca Raton: Chapman & Hall/CRC."
   ]
  }
 ],
 "metadata": {
  "kernelspec": {
   "display_name": "Python 3 (ipykernel)",
   "language": "python",
   "name": "python3"
  },
  "language_info": {
   "codemirror_mode": {
    "name": "ipython",
    "version": 3
   },
   "file_extension": ".py",
   "mimetype": "text/x-python",
   "name": "python",
   "nbconvert_exporter": "python",
   "pygments_lexer": "ipython3",
   "version": "3.11.5"
  }
 },
 "nbformat": 4,
 "nbformat_minor": 5
}
